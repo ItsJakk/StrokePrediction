{
  "cells": [
    {
      "cell_type": "markdown",
      "id": "b7208e6a",
      "metadata": {
        "id": "b7208e6a"
      },
      "source": [
        "\\# Stroke Prediction\n"
      ]
    },
    {
      "cell_type": "markdown",
      "id": "5b8b7e12",
      "metadata": {
        "id": "5b8b7e12"
      },
      "source": [
        "# Title: Prediction on Stroke"
      ]
    },
    {
      "cell_type": "markdown",
      "id": "017d29df",
      "metadata": {
        "id": "017d29df"
      },
      "source": [
        "## Data"
      ]
    },
    {
      "cell_type": "code",
      "execution_count": null,
      "id": "36ae1409",
      "metadata": {
        "id": "36ae1409"
      },
      "outputs": [],
      "source": [
        "import pandas as pd\n",
        "import numpy as np\n",
        "import matplotlib.pyplot as plt\n",
        "import seaborn as sns"
      ]
    },
    {
      "cell_type": "markdown",
      "id": "f06bc180",
      "metadata": {
        "id": "f06bc180"
      },
      "source": [
        "The dataset will be imported and named to variable as data."
      ]
    },
    {
      "cell_type": "code",
      "execution_count": null,
      "id": "f96fcca7",
      "metadata": {
        "colab": {
          "base_uri": "https://localhost:8080/",
          "height": 328
        },
        "id": "f96fcca7",
        "outputId": "c09f808a-aa44-4d43-fbb0-c2fa7ee2e740"
      },
      "outputs": [
        {
          "output_type": "error",
          "ename": "FileNotFoundError",
          "evalue": "ignored",
          "traceback": [
            "\u001b[0;31m---------------------------------------------------------------------------\u001b[0m",
            "\u001b[0;31mFileNotFoundError\u001b[0m                         Traceback (most recent call last)",
            "\u001b[0;32m<ipython-input-3-f6ce135ce55c>\u001b[0m in \u001b[0;36m<cell line: 1>\u001b[0;34m()\u001b[0m\n\u001b[0;32m----> 1\u001b[0;31m \u001b[0mdf\u001b[0m \u001b[0;34m=\u001b[0m \u001b[0mpd\u001b[0m\u001b[0;34m.\u001b[0m\u001b[0mread_csv\u001b[0m\u001b[0;34m(\u001b[0m\u001b[0;34m\"stroke.csv\"\u001b[0m\u001b[0;34m,\u001b[0m \u001b[0mheader\u001b[0m\u001b[0;34m=\u001b[0m\u001b[0;36m0\u001b[0m\u001b[0;34m)\u001b[0m\u001b[0;34m\u001b[0m\u001b[0;34m\u001b[0m\u001b[0m\n\u001b[0m\u001b[1;32m      2\u001b[0m \u001b[0mdf\u001b[0m\u001b[0;34m.\u001b[0m\u001b[0mhead\u001b[0m\u001b[0;34m(\u001b[0m\u001b[0;34m)\u001b[0m\u001b[0;34m\u001b[0m\u001b[0;34m\u001b[0m\u001b[0m\n",
            "\u001b[0;32m/usr/local/lib/python3.10/dist-packages/pandas/util/_decorators.py\u001b[0m in \u001b[0;36mwrapper\u001b[0;34m(*args, **kwargs)\u001b[0m\n\u001b[1;32m    209\u001b[0m                 \u001b[0;32melse\u001b[0m\u001b[0;34m:\u001b[0m\u001b[0;34m\u001b[0m\u001b[0;34m\u001b[0m\u001b[0m\n\u001b[1;32m    210\u001b[0m                     \u001b[0mkwargs\u001b[0m\u001b[0;34m[\u001b[0m\u001b[0mnew_arg_name\u001b[0m\u001b[0;34m]\u001b[0m \u001b[0;34m=\u001b[0m \u001b[0mnew_arg_value\u001b[0m\u001b[0;34m\u001b[0m\u001b[0;34m\u001b[0m\u001b[0m\n\u001b[0;32m--> 211\u001b[0;31m             \u001b[0;32mreturn\u001b[0m \u001b[0mfunc\u001b[0m\u001b[0;34m(\u001b[0m\u001b[0;34m*\u001b[0m\u001b[0margs\u001b[0m\u001b[0;34m,\u001b[0m \u001b[0;34m**\u001b[0m\u001b[0mkwargs\u001b[0m\u001b[0;34m)\u001b[0m\u001b[0;34m\u001b[0m\u001b[0;34m\u001b[0m\u001b[0m\n\u001b[0m\u001b[1;32m    212\u001b[0m \u001b[0;34m\u001b[0m\u001b[0m\n\u001b[1;32m    213\u001b[0m         \u001b[0;32mreturn\u001b[0m \u001b[0mcast\u001b[0m\u001b[0;34m(\u001b[0m\u001b[0mF\u001b[0m\u001b[0;34m,\u001b[0m \u001b[0mwrapper\u001b[0m\u001b[0;34m)\u001b[0m\u001b[0;34m\u001b[0m\u001b[0;34m\u001b[0m\u001b[0m\n",
            "\u001b[0;32m/usr/local/lib/python3.10/dist-packages/pandas/util/_decorators.py\u001b[0m in \u001b[0;36mwrapper\u001b[0;34m(*args, **kwargs)\u001b[0m\n\u001b[1;32m    329\u001b[0m                     \u001b[0mstacklevel\u001b[0m\u001b[0;34m=\u001b[0m\u001b[0mfind_stack_level\u001b[0m\u001b[0;34m(\u001b[0m\u001b[0;34m)\u001b[0m\u001b[0;34m,\u001b[0m\u001b[0;34m\u001b[0m\u001b[0;34m\u001b[0m\u001b[0m\n\u001b[1;32m    330\u001b[0m                 )\n\u001b[0;32m--> 331\u001b[0;31m             \u001b[0;32mreturn\u001b[0m \u001b[0mfunc\u001b[0m\u001b[0;34m(\u001b[0m\u001b[0;34m*\u001b[0m\u001b[0margs\u001b[0m\u001b[0;34m,\u001b[0m \u001b[0;34m**\u001b[0m\u001b[0mkwargs\u001b[0m\u001b[0;34m)\u001b[0m\u001b[0;34m\u001b[0m\u001b[0;34m\u001b[0m\u001b[0m\n\u001b[0m\u001b[1;32m    332\u001b[0m \u001b[0;34m\u001b[0m\u001b[0m\n\u001b[1;32m    333\u001b[0m         \u001b[0;31m# error: \"Callable[[VarArg(Any), KwArg(Any)], Any]\" has no\u001b[0m\u001b[0;34m\u001b[0m\u001b[0;34m\u001b[0m\u001b[0m\n",
            "\u001b[0;32m/usr/local/lib/python3.10/dist-packages/pandas/io/parsers/readers.py\u001b[0m in \u001b[0;36mread_csv\u001b[0;34m(filepath_or_buffer, sep, delimiter, header, names, index_col, usecols, squeeze, prefix, mangle_dupe_cols, dtype, engine, converters, true_values, false_values, skipinitialspace, skiprows, skipfooter, nrows, na_values, keep_default_na, na_filter, verbose, skip_blank_lines, parse_dates, infer_datetime_format, keep_date_col, date_parser, dayfirst, cache_dates, iterator, chunksize, compression, thousands, decimal, lineterminator, quotechar, quoting, doublequote, escapechar, comment, encoding, encoding_errors, dialect, error_bad_lines, warn_bad_lines, on_bad_lines, delim_whitespace, low_memory, memory_map, float_precision, storage_options)\u001b[0m\n\u001b[1;32m    948\u001b[0m     \u001b[0mkwds\u001b[0m\u001b[0;34m.\u001b[0m\u001b[0mupdate\u001b[0m\u001b[0;34m(\u001b[0m\u001b[0mkwds_defaults\u001b[0m\u001b[0;34m)\u001b[0m\u001b[0;34m\u001b[0m\u001b[0;34m\u001b[0m\u001b[0m\n\u001b[1;32m    949\u001b[0m \u001b[0;34m\u001b[0m\u001b[0m\n\u001b[0;32m--> 950\u001b[0;31m     \u001b[0;32mreturn\u001b[0m \u001b[0m_read\u001b[0m\u001b[0;34m(\u001b[0m\u001b[0mfilepath_or_buffer\u001b[0m\u001b[0;34m,\u001b[0m \u001b[0mkwds\u001b[0m\u001b[0;34m)\u001b[0m\u001b[0;34m\u001b[0m\u001b[0;34m\u001b[0m\u001b[0m\n\u001b[0m\u001b[1;32m    951\u001b[0m \u001b[0;34m\u001b[0m\u001b[0m\n\u001b[1;32m    952\u001b[0m \u001b[0;34m\u001b[0m\u001b[0m\n",
            "\u001b[0;32m/usr/local/lib/python3.10/dist-packages/pandas/io/parsers/readers.py\u001b[0m in \u001b[0;36m_read\u001b[0;34m(filepath_or_buffer, kwds)\u001b[0m\n\u001b[1;32m    603\u001b[0m \u001b[0;34m\u001b[0m\u001b[0m\n\u001b[1;32m    604\u001b[0m     \u001b[0;31m# Create the parser.\u001b[0m\u001b[0;34m\u001b[0m\u001b[0;34m\u001b[0m\u001b[0m\n\u001b[0;32m--> 605\u001b[0;31m     \u001b[0mparser\u001b[0m \u001b[0;34m=\u001b[0m \u001b[0mTextFileReader\u001b[0m\u001b[0;34m(\u001b[0m\u001b[0mfilepath_or_buffer\u001b[0m\u001b[0;34m,\u001b[0m \u001b[0;34m**\u001b[0m\u001b[0mkwds\u001b[0m\u001b[0;34m)\u001b[0m\u001b[0;34m\u001b[0m\u001b[0;34m\u001b[0m\u001b[0m\n\u001b[0m\u001b[1;32m    606\u001b[0m \u001b[0;34m\u001b[0m\u001b[0m\n\u001b[1;32m    607\u001b[0m     \u001b[0;32mif\u001b[0m \u001b[0mchunksize\u001b[0m \u001b[0;32mor\u001b[0m \u001b[0miterator\u001b[0m\u001b[0;34m:\u001b[0m\u001b[0;34m\u001b[0m\u001b[0;34m\u001b[0m\u001b[0m\n",
            "\u001b[0;32m/usr/local/lib/python3.10/dist-packages/pandas/io/parsers/readers.py\u001b[0m in \u001b[0;36m__init__\u001b[0;34m(self, f, engine, **kwds)\u001b[0m\n\u001b[1;32m   1440\u001b[0m \u001b[0;34m\u001b[0m\u001b[0m\n\u001b[1;32m   1441\u001b[0m         \u001b[0mself\u001b[0m\u001b[0;34m.\u001b[0m\u001b[0mhandles\u001b[0m\u001b[0;34m:\u001b[0m \u001b[0mIOHandles\u001b[0m \u001b[0;34m|\u001b[0m \u001b[0;32mNone\u001b[0m \u001b[0;34m=\u001b[0m \u001b[0;32mNone\u001b[0m\u001b[0;34m\u001b[0m\u001b[0;34m\u001b[0m\u001b[0m\n\u001b[0;32m-> 1442\u001b[0;31m         \u001b[0mself\u001b[0m\u001b[0;34m.\u001b[0m\u001b[0m_engine\u001b[0m \u001b[0;34m=\u001b[0m \u001b[0mself\u001b[0m\u001b[0;34m.\u001b[0m\u001b[0m_make_engine\u001b[0m\u001b[0;34m(\u001b[0m\u001b[0mf\u001b[0m\u001b[0;34m,\u001b[0m \u001b[0mself\u001b[0m\u001b[0;34m.\u001b[0m\u001b[0mengine\u001b[0m\u001b[0;34m)\u001b[0m\u001b[0;34m\u001b[0m\u001b[0;34m\u001b[0m\u001b[0m\n\u001b[0m\u001b[1;32m   1443\u001b[0m \u001b[0;34m\u001b[0m\u001b[0m\n\u001b[1;32m   1444\u001b[0m     \u001b[0;32mdef\u001b[0m \u001b[0mclose\u001b[0m\u001b[0;34m(\u001b[0m\u001b[0mself\u001b[0m\u001b[0;34m)\u001b[0m \u001b[0;34m->\u001b[0m \u001b[0;32mNone\u001b[0m\u001b[0;34m:\u001b[0m\u001b[0;34m\u001b[0m\u001b[0;34m\u001b[0m\u001b[0m\n",
            "\u001b[0;32m/usr/local/lib/python3.10/dist-packages/pandas/io/parsers/readers.py\u001b[0m in \u001b[0;36m_make_engine\u001b[0;34m(self, f, engine)\u001b[0m\n\u001b[1;32m   1733\u001b[0m                 \u001b[0;32mif\u001b[0m \u001b[0;34m\"b\"\u001b[0m \u001b[0;32mnot\u001b[0m \u001b[0;32min\u001b[0m \u001b[0mmode\u001b[0m\u001b[0;34m:\u001b[0m\u001b[0;34m\u001b[0m\u001b[0;34m\u001b[0m\u001b[0m\n\u001b[1;32m   1734\u001b[0m                     \u001b[0mmode\u001b[0m \u001b[0;34m+=\u001b[0m \u001b[0;34m\"b\"\u001b[0m\u001b[0;34m\u001b[0m\u001b[0;34m\u001b[0m\u001b[0m\n\u001b[0;32m-> 1735\u001b[0;31m             self.handles = get_handle(\n\u001b[0m\u001b[1;32m   1736\u001b[0m                 \u001b[0mf\u001b[0m\u001b[0;34m,\u001b[0m\u001b[0;34m\u001b[0m\u001b[0;34m\u001b[0m\u001b[0m\n\u001b[1;32m   1737\u001b[0m                 \u001b[0mmode\u001b[0m\u001b[0;34m,\u001b[0m\u001b[0;34m\u001b[0m\u001b[0;34m\u001b[0m\u001b[0m\n",
            "\u001b[0;32m/usr/local/lib/python3.10/dist-packages/pandas/io/common.py\u001b[0m in \u001b[0;36mget_handle\u001b[0;34m(path_or_buf, mode, encoding, compression, memory_map, is_text, errors, storage_options)\u001b[0m\n\u001b[1;32m    854\u001b[0m         \u001b[0;32mif\u001b[0m \u001b[0mioargs\u001b[0m\u001b[0;34m.\u001b[0m\u001b[0mencoding\u001b[0m \u001b[0;32mand\u001b[0m \u001b[0;34m\"b\"\u001b[0m \u001b[0;32mnot\u001b[0m \u001b[0;32min\u001b[0m \u001b[0mioargs\u001b[0m\u001b[0;34m.\u001b[0m\u001b[0mmode\u001b[0m\u001b[0;34m:\u001b[0m\u001b[0;34m\u001b[0m\u001b[0;34m\u001b[0m\u001b[0m\n\u001b[1;32m    855\u001b[0m             \u001b[0;31m# Encoding\u001b[0m\u001b[0;34m\u001b[0m\u001b[0;34m\u001b[0m\u001b[0m\n\u001b[0;32m--> 856\u001b[0;31m             handle = open(\n\u001b[0m\u001b[1;32m    857\u001b[0m                 \u001b[0mhandle\u001b[0m\u001b[0;34m,\u001b[0m\u001b[0;34m\u001b[0m\u001b[0;34m\u001b[0m\u001b[0m\n\u001b[1;32m    858\u001b[0m                 \u001b[0mioargs\u001b[0m\u001b[0;34m.\u001b[0m\u001b[0mmode\u001b[0m\u001b[0;34m,\u001b[0m\u001b[0;34m\u001b[0m\u001b[0;34m\u001b[0m\u001b[0m\n",
            "\u001b[0;31mFileNotFoundError\u001b[0m: [Errno 2] No such file or directory: 'stroke.csv'"
          ]
        }
      ],
      "source": [
        "df = pd.read_csv(\"stroke.csv\", header=0)\n",
        "df.head()"
      ]
    },
    {
      "cell_type": "markdown",
      "id": "fb8dd67b",
      "metadata": {
        "id": "fb8dd67b"
      },
      "source": [
        "### Source of Data"
      ]
    },
    {
      "cell_type": "markdown",
      "id": "5b5b54e9",
      "metadata": {
        "id": "5b5b54e9"
      },
      "source": [
        "The data is collected from the World Health Organisation (WHO) and uploaded to Kaggle where this dataset is obtained."
      ]
    },
    {
      "cell_type": "markdown",
      "id": "7a41704e",
      "metadata": {
        "id": "7a41704e"
      },
      "source": [
        "### Description of Data"
      ]
    },
    {
      "cell_type": "markdown",
      "id": "65113d42",
      "metadata": {
        "id": "65113d42"
      },
      "source": [
        "![datadescription.jpg](datadescription.jpg)"
      ]
    },
    {
      "cell_type": "code",
      "execution_count": null,
      "id": "a20c6e92",
      "metadata": {
        "id": "a20c6e92"
      },
      "outputs": [],
      "source": [
        "df.dtypes"
      ]
    },
    {
      "cell_type": "markdown",
      "id": "4a99e9cd",
      "metadata": {
        "id": "4a99e9cd"
      },
      "source": [
        "The above details show the data type of each variable. We can see that this dataset contains 3 numerical variables which are the 'age', 'avg_glucose-level', and also 'bmi'. For the other variables, some are they are in categorical which they are 'gender', 'hypertension', 'heart_disease', 'ever_married', 'work_type', 'Residence_type', and 'smoking_status'.\n",
        "\n",
        "In addition, we can know that all the variables are independent variables except for the 'stroke' attribute, it is a dependent variables, our target class. It makes sense to say stroke is a category variable because it is not discrete or continuous value.\n",
        "\n",
        "The features 'hypertension', 'heart_disease', and 'stroke' have been encoded, with 0 representing not present and 1 representing present. 'gender', 'ever_married','work_type', 'residence_type' and 'smoking_status' will be encoded in the data preparation section. The variable 'ID' is useless and it will be dropped in the data preparation part."
      ]
    },
    {
      "cell_type": "code",
      "execution_count": null,
      "id": "e548c63d",
      "metadata": {
        "id": "e548c63d"
      },
      "outputs": [],
      "source": [
        "df.shape"
      ]
    },
    {
      "cell_type": "markdown",
      "id": "7f420582",
      "metadata": {
        "id": "7f420582"
      },
      "source": [
        "There are 5110 rows and 12 coloumns in the dataset."
      ]
    },
    {
      "cell_type": "code",
      "execution_count": null,
      "id": "4b36b50a",
      "metadata": {
        "id": "4b36b50a"
      },
      "outputs": [],
      "source": [
        "numd = [feature for feature in df.columns if df[feature].dtype == 'float']\n",
        "numd_df = df[numd]\n",
        "print(\"The number of numerical attributes: \", len(numd))\n",
        "print(numd)"
      ]
    },
    {
      "cell_type": "code",
      "execution_count": null,
      "id": "00c13f93",
      "metadata": {
        "id": "00c13f93"
      },
      "outputs": [],
      "source": [
        "caterd = [feature for feature in df.columns if feature not in numd and feature != 'stroke' and feature != 'id']\n",
        "print(\"The number of categorical attributes: \", len(caterd))\n",
        "print(caterd)"
      ]
    },
    {
      "cell_type": "markdown",
      "id": "fa427fc4",
      "metadata": {
        "id": "fa427fc4"
      },
      "source": [
        "Above we can tell conclude that this dataset contains 3 numerical features and 7 categorical features."
      ]
    },
    {
      "cell_type": "markdown",
      "id": "77a6fefe",
      "metadata": {
        "id": "77a6fefe"
      },
      "source": [
        "### Data Cleaning"
      ]
    },
    {
      "cell_type": "markdown",
      "id": "ac814a4a",
      "metadata": {
        "id": "ac814a4a"
      },
      "source": [
        "#### Dropping id"
      ]
    },
    {
      "cell_type": "markdown",
      "id": "c468db97",
      "metadata": {
        "id": "c468db97"
      },
      "source": [
        "The 'id' column is dropped since it is not a relevant feature to the target variable."
      ]
    },
    {
      "cell_type": "code",
      "execution_count": null,
      "id": "b0463542",
      "metadata": {
        "id": "b0463542"
      },
      "outputs": [],
      "source": [
        "df = df.drop(columns='id')\n",
        "df.head(5)"
      ]
    },
    {
      "cell_type": "markdown",
      "id": "6261c90f",
      "metadata": {
        "id": "6261c90f"
      },
      "source": [
        "It is shown that the 'id' column is dropped."
      ]
    },
    {
      "cell_type": "markdown",
      "id": "77b66d26",
      "metadata": {
        "id": "77b66d26"
      },
      "source": [
        "#### Filling null value"
      ]
    },
    {
      "cell_type": "code",
      "execution_count": null,
      "id": "ccb1e2af",
      "metadata": {
        "id": "ccb1e2af"
      },
      "outputs": [],
      "source": [
        "#Count the empty (NaN, NAN, na) values in each column\n",
        "df.isna().sum()"
      ]
    },
    {
      "cell_type": "markdown",
      "id": "6d6a59e3",
      "metadata": {
        "id": "6d6a59e3"
      },
      "source": [
        "There are 201 missing values in the bmi column."
      ]
    },
    {
      "cell_type": "code",
      "execution_count": null,
      "id": "8b99447e",
      "metadata": {
        "id": "8b99447e"
      },
      "outputs": [],
      "source": [
        "#DEALING WITH MISSING VALUES\n",
        "plt.title('Missing Value Status',fontweight='bold')\n",
        "ax = sns.heatmap(df.isna().sum().to_frame(),annot=True,fmt='d',cmap='vlag')\n",
        "ax.set_xlabel('Amount Missing')\n",
        "plt.savefig('null value.png')\n",
        "plt.show()"
      ]
    },
    {
      "cell_type": "markdown",
      "id": "561b404e",
      "metadata": {
        "id": "561b404e"
      },
      "source": [
        "Null value exists in the bmi column.  "
      ]
    },
    {
      "cell_type": "code",
      "execution_count": null,
      "id": "945c03e7",
      "metadata": {
        "id": "945c03e7"
      },
      "outputs": [],
      "source": [
        "#replacing Null values\n",
        "mean_bmi = df['bmi'].mean()\n",
        "df.fillna(mean_bmi, inplace=True)"
      ]
    },
    {
      "cell_type": "code",
      "execution_count": null,
      "id": "6e0b50e9",
      "metadata": {
        "id": "6e0b50e9"
      },
      "outputs": [],
      "source": [
        "#DEALING WITH MISSING VALUES\n",
        "plt.title('Missing Value Status',fontweight='bold')\n",
        "ax = sns.heatmap(df.isna().sum().to_frame(),annot=True,fmt='d',cmap='vlag')\n",
        "ax.set_xlabel('Amount Missing')\n",
        "plt.savefig('cleaned null value.png')\n",
        "plt.show()"
      ]
    },
    {
      "cell_type": "markdown",
      "id": "df171d23",
      "metadata": {
        "id": "df171d23"
      },
      "source": [
        "It is shown that there are no more null values in the dataset."
      ]
    },
    {
      "cell_type": "code",
      "execution_count": null,
      "id": "6a2856f7",
      "metadata": {
        "id": "6a2856f7"
      },
      "outputs": [],
      "source": [
        "#Check for duplicates\n",
        "print(df.duplicated().value_counts())"
      ]
    },
    {
      "cell_type": "markdown",
      "id": "a69bb94a",
      "metadata": {
        "id": "a69bb94a"
      },
      "source": [
        "The result shows that there are no duplicated values."
      ]
    },
    {
      "cell_type": "markdown",
      "id": "734a64bc",
      "metadata": {
        "id": "734a64bc"
      },
      "source": [
        "#### Settling outliers"
      ]
    },
    {
      "cell_type": "markdown",
      "id": "94a26070",
      "metadata": {
        "id": "94a26070"
      },
      "source": [
        "Boxplots are used to check for outliers in the numerical variables in this dataset."
      ]
    },
    {
      "cell_type": "code",
      "execution_count": null,
      "id": "cad9458a",
      "metadata": {
        "id": "cad9458a"
      },
      "outputs": [],
      "source": [
        "df.boxplot(column=['age', 'avg_glucose_level', 'bmi'], sym='r')\n",
        "plt.savefig('outliers.png')"
      ]
    },
    {
      "cell_type": "markdown",
      "id": "33fe745d",
      "metadata": {
        "id": "33fe745d"
      },
      "source": [
        "The features 'avg_glucose_level' and 'bmi' appeared to have large number of outliers where the outliers are represented by the red circles above and below the maximum and minimum range of the features. Outliers in 'avg_glucose_level' and 'bmi' will be dealt by imputing it with the median of its feature."
      ]
    },
    {
      "cell_type": "code",
      "execution_count": null,
      "id": "451b9ba4",
      "metadata": {
        "id": "451b9ba4"
      },
      "outputs": [],
      "source": [
        "sns.boxplot(data = df, x = 'bmi')\n",
        "\n",
        "Q1 = np.percentile(df['bmi'], 25, interpolation = 'midpoint')\n",
        "Q3 = np.percentile(df['bmi'], 75, interpolation = 'midpoint')\n",
        "IQR = Q3 - Q1\n",
        "print(\"Minimum:\", Q1 - 1.5*IQR)\n",
        "print(\"Maximum:\", Q3 + 1.5*IQR)"
      ]
    },
    {
      "cell_type": "markdown",
      "id": "23a655f5",
      "metadata": {
        "id": "23a655f5"
      },
      "source": [
        "As from the above, it can be seen that the values of 'bmi' values exceeding 46.3 and less than 10.3 are outliers. These values are then replaced with the median."
      ]
    },
    {
      "cell_type": "code",
      "execution_count": null,
      "id": "04485dce",
      "metadata": {
        "colab": {
          "base_uri": "https://localhost:8080/",
          "height": 235
        },
        "id": "04485dce",
        "outputId": "f7bad9bb-7a47-4b0a-f745-ed925867f5d9"
      },
      "outputs": [
        {
          "output_type": "error",
          "ename": "NameError",
          "evalue": "ignored",
          "traceback": [
            "\u001b[0;31m---------------------------------------------------------------------------\u001b[0m",
            "\u001b[0;31mNameError\u001b[0m                                 Traceback (most recent call last)",
            "\u001b[0;32m<ipython-input-4-cf264094473b>\u001b[0m in \u001b[0;36m<cell line: 1>\u001b[0;34m()\u001b[0m\n\u001b[0;32m----> 1\u001b[0;31m \u001b[0mmedian_bmi\u001b[0m \u001b[0;34m=\u001b[0m \u001b[0mdf\u001b[0m\u001b[0;34m[\u001b[0m\u001b[0;34m'bmi'\u001b[0m\u001b[0;34m]\u001b[0m\u001b[0;34m.\u001b[0m\u001b[0mmedian\u001b[0m\u001b[0;34m(\u001b[0m\u001b[0;34m)\u001b[0m\u001b[0;34m\u001b[0m\u001b[0;34m\u001b[0m\u001b[0m\n\u001b[0m\u001b[1;32m      2\u001b[0m \u001b[0mdf\u001b[0m\u001b[0;34m[\u001b[0m\u001b[0;34m\"bmi\"\u001b[0m\u001b[0;34m]\u001b[0m \u001b[0;34m=\u001b[0m \u001b[0mdf\u001b[0m\u001b[0;34m[\u001b[0m\u001b[0;34m\"bmi\"\u001b[0m\u001b[0;34m]\u001b[0m\u001b[0;34m.\u001b[0m\u001b[0mapply\u001b[0m\u001b[0;34m(\u001b[0m\u001b[0;32mlambda\u001b[0m \u001b[0mx\u001b[0m\u001b[0;34m:\u001b[0m \u001b[0;36m46.2\u001b[0m \u001b[0;32mif\u001b[0m \u001b[0mx\u001b[0m \u001b[0;34m>\u001b[0m \u001b[0;36m46.2\u001b[0m \u001b[0;32melse\u001b[0m \u001b[0mx\u001b[0m\u001b[0;34m)\u001b[0m\u001b[0;34m\u001b[0m\u001b[0;34m\u001b[0m\u001b[0m\n\u001b[1;32m      3\u001b[0m \u001b[0mdf\u001b[0m\u001b[0;34m[\u001b[0m\u001b[0;34m\"bmi\"\u001b[0m\u001b[0;34m]\u001b[0m \u001b[0;34m=\u001b[0m \u001b[0mdf\u001b[0m\u001b[0;34m[\u001b[0m\u001b[0;34m\"bmi\"\u001b[0m\u001b[0;34m]\u001b[0m\u001b[0;34m.\u001b[0m\u001b[0mapply\u001b[0m\u001b[0;34m(\u001b[0m\u001b[0;32mlambda\u001b[0m \u001b[0mx\u001b[0m\u001b[0;34m:\u001b[0m \u001b[0;36m10.31\u001b[0m \u001b[0;32mif\u001b[0m \u001b[0mx\u001b[0m \u001b[0;34m<\u001b[0m \u001b[0;36m10.31\u001b[0m \u001b[0;32melse\u001b[0m \u001b[0mx\u001b[0m\u001b[0;34m)\u001b[0m\u001b[0;34m\u001b[0m\u001b[0;34m\u001b[0m\u001b[0m\n\u001b[1;32m      4\u001b[0m \u001b[0mdf\u001b[0m\u001b[0;34m[\u001b[0m\u001b[0;34m\"bmi\"\u001b[0m\u001b[0;34m]\u001b[0m \u001b[0;34m=\u001b[0m \u001b[0mdf\u001b[0m\u001b[0;34m[\u001b[0m\u001b[0;34m\"bmi\"\u001b[0m\u001b[0;34m]\u001b[0m\u001b[0;34m.\u001b[0m\u001b[0mfillna\u001b[0m\u001b[0;34m(\u001b[0m\u001b[0mmedian_bmi\u001b[0m\u001b[0;34m)\u001b[0m\u001b[0;34m\u001b[0m\u001b[0;34m\u001b[0m\u001b[0m\n\u001b[1;32m      5\u001b[0m \u001b[0msns\u001b[0m\u001b[0;34m.\u001b[0m\u001b[0mboxplot\u001b[0m\u001b[0;34m(\u001b[0m\u001b[0mdata\u001b[0m \u001b[0;34m=\u001b[0m \u001b[0mdf\u001b[0m\u001b[0;34m,\u001b[0m \u001b[0mx\u001b[0m \u001b[0;34m=\u001b[0m \u001b[0;34m'bmi'\u001b[0m\u001b[0;34m)\u001b[0m\u001b[0;34m\u001b[0m\u001b[0;34m\u001b[0m\u001b[0m\n",
            "\u001b[0;31mNameError\u001b[0m: name 'df' is not defined"
          ]
        }
      ],
      "source": [
        "median_bmi = df['bmi'].median()\n",
        "df[\"bmi\"] = df[\"bmi\"].apply(lambda x: 46.2 if x > 46.2 else x)\n",
        "df[\"bmi\"] = df[\"bmi\"].apply(lambda x: 10.31 if x < 10.31 else x)\n",
        "df[\"bmi\"] = df[\"bmi\"].fillna(median_bmi)\n",
        "sns.boxplot(data = df, x = 'bmi')"
      ]
    },
    {
      "cell_type": "code",
      "execution_count": null,
      "id": "bff54cf0",
      "metadata": {
        "id": "bff54cf0"
      },
      "outputs": [],
      "source": [
        "sns.boxplot(data = df, x = 'avg_glucose_level')\n",
        "\n",
        "Q1 = np.percentile(df['avg_glucose_level'], 25, interpolation = 'midpoint')\n",
        "Q3 = np.percentile(df['avg_glucose_level'], 75, interpolation = 'midpoint')\n",
        "IQR = Q3 - Q1\n",
        "print(\"Minimum:\", Q1 - 1.5*IQR)\n",
        "print(\"Maximum:\", Q3 + 1.5*IQR)"
      ]
    },
    {
      "cell_type": "markdown",
      "id": "0426c7d6",
      "metadata": {
        "id": "0426c7d6"
      },
      "source": [
        "For the feature 'avg_glucose_level', it can be seen that there are outliers where the values exceed 169.35. These values are then replaced with the median."
      ]
    },
    {
      "cell_type": "code",
      "execution_count": null,
      "id": "5fb69b60",
      "metadata": {
        "id": "5fb69b60"
      },
      "outputs": [],
      "source": [
        "median_bmi = df['avg_glucose_level'].median()\n",
        "df[\"avg_glucose_level\"] = df[\"avg_glucose_level\"].apply(lambda x: 169.3 if x > 169.3 else x)\n",
        "df[\"avg_glucose_level\"] = df[\"avg_glucose_level\"].apply(lambda x: 21.99 if x < 21.99 else x)\n",
        "df[\"avg_glucose_level\"] = df[\"avg_glucose_level\"].fillna(median_bmi)\n",
        "sns.boxplot(data = df, x = 'avg_glucose_level')\n",
        "plt.savefig('glucose_outliers.png')"
      ]
    },
    {
      "cell_type": "markdown",
      "id": "cfb65c39",
      "metadata": {
        "id": "cfb65c39"
      },
      "source": [
        "### Data Preparation"
      ]
    },
    {
      "cell_type": "markdown",
      "id": "bb2821c9",
      "metadata": {
        "id": "bb2821c9"
      },
      "source": [
        "#### Categories in each categorical variable"
      ]
    },
    {
      "cell_type": "code",
      "execution_count": null,
      "id": "838fac33",
      "metadata": {
        "scrolled": true,
        "id": "838fac33"
      },
      "outputs": [],
      "source": [
        "print('gender:', pd.unique(df['gender']))\n",
        "print('ever_married:', pd.unique(df['ever_married']))\n",
        "print('work_type:', pd.unique(df['work_type']))\n",
        "print('Residence_type:', pd.unique(df['Residence_type']))\n",
        "print('smoking_status:', pd.unique(df['smoking_status']))"
      ]
    },
    {
      "cell_type": "markdown",
      "id": "7134e093",
      "metadata": {
        "id": "7134e093"
      },
      "source": [
        "#### Removing 'Other' in gender"
      ]
    },
    {
      "cell_type": "markdown",
      "id": "308b9c64",
      "metadata": {
        "id": "308b9c64"
      },
      "source": [
        "For 'gender', the data \"Others\" may create outliers for the ML. Hence, there is a need to check the number of records which contain this value."
      ]
    },
    {
      "cell_type": "code",
      "execution_count": null,
      "id": "1b0aa658",
      "metadata": {
        "scrolled": true,
        "id": "1b0aa658"
      },
      "outputs": [],
      "source": [
        "df[df['gender'] == 'Other'].count()"
      ]
    },
    {
      "cell_type": "markdown",
      "id": "a88da466",
      "metadata": {
        "id": "a88da466"
      },
      "source": [
        "The number of record containing 'Other' value in the 'gender' feature is found to be 1. This record will be dropped."
      ]
    },
    {
      "cell_type": "code",
      "execution_count": null,
      "id": "9b504f1b",
      "metadata": {
        "id": "9b504f1b"
      },
      "outputs": [],
      "source": [
        "data_delete = df[df['gender'] == 'Other'].index\n",
        "df = df.drop(data_delete)\n",
        "\n",
        "df.groupby(['gender', 'stroke'])['stroke'].count()"
      ]
    },
    {
      "cell_type": "markdown",
      "id": "d830fe61",
      "metadata": {
        "id": "d830fe61"
      },
      "source": [
        "Now, the 'gender' feature is only left with values of 'Male' and 'Female'."
      ]
    },
    {
      "cell_type": "markdown",
      "id": "f31e6f1f",
      "metadata": {
        "id": "f31e6f1f"
      },
      "source": [
        "### Statistics of the Data"
      ]
    },
    {
      "cell_type": "code",
      "execution_count": null,
      "id": "2acfcd19",
      "metadata": {
        "id": "2acfcd19"
      },
      "outputs": [],
      "source": [
        "numerical_features = df[['age', 'avg_glucose_level', 'bmi']]\n",
        "numerical_features_stats = numerical_features.describe()\n",
        "numerical_features_stats"
      ]
    },
    {
      "cell_type": "markdown",
      "id": "15e00428",
      "metadata": {
        "id": "15e00428"
      },
      "source": [
        "The mean shows that the average age is at 43 years old. Moving on, the mean for average glucose level is 101 which indicates a normal blood sugar level. Lastly, the mean for bmi is 28.72 which indicates overweight."
      ]
    },
    {
      "cell_type": "code",
      "execution_count": null,
      "id": "d03cac1a",
      "metadata": {
        "id": "d03cac1a"
      },
      "outputs": [],
      "source": [
        "dfi.export(numerical_features_stats, 'statistics.png')"
      ]
    },
    {
      "cell_type": "markdown",
      "id": "6fa4c646",
      "metadata": {
        "id": "6fa4c646"
      },
      "source": [
        "#### Frequency Distribution of Categorical Variable"
      ]
    },
    {
      "cell_type": "code",
      "execution_count": null,
      "id": "8840def2",
      "metadata": {
        "id": "8840def2"
      },
      "outputs": [],
      "source": [
        "#Get a count of the number of '1' and '0' for stroke\n",
        "df['stroke'].value_counts()"
      ]
    },
    {
      "cell_type": "markdown",
      "id": "3c98a0dd",
      "metadata": {
        "id": "3c98a0dd"
      },
      "source": [
        "There are 4861 individuals which does not have stroke and 249 individuals who have stroke."
      ]
    },
    {
      "cell_type": "code",
      "execution_count": null,
      "id": "dfd6f910",
      "metadata": {
        "colab": {
          "base_uri": "https://localhost:8080/",
          "height": 183
        },
        "id": "dfd6f910",
        "outputId": "70ce5955-7b24-4f62-9316-5965b2a62139"
      },
      "outputs": [
        {
          "output_type": "error",
          "ename": "NameError",
          "evalue": "ignored",
          "traceback": [
            "\u001b[0;31m---------------------------------------------------------------------------\u001b[0m",
            "\u001b[0;31mNameError\u001b[0m                                 Traceback (most recent call last)",
            "\u001b[0;32m<ipython-input-5-02eda23bad55>\u001b[0m in \u001b[0;36m<cell line: 2>\u001b[0;34m()\u001b[0m\n\u001b[1;32m      1\u001b[0m \u001b[0;31m#Get a count of the number of '1' and '0' for hypertension\u001b[0m\u001b[0;34m\u001b[0m\u001b[0;34m\u001b[0m\u001b[0m\n\u001b[0;32m----> 2\u001b[0;31m \u001b[0mdf\u001b[0m\u001b[0;34m[\u001b[0m\u001b[0;34m'hypertension'\u001b[0m\u001b[0;34m]\u001b[0m\u001b[0;34m.\u001b[0m\u001b[0mvalue_counts\u001b[0m\u001b[0;34m(\u001b[0m\u001b[0;34m)\u001b[0m\u001b[0;34m\u001b[0m\u001b[0;34m\u001b[0m\u001b[0m\n\u001b[0m",
            "\u001b[0;31mNameError\u001b[0m: name 'df' is not defined"
          ]
        }
      ],
      "source": [
        "#Get a count of the number of '1' and '0' for hypertension\n",
        "df['hypertension'].value_counts()"
      ]
    },
    {
      "cell_type": "markdown",
      "id": "f3532e37",
      "metadata": {
        "id": "f3532e37"
      },
      "source": [
        "There are 4612 individuals which does not have hypertension and 498 individuals who have hypertension."
      ]
    },
    {
      "cell_type": "code",
      "execution_count": null,
      "id": "699e70dc",
      "metadata": {
        "id": "699e70dc"
      },
      "outputs": [],
      "source": [
        "#Get a count of the number of '1' and '0' for heart disease\n",
        "df['heart_disease'].value_counts()"
      ]
    },
    {
      "cell_type": "markdown",
      "id": "2aab5a60",
      "metadata": {
        "id": "2aab5a60"
      },
      "source": [
        "There are 4834 individuals who does not have heart disease and 276 individuals who have heart disease."
      ]
    },
    {
      "cell_type": "code",
      "execution_count": null,
      "id": "930807d6",
      "metadata": {
        "id": "930807d6"
      },
      "outputs": [],
      "source": [
        "#Frequency table of smoking status\n",
        "df['smoking_status'].value_counts()"
      ]
    },
    {
      "cell_type": "markdown",
      "id": "ccd3a20b",
      "metadata": {
        "id": "ccd3a20b"
      },
      "source": [
        "There are 1892 individuals who have never smoked, 885 individuals who have formerly smoked, 789 individuals who are currently smoking and 1544 individuals with unknown smoking status"
      ]
    },
    {
      "cell_type": "code",
      "execution_count": null,
      "id": "d1408613",
      "metadata": {
        "id": "d1408613"
      },
      "outputs": [],
      "source": [
        "#Frequency table of genders\n",
        "df['gender'].value_counts()"
      ]
    },
    {
      "cell_type": "markdown",
      "id": "5cd8ad90",
      "metadata": {
        "id": "5cd8ad90"
      },
      "source": [
        "This shows that there are 2994 females, and 2115 males in this dataset."
      ]
    },
    {
      "cell_type": "code",
      "execution_count": null,
      "id": "2e59f6fe",
      "metadata": {
        "id": "2e59f6fe"
      },
      "outputs": [],
      "source": [
        "#Frequency table of work types\n",
        "df['work_type'].value_counts()"
      ]
    },
    {
      "cell_type": "markdown",
      "id": "b5df5217",
      "metadata": {
        "id": "b5df5217"
      },
      "source": [
        "There are 2925 individuals who are working with private companies, 819 individuals who are self-employed, 687 individuals who are taking care of children, 657 individuals who are working for government and 22 individuals who have never worked."
      ]
    },
    {
      "cell_type": "code",
      "execution_count": null,
      "id": "389dc9a9",
      "metadata": {
        "id": "389dc9a9"
      },
      "outputs": [],
      "source": [
        "#Frequency table of residence types\n",
        "df['Residence_type'].value_counts()"
      ]
    },
    {
      "cell_type": "markdown",
      "id": "87ac89a9",
      "metadata": {
        "id": "87ac89a9"
      },
      "source": [
        "This shows that there are 2596 individuals who stay in urban area, and 2514 individuals who stay in rural area in this dataset."
      ]
    },
    {
      "cell_type": "code",
      "execution_count": null,
      "id": "f0e3229f",
      "metadata": {
        "id": "f0e3229f"
      },
      "outputs": [],
      "source": [
        "#Frequency table of work types\n",
        "df['ever_married'].value_counts()"
      ]
    },
    {
      "cell_type": "markdown",
      "id": "de8b241b",
      "metadata": {
        "id": "de8b241b"
      },
      "source": [
        "This shows that there are 3353 individuals who have ever married, and 1757 individuals who have not married this dataset."
      ]
    },
    {
      "cell_type": "markdown",
      "id": "c0244ec4",
      "metadata": {
        "id": "c0244ec4"
      },
      "source": [
        "### Visualisation of data"
      ]
    },
    {
      "cell_type": "markdown",
      "id": "a44e0049",
      "metadata": {
        "id": "a44e0049"
      },
      "source": [
        "#### Frequency Distribution of stroke in Histogram"
      ]
    },
    {
      "cell_type": "code",
      "execution_count": null,
      "id": "8872c344",
      "metadata": {
        "id": "8872c344"
      },
      "outputs": [],
      "source": [
        "sns.countplot(x='stroke', data=df)\n",
        "plt.savefig('stroke_bar.jpg')"
      ]
    },
    {
      "cell_type": "markdown",
      "id": "135c2c94",
      "metadata": {
        "id": "135c2c94"
      },
      "source": [
        "Above is the distribution of the target variable, Stroke, shown in the histogram."
      ]
    },
    {
      "cell_type": "markdown",
      "id": "15429bca",
      "metadata": {
        "id": "15429bca"
      },
      "source": [
        "#### Frequency Distribution of gender"
      ]
    },
    {
      "cell_type": "code",
      "execution_count": null,
      "id": "b0df6a36",
      "metadata": {
        "id": "b0df6a36"
      },
      "outputs": [],
      "source": [
        "sns.countplot('gender', data = df)"
      ]
    },
    {
      "cell_type": "markdown",
      "id": "80420e56",
      "metadata": {
        "id": "80420e56"
      },
      "source": [
        "#### Number of counts in each categorical attributes"
      ]
    },
    {
      "cell_type": "markdown",
      "id": "2087e504",
      "metadata": {
        "id": "2087e504"
      },
      "source": [
        "Here, bar chart is generated to visualize the different between the number of count on female and male in this dataset. from this, we can notice that there are only male and female involve in this dataset."
      ]
    },
    {
      "cell_type": "code",
      "execution_count": null,
      "id": "466e511c",
      "metadata": {
        "id": "466e511c"
      },
      "outputs": [],
      "source": [
        "df[caterd].nunique().sort_values(ascending = False).plot.bar(figsize = (10, 5))\n",
        "plt.savefig('categorical_bar.jpg')\n",
        "plt.show()"
      ]
    },
    {
      "cell_type": "markdown",
      "id": "197372d5",
      "metadata": {
        "id": "197372d5"
      },
      "source": [
        "The plot above tells the number of category each categorical variable has. We know that work_type contains the most categories which is 5 categories."
      ]
    },
    {
      "cell_type": "markdown",
      "id": "75093ea2",
      "metadata": {
        "id": "75093ea2"
      },
      "source": [
        "#### Distribution plot of Age"
      ]
    },
    {
      "cell_type": "code",
      "execution_count": null,
      "id": "a7b1df96",
      "metadata": {
        "id": "a7b1df96"
      },
      "outputs": [],
      "source": [
        "sns.displot(df['age'].dropna(),kde=False,color='darkred',bins=30)\n",
        "plt.title(\"Distribution plot of Age\")\n",
        "plt.show()"
      ]
    },
    {
      "cell_type": "markdown",
      "id": "e41f862b",
      "metadata": {
        "id": "e41f862b"
      },
      "source": [
        "To have a better understanding on the number of individuals according to their age, a distribution plot is implemented. For instance, there are around 740 individuals between the ages of 50-60 years old."
      ]
    },
    {
      "cell_type": "markdown",
      "id": "658aabc5",
      "metadata": {
        "id": "658aabc5"
      },
      "source": [
        "#### Skewness of data"
      ]
    },
    {
      "cell_type": "markdown",
      "id": "d02e9cec",
      "metadata": {
        "id": "d02e9cec"
      },
      "source": [
        "Below shows the distribution of the numerical data after filling in the null value and handling the outliers."
      ]
    },
    {
      "cell_type": "code",
      "execution_count": null,
      "id": "9ac5ac5e",
      "metadata": {
        "id": "9ac5ac5e"
      },
      "outputs": [],
      "source": [
        "def plot_hist(col, bins=30, title=\"\",xlabel=\"\",ax=None):\n",
        "    sns.distplot(col, bins=bins,ax=ax)\n",
        "    ax.set_title(f'Histogram of {title}',fontsize=20)\n",
        "    ax.set_xlabel(xlabel)"
      ]
    },
    {
      "cell_type": "code",
      "execution_count": null,
      "id": "1e13a331",
      "metadata": {
        "id": "1e13a331"
      },
      "outputs": [],
      "source": [
        "fig, axes = plt.subplots(1,3,figsize=(11,7),constrained_layout=True)\n",
        "plot_hist(df.bmi,\n",
        "          title='Bmi',\n",
        "          xlabel=\"Level of the BMI\",\n",
        "          ax=axes[0])\n",
        "plot_hist(df.age,\n",
        "          bins=30,\n",
        "          title='Age',\n",
        "          xlabel='Age',\n",
        "          ax=axes[1])\n",
        "plot_hist(df.avg_glucose_level,\n",
        "          title='Avg_glucose_level',\n",
        "          xlabel='Level of serum creatinine in the blood (mg/dL)',\n",
        "          ax=axes[2])\n",
        "\n",
        "plt.savefig('numericaldistribution_stats.png')\n",
        "plt.show()"
      ]
    },
    {
      "cell_type": "code",
      "execution_count": null,
      "id": "493deadd",
      "metadata": {
        "id": "493deadd"
      },
      "outputs": [],
      "source": [
        "df[numd].skew()"
      ]
    },
    {
      "cell_type": "markdown",
      "id": "d2f452d2",
      "metadata": {
        "id": "d2f452d2"
      },
      "source": [
        "The distribution of the numerical attributess are shown in the histograms above. From the histograms above, we can find out that all the numerical attributes distribution are different, avg_glucose_level and bmi are skewed to the right and distribution of age is skewed negatively."
      ]
    },
    {
      "cell_type": "markdown",
      "id": "d9078f76",
      "metadata": {
        "id": "d9078f76"
      },
      "source": [
        "#### Hypothesis Tests for Normality"
      ]
    },
    {
      "cell_type": "code",
      "execution_count": null,
      "id": "fd38a47a",
      "metadata": {
        "id": "fd38a47a"
      },
      "outputs": [],
      "source": [
        "from scipy import stats\n",
        "# let's contruct a function\n",
        "def shapiro_wilk_test(cols, alpha=0.05):\n",
        "    # test the null hypothesis for columns given in `cols` of the dataframe `df` under significance level `alpha`.\n",
        "    for col in cols:\n",
        "        w, p = stats.shapiro(df[numd])\n",
        "        if p <= alpha:\n",
        "            print(f\"Rejected H0 under significance level {alpha}\")\n",
        "            print(f\"{col} differs significantly from a normal distribution (W={w:.3f}, p={p:.5f})\\n\")\n",
        "        else:\n",
        "            print(f\"\\nFail to reject H0 due to lack of evidence under significance level {alpha}\\n\")\n",
        "            print(f\"{col} seem to be normally distributed (W={w:.3f}, p={p:.5f})\")"
      ]
    },
    {
      "cell_type": "code",
      "execution_count": null,
      "id": "45df965f",
      "metadata": {
        "scrolled": true,
        "id": "45df965f"
      },
      "outputs": [],
      "source": [
        "shapiro_wilk_test(numd)"
      ]
    },
    {
      "cell_type": "markdown",
      "id": "41c9bc66",
      "metadata": {
        "id": "41c9bc66"
      },
      "source": [
        "We are able to conclude that the numerical attributes in the data are not normally distributed"
      ]
    },
    {
      "cell_type": "markdown",
      "id": "675a5c5e",
      "metadata": {
        "id": "675a5c5e"
      },
      "source": [
        "#### Frequency Distribution of Categorical Variable in Histogram"
      ]
    },
    {
      "cell_type": "markdown",
      "id": "c6551a4f",
      "metadata": {
        "id": "c6551a4f"
      },
      "source": [
        "The number of records for each categorical variable except 'id' is shown in the barcharts below."
      ]
    },
    {
      "cell_type": "code",
      "execution_count": null,
      "id": "f0178158",
      "metadata": {
        "id": "f0178158"
      },
      "outputs": [],
      "source": [
        "fig, ax = plt.subplots(2, 4, figsize=(12, 5))\n",
        "sns.countplot(data=df, x='gender', ax=ax[0][0])\n",
        "sns.countplot(data=df, x='hypertension', ax=ax[0][1])\n",
        "sns.countplot(data=df, x='heart_disease', ax=ax[0][2])\n",
        "sns.countplot(data=df, x='ever_married', ax=ax[0][3])\n",
        "sns.countplot(data=df, x='work_type', ax=ax[1][0])\n",
        "sns.countplot(data=df, x='Residence_type', ax=ax[1][1])\n",
        "sns.countplot(data=df, x='smoking_status', ax=ax[1][2])\n",
        "sns.countplot(data=df, x='stroke', ax=ax[1][3])\n",
        "plt.tight_layout()\n",
        "plt.savefig('cat_variable_bar.jpg')\n",
        "plt.show()"
      ]
    },
    {
      "cell_type": "markdown",
      "id": "7e17bb28",
      "metadata": {
        "id": "7e17bb28"
      },
      "source": [
        "It is obvious that most variables show a degree of class imbalance, which also includes the target variable 'stroke'. This will then be handled in the class imbalnce section as imbalanced data will affect the accuracy of the model whereby the focus will be on the majority class and the minority class will be failed to be presented accurately."
      ]
    },
    {
      "cell_type": "markdown",
      "id": "4b4a17b0",
      "metadata": {
        "id": "4b4a17b0"
      },
      "source": [
        "#### Distribution of Strokes in Pie Chart"
      ]
    },
    {
      "cell_type": "code",
      "execution_count": null,
      "id": "da2f720a",
      "metadata": {
        "id": "da2f720a"
      },
      "outputs": [],
      "source": [
        "f, (ax1) = plt.subplots(1, figsize=(12,6))\n",
        "\n",
        "ax1.pie(x=df['stroke'].value_counts(), labels=df['stroke'].value_counts().index.map({0:'0 (Not Stroke)', 1:'1 (Stroke)'}), autopct='%1.1f%%')\n",
        "ax1.legend(\n",
        "    title='Legend',\n",
        "    loc = 'lower right')\n",
        "ax1.set_title('Distribution of Strokes')\n",
        "plt.savefig('pie_chart.png')"
      ]
    },
    {
      "cell_type": "markdown",
      "id": "a5c0af9c",
      "metadata": {
        "id": "a5c0af9c"
      },
      "source": [
        "Here is a diagram showing the number of people with stroke and without in a pie chart."
      ]
    },
    {
      "cell_type": "markdown",
      "id": "456a22dc",
      "metadata": {
        "id": "456a22dc"
      },
      "source": [
        "## Methods"
      ]
    },
    {
      "cell_type": "markdown",
      "id": "c0402e4d",
      "metadata": {
        "id": "c0402e4d"
      },
      "source": [
        "### Data Transformation"
      ]
    },
    {
      "cell_type": "markdown",
      "id": "f1ed7b50",
      "metadata": {
        "id": "f1ed7b50"
      },
      "source": [
        "#### Encoding"
      ]
    },
    {
      "cell_type": "markdown",
      "id": "b46d422c",
      "metadata": {
        "id": "b46d422c"
      },
      "source": [
        "Encoding will be applied to the categorical features which are not encoded yet which are 'gender', 'ever_married', 'work_type', 'Residence_type', and 'smoking_status'. This is done by using the LabelEncoder from sklearn's preprocessing library."
      ]
    },
    {
      "cell_type": "code",
      "execution_count": null,
      "id": "08d591f2",
      "metadata": {
        "id": "08d591f2"
      },
      "outputs": [],
      "source": [
        "df.rename(columns={'Residence_type':'residence_type'}, inplace=True)"
      ]
    },
    {
      "cell_type": "code",
      "execution_count": null,
      "id": "020cef28",
      "metadata": {
        "id": "020cef28"
      },
      "outputs": [],
      "source": [
        "from sklearn.preprocessing import LabelEncoder\n",
        "gender_encoder = LabelEncoder()\n",
        "married_encoder = LabelEncoder()\n",
        "work_encoder = LabelEncoder()\n",
        "residence_encoder = LabelEncoder()\n",
        "smoking_encoder = LabelEncoder()\n",
        "\n",
        "gender_encoder.fit(df['gender'])\n",
        "married_encoder.fit(df['ever_married'])\n",
        "work_encoder.fit(df['work_type'])\n",
        "residence_encoder.fit(df['residence_type'])\n",
        "smoking_encoder.fit(df['smoking_status'])\n",
        "\n",
        "df['gender'] =  gender_encoder.transform(df['gender'])\n",
        "df['ever_married'] =  married_encoder.transform(df['ever_married'])\n",
        "df['work_type'] =  work_encoder.transform(df['work_type'])\n",
        "df['residence_type'] =  residence_encoder.transform(df['residence_type'])\n",
        "df['smoking_status'] =  smoking_encoder.transform(df['smoking_status'])\n",
        "\n",
        "df.head()"
      ]
    },
    {
      "cell_type": "code",
      "execution_count": null,
      "id": "e30b520c",
      "metadata": {
        "id": "e30b520c"
      },
      "outputs": [],
      "source": [
        "df_rus = pd.DataFrame(df)\n",
        "print(type(df_rus))\n",
        "print(df_rus.head())"
      ]
    },
    {
      "cell_type": "code",
      "execution_count": null,
      "id": "85567979",
      "metadata": {
        "id": "85567979"
      },
      "outputs": [],
      "source": [
        "df_smote = pd.DataFrame(df)\n",
        "print(type(df_smote))\n",
        "print(df_smote.head())"
      ]
    },
    {
      "cell_type": "markdown",
      "id": "20a94acb",
      "metadata": {
        "id": "20a94acb"
      },
      "source": [
        "As seen from the above, all the features are now in numerical form in preparation to be used in building a prediction model."
      ]
    },
    {
      "cell_type": "markdown",
      "id": "3e433d5c",
      "metadata": {
        "id": "3e433d5c"
      },
      "source": [
        "The encoded values represent as follows :"
      ]
    },
    {
      "cell_type": "code",
      "execution_count": null,
      "id": "a220e7b0",
      "metadata": {
        "id": "a220e7b0"
      },
      "outputs": [],
      "source": [
        "gender_name_mapping = dict(zip(gender_encoder.classes_, gender_encoder.transform(gender_encoder.classes_)))\n",
        "married_name_mapping = dict(zip(married_encoder.classes_, married_encoder.transform(married_encoder.classes_)))\n",
        "work_name_mapping = dict(zip(work_encoder.classes_, work_encoder.transform(work_encoder.classes_)))\n",
        "residence_name_mapping = dict(zip(residence_encoder.classes_, residence_encoder.transform(residence_encoder.classes_)))\n",
        "smoking_name_mapping = dict(zip(smoking_encoder.classes_, smoking_encoder.transform(smoking_encoder.classes_)))\n",
        "\n",
        "print(\"gender        :\", gender_name_mapping)\n",
        "print(\"ever_married  :\", married_name_mapping)\n",
        "print(\"work_type     :\", work_name_mapping)\n",
        "print(\"residence_type:\", residence_name_mapping)\n",
        "print(\"smoking_status:\", smoking_name_mapping)"
      ]
    },
    {
      "cell_type": "markdown",
      "id": "3603d5ba",
      "metadata": {
        "id": "3603d5ba"
      },
      "source": [
        "## Exploratory Data Analysis"
      ]
    },
    {
      "cell_type": "markdown",
      "id": "6fa8725e",
      "metadata": {
        "id": "6fa8725e"
      },
      "source": [
        "### Numerical Variable Analysis"
      ]
    },
    {
      "cell_type": "code",
      "execution_count": null,
      "id": "d9ab7377",
      "metadata": {
        "id": "d9ab7377"
      },
      "outputs": [],
      "source": [
        "fig, (ax1, ax2, ax3) = plt.subplots(1, 3, figsize = (14,6))\n",
        "fig.patch.set_facecolor('#faf9f7')\n",
        "\n",
        "for i in (ax1, ax2, ax3):\n",
        "    i.set_facecolor('#faf9f7')\n",
        "\n",
        "sns.kdeplot(\n",
        "    df['age'][df['stroke'] == 0],\n",
        "    ax = ax1,\n",
        "    color = \"#c8c14f\",\n",
        "    shade = True,\n",
        "    alpha = 0.5,\n",
        "    linewidth = 1.5,\n",
        "    ec = 'black'\n",
        ")\n",
        "\n",
        "sns.kdeplot(\n",
        "    df['age'][df['stroke'] == 1],\n",
        "    ax = ax1,\n",
        "    color = \"#cd34b5\",\n",
        "    shade = True,\n",
        "    alpha = 0.5,\n",
        "    linewidth = 1.5,\n",
        "    ec = 'black'\n",
        ")\n",
        "ax1.legend(['No Stroke', 'Stroke'], loc = 'upper left')\n",
        "ax1.set_xlabel('Age', fontsize = 14, labelpad = 10)\n",
        "ax1.set_ylabel('Density', fontsize = 14, labelpad = 10)\n",
        "\n",
        "sns.kdeplot(\n",
        "    df['avg_glucose_level'][df['stroke'] == 0],\n",
        "    ax = ax2,\n",
        "    color = \"#c8c14f\",\n",
        "    shade = True,\n",
        "    alpha = 0.5,\n",
        "    linewidth = 1.5,\n",
        "    ec = 'black'\n",
        ")\n",
        "\n",
        "sns.kdeplot(\n",
        "    df['avg_glucose_level'][df['stroke'] == 1],\n",
        "    ax = ax2,\n",
        "    color = \"#cd34b5\",\n",
        "    shade = True,\n",
        "    alpha = 0.5,\n",
        "    linewidth = 1.5,\n",
        "    ec = 'black'\n",
        ")\n",
        "\n",
        "ax2.legend(['No Stroke', 'Stroke'])\n",
        "ax2.set_xlabel('Average Glucose Levels', fontsize = 14, labelpad = 10)\n",
        "ax2.set_ylabel('')\n",
        "\n",
        "sns.kdeplot(\n",
        "    df['bmi'][df['stroke'] == 0],\n",
        "    ax = ax3,\n",
        "    color = \"#c8c14f\",\n",
        "    shade = True,\n",
        "    alpha = 0.5,\n",
        "    linewidth = 1.5,\n",
        "    ec = 'black'\n",
        ")\n",
        "\n",
        "sns.kdeplot(\n",
        "    df['bmi'][df['stroke'] == 1],\n",
        "    ax = ax3,\n",
        "    color = \"#cd34b5\",\n",
        "    shade = True,\n",
        "    alpha = 0.5,\n",
        "    linewidth = 1.5,\n",
        "    ec = 'black'\n",
        ")\n",
        "\n",
        "ax3.legend(['No Stroke', 'Stroke'])\n",
        "ax3.set_xlabel('BMI', fontsize = 14, labelpad = 10)\n",
        "ax3.set_ylabel('')\n",
        "\n",
        "plt.suptitle('Density of Age, Glucose, and BMI by Stroke', fontsize = 16, fontweight = 'bold')\n",
        "\n",
        "for i in (ax1, ax2, ax3):\n",
        "    for j in ['top', 'left', 'bottom', 'right']:\n",
        "        i.spines[j].set_visible(False)\n",
        "\n",
        "plt.savefig('Numerical_distribution.jpg')\n",
        "fig.tight_layout()"
      ]
    },
    {
      "cell_type": "markdown",
      "id": "1cc6fc30",
      "metadata": {
        "id": "1cc6fc30"
      },
      "source": [
        "### Bivariate Analysis"
      ]
    },
    {
      "cell_type": "markdown",
      "id": "b037b46d",
      "metadata": {
        "id": "b037b46d"
      },
      "source": [
        "#### Hypertension and Stroke"
      ]
    },
    {
      "cell_type": "code",
      "execution_count": null,
      "id": "dcdc1e73",
      "metadata": {
        "id": "dcdc1e73"
      },
      "outputs": [],
      "source": [
        "print (f'A person with hypertension has a probability of {round(df[df[\"hypertension\"]==1][\"stroke\"].mean()*100,2)} % get a stroke')\n",
        "\n",
        "print()\n",
        "\n",
        "print (f'A person without hypertension has a probability of  {round(df[df[\"hypertension\"]==0][\"stroke\"].mean()*100,2)} % get a stroke')"
      ]
    },
    {
      "cell_type": "markdown",
      "id": "ea716c68",
      "metadata": {
        "id": "ea716c68"
      },
      "source": [
        "As we have seen, stroke probability for those who has hypertension are quite different than for those who don't. Their percentage is 13.25% and 3.97% respectively. It means that person with hypertension are almost 3.3 time more likely to get stroke than the ones who don't have hypertension."
      ]
    },
    {
      "cell_type": "markdown",
      "id": "802a7fa1",
      "metadata": {
        "id": "802a7fa1"
      },
      "source": [
        "#### Gender and Stroke"
      ]
    },
    {
      "cell_type": "code",
      "execution_count": null,
      "id": "8a9dc170",
      "metadata": {
        "id": "8a9dc170"
      },
      "outputs": [],
      "source": [
        "print (f'A female person has a probability of {round(df[df[\"gender\"]==0][\"stroke\"].mean()*100,2)} % get a stroke')\n",
        "\n",
        "print()\n",
        "\n",
        "print (f'A male person has a probability of {round(df[df[\"gender\"]==1][\"stroke\"].mean()*100,2)} % get a stroke')\n",
        "\n",
        "print()"
      ]
    },
    {
      "cell_type": "markdown",
      "id": "13241aac",
      "metadata": {
        "id": "13241aac"
      },
      "source": [
        "Male compare to female are more likelyto get stroke, but difference between female and male is very small."
      ]
    },
    {
      "cell_type": "markdown",
      "id": "cf609ffa",
      "metadata": {
        "id": "cf609ffa"
      },
      "source": [
        "#### Heart Disease and Stroke"
      ]
    },
    {
      "cell_type": "code",
      "execution_count": null,
      "id": "ab846125",
      "metadata": {
        "id": "ab846125"
      },
      "outputs": [],
      "source": [
        "print (f'A person with heart disease has a probability of {round(df[df[\"heart_disease\"]==1][\"stroke\"].mean()*100,2)} % get a stroke')\n",
        "\n",
        "print()\n",
        "\n",
        "print (f'A person without heart disease has a probability of {round(df[df[\"heart_disease\"]==0][\"stroke\"].mean()*100,2)} % get a stroke')"
      ]
    },
    {
      "cell_type": "markdown",
      "id": "60d59968",
      "metadata": {
        "id": "60d59968"
      },
      "source": [
        "As we have seen, stroke probability for those who has heart disease are quite different than for those who don't. A person with heart disease has a probability of 17.03% of getting a stroke while a person without heart disease has a probability of 4.18% in getting a stroke. It means that person with heart diease are 4.07 times more likely to get stroke than the ones who don't have heart disease."
      ]
    },
    {
      "cell_type": "markdown",
      "id": "2e303fbc",
      "metadata": {
        "id": "2e303fbc"
      },
      "source": [
        "#### Married Status and Stroke"
      ]
    },
    {
      "cell_type": "code",
      "execution_count": null,
      "id": "3601b779",
      "metadata": {
        "id": "3601b779"
      },
      "outputs": [],
      "source": [
        "print (f'A person married (or married before) has a probability of {round(df[df[\"ever_married\"]==1][\"stroke\"].mean()*100,2)} % get a stroke')\n",
        "\n",
        "print()\n",
        "\n",
        "print (f'A person never married has a probability of {round(df[df[\"ever_married\"]==0][\"stroke\"].mean()*100,2)} % get a stroke')"
      ]
    },
    {
      "cell_type": "markdown",
      "id": "d4ab2e01",
      "metadata": {
        "id": "d4ab2e01"
      },
      "source": [
        "As we have seen, stroke probability for those who has marriage history are quite different than for those who don't. A person with marriage history has a probability of 6.56% of getting a stroke while a person without marriage history has a probability of 1.65% in getting a stroke. It means that person is married(or married before) are 5.7 times more likely to get stroke than the ones who don't have marriage history."
      ]
    },
    {
      "cell_type": "markdown",
      "id": "931c5e3c",
      "metadata": {
        "id": "931c5e3c"
      },
      "source": [
        "#### Work Type and Stroke"
      ]
    },
    {
      "cell_type": "code",
      "execution_count": null,
      "id": "cf29b6dc",
      "metadata": {
        "id": "cf29b6dc"
      },
      "outputs": [],
      "source": [
        "print (f'A person with private work type has a probability of {round(df[df[\"work_type\"]==2][\"stroke\"].mean()*100,2)} % get a stroke')\n",
        "\n",
        "print()\n",
        "\n",
        "print (f'Self-employed person has a probability of {round(df[df[\"work_type\"]==3][\"stroke\"].mean()*100,2)} % get a stroke')\n",
        "\n",
        "print()\n",
        "\n",
        "print (f'A person with a goverment job has a probability of {round(df[df[\"work_type\"]==0][\"stroke\"].mean()*100,2)} % get a stroke')\n",
        "\n",
        "print()\n",
        "\n",
        "print (f'A child has a probability of {round(df[df[\"work_type\"]==4][\"stroke\"].mean()*100,2)} % get a stroke')\n",
        "\n",
        "print()\n",
        "\n",
        "print (f'A person never worked has a probability of {round(df[df[\"work_type\"]==1][\"stroke\"].mean()*100,2)} % get a stroke')"
      ]
    },
    {
      "cell_type": "markdown",
      "id": "32005bdf",
      "metadata": {
        "id": "32005bdf"
      },
      "source": [
        "Self employed person has more probability to get stroke than other work type. Person with private job and goverment job almost has same probability to get stroke."
      ]
    },
    {
      "cell_type": "markdown",
      "id": "f1e19adb",
      "metadata": {
        "id": "f1e19adb"
      },
      "source": [
        "#### Residence Type and Stroke"
      ]
    },
    {
      "cell_type": "code",
      "execution_count": null,
      "id": "0ea46213",
      "metadata": {
        "id": "0ea46213"
      },
      "outputs": [],
      "source": [
        "print (f'A person, who lives in urban area, has a probability of {round(df[df[\"residence_type\"]==1][\"stroke\"].mean()*100,2)} %  get a stroke')\n",
        "\n",
        "print()\n",
        "\n",
        "print (f'A person, who lives in rural area, has a probability of {round(df[df[\"residence_type\"]==0][\"stroke\"].mean()*100,2)} % get a stroke')"
      ]
    },
    {
      "cell_type": "markdown",
      "id": "d622c1a3",
      "metadata": {
        "id": "d622c1a3"
      },
      "source": [
        "As seen, there is not much difference between person residence type. Person who lives in rural area slightly has more probablity to get sroke than a person who lives in rural area. However, the difference is small."
      ]
    },
    {
      "cell_type": "markdown",
      "id": "3ccd02ff",
      "metadata": {
        "id": "3ccd02ff"
      },
      "source": [
        "#### Smoking Status and Stroke"
      ]
    },
    {
      "cell_type": "code",
      "execution_count": null,
      "id": "2ef3460e",
      "metadata": {
        "id": "2ef3460e"
      },
      "outputs": [],
      "source": [
        "print (f'A formerly smoked person has a probability of {round(df[df[\"smoking_status\"]==1][\"stroke\"].mean()*100,2)} % get a stroke')\n",
        "\n",
        "print()\n",
        "\n",
        "print (f'A person never smoked has a probability of {round(df[df[\"smoking_status\"]==2][\"stroke\"].mean()*100,2)} % get a stroke')\n",
        "\n",
        "print()\n",
        "\n",
        "print (f'A person smokes has a probability of {round(df[df[\"smoking_status\"]==3][\"stroke\"].mean()*100,2)} % get a stroke')\n",
        "\n",
        "print()\n",
        "\n",
        "print (f'A person whom smoking history is not known,has a probability of {round(df[df[\"smoking_status\"]==0][\"stroke\"].mean()*100,2)} % get a stroke')\n",
        "\n",
        "print()"
      ]
    },
    {
      "cell_type": "markdown",
      "id": "e428b6fb",
      "metadata": {
        "id": "e428b6fb"
      },
      "source": [
        "There are differeneces based on the smoking status. A formerly smoked person has a probability to get stroke 1.66 times more than person who has never smoked. A person who smokes has a a probability to get stroke 1.11 times more than person who never smoked. It is smal difference between who smokes and who does not smoke in regard to probability of getting stroke."
      ]
    },
    {
      "cell_type": "markdown",
      "id": "0ae1a605",
      "metadata": {
        "id": "0ae1a605"
      },
      "source": [
        "### Gender vs Age"
      ]
    },
    {
      "cell_type": "code",
      "execution_count": null,
      "id": "a126f5c1",
      "metadata": {
        "id": "a126f5c1"
      },
      "outputs": [],
      "source": [
        "df.groupby('gender')['age'].mean()"
      ]
    },
    {
      "cell_type": "markdown",
      "id": "36cad9ad",
      "metadata": {
        "id": "36cad9ad"
      },
      "source": [
        "Below shows the mean of age grouped by gender. The average age of female in the dataset is 43.7 while the average age of male in the dataset is 42.5"
      ]
    },
    {
      "cell_type": "markdown",
      "id": "dcc4c2b1",
      "metadata": {
        "id": "dcc4c2b1"
      },
      "source": [
        "### Gender vs Stroke"
      ]
    },
    {
      "cell_type": "code",
      "execution_count": null,
      "id": "55fc9231",
      "metadata": {
        "id": "55fc9231"
      },
      "outputs": [],
      "source": [
        "df.groupby('stroke')['age'].mean()"
      ]
    },
    {
      "cell_type": "markdown",
      "id": "2eb6772e",
      "metadata": {
        "id": "2eb6772e"
      },
      "source": [
        "Below shows the mean of age grouped by stroke. The average age for an individual be at risk of stroke is 67.7."
      ]
    },
    {
      "cell_type": "markdown",
      "id": "588ee706",
      "metadata": {
        "id": "588ee706"
      },
      "source": [
        "### Pearson Correlation"
      ]
    },
    {
      "cell_type": "markdown",
      "id": "6e6681e1",
      "metadata": {
        "id": "6e6681e1"
      },
      "source": [
        "The correlation matrix on numerical attributes is plotted."
      ]
    },
    {
      "cell_type": "code",
      "execution_count": null,
      "id": "24933571",
      "metadata": {
        "id": "24933571"
      },
      "outputs": [],
      "source": [
        "df.corr()"
      ]
    },
    {
      "cell_type": "code",
      "execution_count": null,
      "id": "2a8986d2",
      "metadata": {
        "id": "2a8986d2"
      },
      "outputs": [],
      "source": [
        "#Using Pearson Correlation\n",
        "plt.figure(figsize=(25,25))\n",
        "sns.heatmap(df.corr(), annot=True, cmap=plt.cm.Reds)\n",
        "plt.title('Correlation Matrix', fontsize=24);\n",
        "plt.savefig('correlationmatrix.png')\n",
        "plt.show()"
      ]
    },
    {
      "cell_type": "markdown",
      "id": "b572118f",
      "metadata": {
        "id": "b572118f"
      },
      "source": [
        "Above shown the heat map correlation matrix between each attributes."
      ]
    },
    {
      "cell_type": "code",
      "execution_count": null,
      "id": "2ccb757b",
      "metadata": {
        "id": "2ccb757b"
      },
      "outputs": [],
      "source": [
        "#Display the correlation in ascending order\n",
        "plt.figure(figsize=(15,10))\n",
        "df.corr()['stroke'].sort_values(ascending = False).drop('stroke').plot(kind='bar')\n",
        "plt.savefig('correlationfeatures.png')"
      ]
    },
    {
      "cell_type": "markdown",
      "id": "3a753445",
      "metadata": {
        "id": "3a753445"
      },
      "source": [
        "### Correlation Coefficient"
      ]
    },
    {
      "cell_type": "markdown",
      "id": "1be5d014",
      "metadata": {
        "id": "1be5d014"
      },
      "source": [
        "Above shown the correlation matrix between each attribute with stroke."
      ]
    },
    {
      "cell_type": "code",
      "execution_count": null,
      "id": "1503fcd9",
      "metadata": {
        "id": "1503fcd9"
      },
      "outputs": [],
      "source": [
        "#Selecting lowly correlated features with output variable (Dependent)\n",
        "corr = df.corr().drop('stroke')\n",
        "corr[abs(corr['stroke']) < 0.1]['stroke']"
      ]
    },
    {
      "cell_type": "code",
      "execution_count": null,
      "id": "196e1389",
      "metadata": {
        "id": "196e1389"
      },
      "outputs": [],
      "source": [
        "corr = df.corr().drop('stroke')\n",
        "corr[abs(corr['stroke']) >= 0.1]['stroke']"
      ]
    },
    {
      "cell_type": "code",
      "execution_count": null,
      "id": "178e76ab",
      "metadata": {
        "scrolled": false,
        "id": "178e76ab"
      },
      "outputs": [],
      "source": [
        "features=['gender', 'age', 'hypertension', 'heart_disease', 'ever_married',\n",
        "       'work_type', 'residence_type',\n",
        "       'smoking_status', 'bmi', 'avg_glucose_level']\n",
        "from matplotlib.offsetbox import AnchoredText\n",
        "correlation_table = []\n",
        "for cols in features:\n",
        "    y = df[\"stroke\"]\n",
        "    x = df[cols]\n",
        "    corr = np.corrcoef(x, y)[1][0]\n",
        "    dict ={\n",
        "        'Features': cols,\n",
        "        'Correlation coefficient' : corr\n",
        "    }\n",
        "    correlation_table.append(dict)\n",
        "dF1 = pd.DataFrame(correlation_table)\n",
        "fig = plt.figure(figsize=(10,6), facecolor='#EAECEE')\n",
        "ax = sns.barplot(x=\"Correlation coefficient\", y=\"Features\",\n",
        "                     data=dF1.sort_values(\"Correlation coefficient\", ascending=False),\n",
        "                     palette='viridis', alpha=0.75)\n",
        "ax.grid()\n",
        "#ax.set_title(\"Correlation of numerical features with Target\", fontsize=20, y=1.05)\n",
        "\n",
        "plt.savefig('correlationfeatures2.png')\n",
        "title =  'Correlation features with target'\n",
        "\n",
        "plt.gcf().text(0.05, 1.02, title, fontsize=24)\n",
        "#plt.gcf().text(0.05, 0.9, sub_title, fontsize=14)"
      ]
    },
    {
      "cell_type": "markdown",
      "id": "e7e1909a",
      "metadata": {
        "id": "e7e1909a"
      },
      "source": [
        "The correlation of each feature with the target varaible, 'stroke', is summarise as above."
      ]
    },
    {
      "cell_type": "code",
      "execution_count": null,
      "id": "a2124250",
      "metadata": {
        "id": "a2124250"
      },
      "outputs": [],
      "source": [
        "from scipy.stats import pearsonr\n",
        "def get_correlation(column1, column2, df):\n",
        "    pearson_corr, p_value = pearsonr(df[column1], df[column2])\n",
        "    print(\"Correlation between {} and {} is {}\".format(column1, column2, pearson_corr))\n",
        "    print(\"P-value of this correlation is {}\".format(p_value))"
      ]
    },
    {
      "cell_type": "code",
      "execution_count": null,
      "id": "f2fd4d09",
      "metadata": {
        "id": "f2fd4d09"
      },
      "outputs": [],
      "source": [
        "get_correlation('age','stroke', df)"
      ]
    },
    {
      "cell_type": "code",
      "execution_count": null,
      "id": "d4ad799b",
      "metadata": {
        "id": "d4ad799b"
      },
      "outputs": [],
      "source": [
        "get_correlation('hypertension','stroke', df)"
      ]
    },
    {
      "cell_type": "code",
      "execution_count": null,
      "id": "465404f3",
      "metadata": {
        "id": "465404f3"
      },
      "outputs": [],
      "source": [
        "get_correlation('heart_disease','stroke', df)"
      ]
    },
    {
      "cell_type": "code",
      "execution_count": null,
      "id": "4311c323",
      "metadata": {
        "id": "4311c323"
      },
      "outputs": [],
      "source": [
        "get_correlation('ever_married','stroke', df)"
      ]
    },
    {
      "cell_type": "code",
      "execution_count": null,
      "id": "3bfbfde7",
      "metadata": {
        "id": "3bfbfde7"
      },
      "outputs": [],
      "source": [
        "get_correlation('avg_glucose_level','stroke', df)"
      ]
    },
    {
      "cell_type": "code",
      "execution_count": null,
      "id": "2b47cd02",
      "metadata": {
        "id": "2b47cd02"
      },
      "outputs": [],
      "source": [
        "get_correlation('bmi','stroke', df)"
      ]
    },
    {
      "cell_type": "code",
      "execution_count": null,
      "id": "f12616fe",
      "metadata": {
        "id": "f12616fe"
      },
      "outputs": [],
      "source": [
        "get_correlation('residence_type','stroke', df)"
      ]
    },
    {
      "cell_type": "code",
      "execution_count": null,
      "id": "b705f8f9",
      "metadata": {
        "id": "b705f8f9"
      },
      "outputs": [],
      "source": [
        "get_correlation('gender','stroke', df)"
      ]
    },
    {
      "cell_type": "code",
      "execution_count": null,
      "id": "98cb413a",
      "metadata": {
        "id": "98cb413a"
      },
      "outputs": [],
      "source": [
        "get_correlation('smoking_status','stroke', df)"
      ]
    },
    {
      "cell_type": "code",
      "execution_count": null,
      "id": "504cc305",
      "metadata": {
        "id": "504cc305"
      },
      "outputs": [],
      "source": [
        "get_correlation('work_type','stroke', df)"
      ]
    },
    {
      "cell_type": "markdown",
      "id": "61ec2aa0",
      "metadata": {
        "id": "61ec2aa0"
      },
      "source": [
        "### Chi-square Test"
      ]
    },
    {
      "cell_type": "code",
      "execution_count": null,
      "id": "00498bf2",
      "metadata": {
        "id": "00498bf2"
      },
      "outputs": [],
      "source": [
        "gender_stroke = pd.crosstab(df['gender'], df['stroke'])\n",
        "gender_stroke"
      ]
    },
    {
      "cell_type": "code",
      "execution_count": null,
      "id": "847662f0",
      "metadata": {
        "id": "847662f0"
      },
      "outputs": [],
      "source": [
        "colors = [\"#f1d295\", \"#c8c14f\", \"#fa8775\", \"#ea5f94\", \"#cd34b5\", \"#9d02d7\"]\n",
        "palette = sns.color_palette(palette = colors)\n",
        "\n",
        "plt.subplots(figsize=(8,6))\n",
        "\n",
        "stroke_matrix = np.array([[141, 2853], [108, 2007]])\n",
        "labels = np.array([['Female - Stroke', 'Female - No Stroke'], ['Male - Stroke', 'Male - No Stroke']])\n",
        "formatted = (np.asarray([\"{0}\\n{1:.0f}\".format(text, data) for text, data in zip(labels.flatten(), stroke_matrix.flatten())])).reshape(2,2)\n",
        "\n",
        "\n",
        "sns.heatmap(\n",
        "    stroke_matrix,\n",
        "    annot = formatted,\n",
        "    fmt = '',\n",
        "    cmap = palette,\n",
        "    xticklabels = False,\n",
        "    yticklabels = False,\n",
        "    linecolor = 'black',\n",
        "    linewidth = 1,\n",
        "    annot_kws = {'fontweight': 'semibold'}\n",
        ")\n",
        "plt.title('Two-Way Contingency Table of Strokes by Gender', pad = 15, fontsize = 14)\n",
        "plt.ylabel('Gender', fontsize = 12, labelpad = 10)\n",
        "plt.xlabel('Stroke', fontsize = 12, labelpad = 10)\n",
        "plt.savefig('stroke_gender.png')"
      ]
    },
    {
      "cell_type": "code",
      "execution_count": null,
      "id": "97cbd4b1",
      "metadata": {
        "id": "97cbd4b1"
      },
      "outputs": [],
      "source": [
        "heart_cont = pd.crosstab(df['heart_disease'], df['stroke'])\n",
        "heart_cont"
      ]
    },
    {
      "cell_type": "code",
      "execution_count": null,
      "id": "f6a77343",
      "metadata": {
        "id": "f6a77343"
      },
      "outputs": [],
      "source": [
        "plt.subplots(figsize=(8,6))\n",
        "\n",
        "heart_matrix = np.array([[4631, 202], [229, 47]])\n",
        "labels = np.array([['No Heart Disease - No Stroke', 'No Heart Disease - Stroke'], ['Heart Disease - No Stroke', 'Heart Disease - Stroke']])\n",
        "formatted = (np.asarray([\"{0}\\n{1:.0f}\".format(text, data) for text, data in zip(labels.flatten(), heart_matrix.flatten())])).reshape(2,2)\n",
        "\n",
        "sns.heatmap(\n",
        "    heart_matrix,\n",
        "    annot = formatted,\n",
        "    fmt = '',\n",
        "    cmap = palette,\n",
        "    linewidth = 1,\n",
        "    linecolor = 'black',\n",
        "    xticklabels = False,\n",
        "    yticklabels = False,\n",
        "    annot_kws = {'fontweight': 'semibold'}\n",
        ")\n",
        "plt.title('Two-Way Contingency Table of Strokes by Heart Disease', pad = 15, fontsize = 14)\n",
        "plt.ylabel('Heart Disease', labelpad = 10, fontsize = 12)\n",
        "plt.xlabel('Stroke', labelpad = 10, fontsize = 12)\n",
        "plt.savefig('stroke_heart.png')"
      ]
    },
    {
      "cell_type": "code",
      "execution_count": null,
      "id": "5e86aee0",
      "metadata": {
        "id": "5e86aee0"
      },
      "outputs": [],
      "source": [
        "hypertension_stroke = pd.crosstab(df['hypertension'], df['stroke'])\n",
        "hypertension_stroke"
      ]
    },
    {
      "cell_type": "code",
      "execution_count": null,
      "id": "c3e9c730",
      "metadata": {
        "id": "c3e9c730"
      },
      "outputs": [],
      "source": [
        "plt.subplots(figsize=(8,6))\n",
        "\n",
        "hyper_matrix = np.array([[4428, 183], [432, 66]])\n",
        "labels = np.array([['No Hypertension - No Stroke', 'No Hypertension - Stroke'], ['Hypertension - No Stroke', 'Hypertension - Stroke']])\n",
        "formatted = (np.asarray([\"{0}\\n{1:.0f}\".format(text, data) for text, data in zip(labels.flatten(), hyper_matrix.flatten())])).reshape(2,2)\n",
        "\n",
        "sns.heatmap(\n",
        "    hyper_matrix,\n",
        "    annot = formatted,\n",
        "    fmt = '',\n",
        "    cmap = palette,\n",
        "    linewidth = 1,\n",
        "    linecolor = 'black',\n",
        "    xticklabels = False,\n",
        "    yticklabels = False,\n",
        "    annot_kws = {'fontweight': 'semibold'}\n",
        ")\n",
        "plt.title('Two-Way Contingency Table of Strokes by Hypertension', pad = 15, fontsize = 14)\n",
        "plt.ylabel('Hypertension', labelpad = 10, fontsize = 12)\n",
        "plt.xlabel('Stroke', labelpad = 10, fontsize = 12)\n",
        "plt.savefig('stroke_hypertension.png')"
      ]
    },
    {
      "cell_type": "code",
      "execution_count": null,
      "id": "ee9667a9",
      "metadata": {
        "id": "ee9667a9"
      },
      "outputs": [],
      "source": [
        "ever_married_stroke = pd.crosstab(df['ever_married'], df['stroke'])\n",
        "ever_married_stroke"
      ]
    },
    {
      "cell_type": "code",
      "execution_count": null,
      "id": "8d2751df",
      "metadata": {
        "id": "8d2751df"
      },
      "outputs": [],
      "source": [
        "plt.subplots(figsize=(8,6))\n",
        "\n",
        "married_matrix = np.array([[1727, 29], [3133, 220]])\n",
        "labels = np.array([['Not Married - No Stroke', 'Not Married - Stroke'], ['Married - No Stroke', 'Married - Stroke']])\n",
        "formatted = (np.asarray([\"{0}\\n{1:.0f}\".format(text, data) for text, data in zip(labels.flatten(), married_matrix.flatten())])).reshape(2,2)\n",
        "\n",
        "sns.heatmap(\n",
        "    married_matrix,\n",
        "    annot = formatted,\n",
        "    fmt = '',\n",
        "    cmap = palette,\n",
        "    linewidth = 1,\n",
        "    linecolor = 'black',\n",
        "    xticklabels = False,\n",
        "    yticklabels = False,\n",
        "    annot_kws = {'fontweight': 'semibold'}\n",
        ")\n",
        "plt.title('Two-Way Contingency Table of Strokes by Married Status', pad = 15, fontsize = 14)\n",
        "plt.ylabel('Ever Married', labelpad = 10, fontsize = 12)\n",
        "plt.xlabel('Stroke', labelpad = 10, fontsize = 12)\n",
        "plt.savefig('stroke_married.png')"
      ]
    },
    {
      "cell_type": "code",
      "execution_count": null,
      "id": "bb455b37",
      "metadata": {
        "id": "bb455b37"
      },
      "outputs": [],
      "source": [
        "df.groupby('work_type')['stroke'].value_counts()"
      ]
    },
    {
      "cell_type": "code",
      "execution_count": null,
      "id": "8fa2c5f2",
      "metadata": {
        "id": "8fa2c5f2"
      },
      "outputs": [],
      "source": [
        "ig, ax = plt.subplots(figsize=(10,6))\n",
        "fig.patch.set_facecolor('#faf9f7')\n",
        "ax.set_facecolor('#faf9f7')\n",
        "\n",
        "bar_pal = [\"#c8c14f\", \"#fa8775\"]\n",
        "\n",
        "s = sns.countplot(\n",
        "    data = df, x = 'work_type', hue = 'stroke', palette = bar_pal,\n",
        "    linewidth = 1.2, ec = 'black'\n",
        ")\n",
        "\n",
        "for i in ['top', 'right', 'bottom', 'left']:\n",
        "    ax.spines[i].set_visible(False)\n",
        "\n",
        "plt.legend(['No Stroke', 'Stroke'])\n",
        "plt.title(\"Type of Work and The Effect on Stroke\", size = 16, weight = 'bold', pad = 12)\n",
        "plt.xlabel('Smoking Status', size = 12, labelpad = 12)\n",
        "plt.ylabel('Count', size = 12, labelpad = 12)\n",
        "\n",
        "for i in s.patches:\n",
        "    s.annotate(format(i.get_height(), '.0f'),  (i.get_x() + i.get_width() / 2., i.get_height()), ha = 'center', va = 'center', xytext = (0, 9), textcoords = 'offset points')\n",
        "\n",
        "fig.tight_layout()\n",
        "plt.savefig('stroke_work.png')"
      ]
    },
    {
      "cell_type": "code",
      "execution_count": null,
      "id": "6e30258b",
      "metadata": {
        "id": "6e30258b"
      },
      "outputs": [],
      "source": [
        "residence_type_stroke = pd.crosstab(df['residence_type'], df['stroke'])\n",
        "residence_type_stroke"
      ]
    },
    {
      "cell_type": "code",
      "execution_count": null,
      "id": "96d7fbc8",
      "metadata": {
        "id": "96d7fbc8"
      },
      "outputs": [],
      "source": [
        "plt.subplots(figsize=(8,6))\n",
        "\n",
        "resd_matrix = np.array([[2399, 114], [2461, 135]])\n",
        "labels = np.array([['Rural - No Stroke', 'Rural - Stroke'], ['Urban - No Stroke', 'Urban - Stroke']])\n",
        "formatted = (np.asarray([\"{0}\\n{1:.0f}\".format(text, data) for text, data in zip(labels.flatten(), resd_matrix.flatten())])).reshape(2,2)\n",
        "\n",
        "sns.heatmap(\n",
        "    resd_matrix,\n",
        "    annot = formatted,\n",
        "    fmt = '',\n",
        "    cmap = palette,\n",
        "    linewidth = 1,\n",
        "    linecolor = 'black',\n",
        "    xticklabels = False,\n",
        "    yticklabels = False,\n",
        "    annot_kws = {'fontweight': 'semibold'}\n",
        ")\n",
        "plt.title('Two-Way Contingency Table of Strokes by Type of Residence', pad = 15, fontsize = 14)\n",
        "plt.ylabel('Residence Type', labelpad = 10, fontsize = 12)\n",
        "plt.xlabel('Stroke', labelpad = 10, fontsize = 12)\n",
        "plt.savefig('stroke_residence.png')"
      ]
    },
    {
      "cell_type": "code",
      "execution_count": null,
      "id": "7c38adf1",
      "metadata": {
        "id": "7c38adf1"
      },
      "outputs": [],
      "source": [
        "df.groupby('smoking_status')['stroke'].value_counts()"
      ]
    },
    {
      "cell_type": "code",
      "execution_count": null,
      "id": "4df48aac",
      "metadata": {
        "id": "4df48aac"
      },
      "outputs": [],
      "source": [
        "fig, ax = plt.subplots(figsize=(10,6))\n",
        "fig.patch.set_facecolor('#faf9f7')\n",
        "ax.set_facecolor('#faf9f7')\n",
        "\n",
        "bar_pal = [\"#c8c14f\", \"#fa8775\"]\n",
        "\n",
        "s = sns.countplot(\n",
        "    data = df, x = 'smoking_status', hue = 'stroke', palette = bar_pal,\n",
        "    linewidth = 1.2, ec = 'black'\n",
        ")\n",
        "\n",
        "for i in ['top', 'right', 'bottom', 'left']:\n",
        "    ax.spines[i].set_visible(False)\n",
        "\n",
        "plt.legend(['No Stroke', 'Stroke'])\n",
        "plt.title(\"Smoking Status' Effect on Stroke\", size = 16, weight = 'bold', pad = 12)\n",
        "plt.xlabel('Smoking Status', size = 12, labelpad = 12)\n",
        "plt.ylabel('Count', size = 12, labelpad = 12)\n",
        "\n",
        "for i in s.patches:\n",
        "    s.annotate(format(i.get_height(), '.0f'),  (i.get_x() + i.get_width() / 2., i.get_height()), ha = 'center', va = 'center', xytext = (0, 9), textcoords = 'offset points')\n",
        "\n",
        "fig.tight_layout()\n",
        "plt.savefig('stroke_smoke.png')"
      ]
    },
    {
      "cell_type": "code",
      "execution_count": null,
      "id": "3d046c2f",
      "metadata": {
        "id": "3d046c2f"
      },
      "outputs": [],
      "source": [
        "from sklearn.feature_selection import SelectPercentile, chi2"
      ]
    },
    {
      "cell_type": "code",
      "execution_count": null,
      "id": "23378449",
      "metadata": {
        "id": "23378449"
      },
      "outputs": [],
      "source": [
        "# Setting significance level as 0.05\n",
        "ALPHA = 0.05"
      ]
    },
    {
      "cell_type": "code",
      "execution_count": null,
      "id": "8a913a8a",
      "metadata": {
        "id": "8a913a8a"
      },
      "outputs": [],
      "source": [
        "df_chi = pd.DataFrame(df)\n",
        "df_chi = df_chi.drop(columns=['age', 'bmi', 'avg_glucose_level'])\n",
        "\n",
        "chi2_res = chi2(df_chi, df.stroke)\n",
        "df_chi2 = pd.DataFrame({'target': 'stroke',\n",
        "                        'cat_feature': df_chi.columns,\n",
        "                        'chi2': chi2_res[0],\n",
        "                        'p-value': chi2_res[1],\n",
        "                        'rounded p': np.around(chi2_res[1], 3),\n",
        "                        'alpha': ALPHA})\n",
        "#df_chi2 = df_chi2.drop(df['cat_feature'=='stroke'], axis=0).reset_index(drop=True)\n",
        "df_chi2['H0'] = df_chi2['p-value'].apply(lambda x: 'Rejected' if x <= ALPHA else 'Fail to reject')\n",
        "df_chi2['relation'] = df_chi2['H0'].apply(lambda x: 'Dependent' if x=='Rejected' else 'Independent')\n",
        "df_chi2.sort_values(by='chi2', ascending=False)\n"
      ]
    },
    {
      "cell_type": "code",
      "execution_count": null,
      "id": "6612fe6f",
      "metadata": {
        "id": "6612fe6f"
      },
      "outputs": [],
      "source": [
        "dfi.export(df_chi2, 'chisquare.png')"
      ]
    },
    {
      "cell_type": "markdown",
      "id": "3f31f56e",
      "metadata": {
        "id": "3f31f56e"
      },
      "source": [
        "## Class Imbalance"
      ]
    },
    {
      "cell_type": "markdown",
      "id": "3e6a13ed",
      "metadata": {
        "id": "3e6a13ed"
      },
      "source": [
        "As can be seen from the pie chart and barchart above, class imbalance exists in the target variable 'stroke' where 95% of the dataset falls under 'no stroke' and the rest under 'stroke'. Random Undersampling method is used to deal with class imbalance. Random Undersampling is chosen since the percentage difference between two classes is large, hence records from the majority class will be deleted. Oversampling is not chosen to avoid overfitting from duplicating too many records in the minority class.\n",
        "\n",
        "The number of records for 'No stroke' are decreased to a ratio of 1:1 with 'Stroke' , and hence the overall size of the dataset will be decreased.\n"
      ]
    },
    {
      "cell_type": "code",
      "execution_count": null,
      "id": "a41b5df8",
      "metadata": {
        "id": "a41b5df8"
      },
      "outputs": [],
      "source": [
        "pip install imblearn"
      ]
    },
    {
      "cell_type": "markdown",
      "id": "e683c59a",
      "metadata": {
        "id": "e683c59a"
      },
      "source": [
        "### Random Under Sample (RUS)"
      ]
    },
    {
      "cell_type": "code",
      "execution_count": null,
      "id": "0509f63b",
      "metadata": {
        "id": "0509f63b"
      },
      "outputs": [],
      "source": [
        "import imblearn\n",
        "from imblearn.under_sampling import RandomUnderSampler\n",
        "\n",
        "X=df_rus.drop(columns='stroke') ##df_rus was added in In[22] above\n",
        "y=df_rus['stroke']\n",
        "\n",
        "rus = RandomUnderSampler(sampling_strategy=1.0, random_state=200)\n",
        "x_rus, y_rus = rus.fit_resample(X, y)\n",
        "\n",
        "print('Original dataset shape:\\n', y.value_counts())\n",
        "print('Undersampled dataset shape:\\n', y_rus.value_counts())\n",
        "\n",
        "ndf = pd.DataFrame(x_rus)\n",
        "ndf['stroke'] = y_rus\n",
        "ndf.shape"
      ]
    },
    {
      "cell_type": "code",
      "execution_count": null,
      "id": "d1929f53",
      "metadata": {
        "id": "d1929f53"
      },
      "outputs": [],
      "source": [
        "sns.countplot(data=ndf, x='stroke')\n",
        "plt.xticks(np.arange(2))\n",
        "plt.xlabel('Stroke Status')\n",
        "plt.ylabel('Count')\n",
        "plt.title('Frequency of Stroke')\n",
        "plt.savefig('strokedistribution2.png')\n",
        "plt.show()"
      ]
    },
    {
      "cell_type": "code",
      "execution_count": null,
      "id": "5a846c75",
      "metadata": {
        "id": "5a846c75"
      },
      "outputs": [],
      "source": [
        "ndf.groupby(['gender', 'stroke'])['stroke'].count()"
      ]
    },
    {
      "cell_type": "markdown",
      "id": "a124009f",
      "metadata": {
        "id": "a124009f"
      },
      "source": [
        "## Synthetic Minority Oversampling Technique (SMOTE)"
      ]
    },
    {
      "cell_type": "code",
      "execution_count": null,
      "id": "cbc5fb83",
      "metadata": {
        "id": "cbc5fb83"
      },
      "outputs": [],
      "source": [
        "from imblearn.over_sampling import SMOTE\n",
        "\n",
        "X_smote=df_smote.drop(columns='stroke') ##df_smote was added in In[23] above\n",
        "y_smote=df_smote['stroke']\n",
        "\n",
        "smote = SMOTE()\n",
        "x_oversample, y_oversample = smote.fit_resample(X_smote, y_smote)\n",
        "\n",
        "print('Original dataset shape:\\n', y_smote.value_counts())\n",
        "print('Oversampled dataset shape:\\n', y_oversample.value_counts())\n",
        "\n",
        "sdf = pd.DataFrame(x_oversample)\n",
        "sdf['stroke'] = y_oversample\n",
        "sdf.shape"
      ]
    },
    {
      "cell_type": "code",
      "execution_count": null,
      "id": "09e726b1",
      "metadata": {
        "id": "09e726b1"
      },
      "outputs": [],
      "source": [
        "sns.countplot(data=sdf, x='stroke')\n",
        "plt.xticks(np.arange(2))\n",
        "plt.xlabel('Stroke Status')\n",
        "plt.ylabel('Count')\n",
        "plt.title('Frequency of Stroke')\n",
        "plt.savefig('strokedistribution3.png')\n",
        "plt.show()"
      ]
    },
    {
      "cell_type": "code",
      "execution_count": null,
      "id": "d9364d3d",
      "metadata": {
        "id": "d9364d3d"
      },
      "outputs": [],
      "source": [
        "sdf.groupby(['gender', 'stroke'])['stroke'].count()"
      ]
    },
    {
      "cell_type": "markdown",
      "id": "bc0d5d74",
      "metadata": {
        "id": "bc0d5d74"
      },
      "source": [
        "## Model Development"
      ]
    },
    {
      "cell_type": "markdown",
      "id": "97b84807",
      "metadata": {
        "id": "97b84807"
      },
      "source": [
        "### Model Development with RUS without feature selection"
      ]
    },
    {
      "cell_type": "code",
      "execution_count": null,
      "id": "3d03bc57",
      "metadata": {
        "id": "3d03bc57"
      },
      "outputs": [],
      "source": [
        "#Dropping the target variable\n",
        "X = ndf.drop('stroke', axis = 1)"
      ]
    },
    {
      "cell_type": "code",
      "execution_count": null,
      "id": "46e5e884",
      "metadata": {
        "id": "46e5e884"
      },
      "outputs": [],
      "source": [
        "X.head()"
      ]
    },
    {
      "cell_type": "code",
      "execution_count": null,
      "id": "99467eb4",
      "metadata": {
        "id": "99467eb4"
      },
      "outputs": [],
      "source": [
        "Y = ndf['stroke']\n",
        "Y.head()"
      ]
    },
    {
      "cell_type": "code",
      "execution_count": null,
      "id": "0b33abf9",
      "metadata": {
        "id": "0b33abf9"
      },
      "outputs": [],
      "source": [
        "#Create the training and testing data\n",
        "from sklearn.model_selection import train_test_split, cross_val_score\n",
        "\n",
        "#Split the data by allocating 80% for training dataset and the remaining 20% for testing dataset\n",
        "X_train, X_test, Y_train, Y_test = train_test_split(X, Y, test_size = 0.2, random_state = 0)"
      ]
    },
    {
      "cell_type": "code",
      "execution_count": null,
      "id": "7ddc841c",
      "metadata": {
        "id": "7ddc841c"
      },
      "outputs": [],
      "source": [
        "#Display all the sizes of the training and testing dataset\n",
        "print ('The size of our training \"X\" (input features) is', X_train.shape)\n",
        "print ('\\n')\n",
        "print ('The size of our testing \"X\" (input features) is', X_test.shape)\n",
        "print ('\\n')\n",
        "print ('The size of our training \"Y\" (output feature) is', Y_train.shape)\n",
        "print ('\\n')\n",
        "print ('The size of our testing \"Y\" (output features) is', Y_test.shape)"
      ]
    },
    {
      "cell_type": "code",
      "execution_count": null,
      "id": "cba87d01",
      "metadata": {
        "id": "cba87d01"
      },
      "outputs": [],
      "source": [
        "from sklearn.metrics import accuracy_score\n",
        "from sklearn.metrics import precision_score\n",
        "from sklearn.metrics import recall_score\n",
        "from sklearn.metrics import f1_score\n",
        "from sklearn.metrics import roc_auc_score\n",
        "from sklearn.metrics import confusion_matrix\n",
        "from sklearn.metrics import classification_report\n",
        "from sklearn import metrics\n",
        "from sklearn.metrics import RocCurveDisplay\n",
        "import dataframe_image as dfi"
      ]
    },
    {
      "cell_type": "markdown",
      "id": "60cd058b",
      "metadata": {
        "id": "60cd058b"
      },
      "source": [
        "### Logistic Regression"
      ]
    },
    {
      "cell_type": "code",
      "execution_count": null,
      "id": "4852b93d",
      "metadata": {
        "id": "4852b93d"
      },
      "outputs": [],
      "source": [
        "from sklearn.linear_model import LogisticRegression\n",
        "log = LogisticRegression(solver='lbfgs', max_iter=10000)\n",
        "log.fit(X_train, Y_train)\n",
        "\n",
        "#Test set prediction\n",
        "y_pred_log = log.predict(X_test)\n",
        "y_pred_prob_log = log.predict_proba(X_test)[:, 1]\n",
        "cr = classification_report(Y_test, y_pred_log)\n",
        "print(cr)"
      ]
    },
    {
      "cell_type": "code",
      "execution_count": null,
      "id": "99b284fc",
      "metadata": {
        "id": "99b284fc"
      },
      "outputs": [],
      "source": [
        "print('Precision Score: ', round(precision_score(Y_test, y_pred_log), 2))\n",
        "print('Recall Score: ', round(recall_score(Y_test, y_pred_log), 2))\n",
        "print('F1 Score: ', round(f1_score(Y_test, y_pred_log), 2))\n",
        "lr_accuracy = accuracy_score(Y_test, y_pred_log)\n",
        "print(f\"Accuracy Score: {lr_accuracy * 100:.2f}%\")\n",
        "print('ROC AUC: ', round(roc_auc_score(Y_test, y_pred_prob_log), 2))"
      ]
    },
    {
      "cell_type": "code",
      "execution_count": null,
      "id": "8f211f21",
      "metadata": {
        "id": "8f211f21"
      },
      "outputs": [],
      "source": [
        "from sklearn.metrics import roc_curve\n",
        "from sklearn.metrics import auc\n",
        "\n",
        "false_positive_rate, true_positive_rate, thresholds = roc_curve(Y_test, y_pred_prob_log)\n",
        "roc_auc_log = auc(false_positive_rate, true_positive_rate)\n",
        "\n",
        "sns.set_theme(style = 'white')\n",
        "plt.figure(figsize = (8, 8))\n",
        "plt.plot(false_positive_rate,true_positive_rate, color = '#174ab0', label = 'AUC = %0.3f' % roc_auc_log)\n",
        "plt.legend(loc = 'lower right')\n",
        "plt.plot([0, 1], [0, 1], linestyle = '--', color = '#b01717')\n",
        "plt.axis('tight')\n",
        "plt.ylabel('True Positive Rate')\n",
        "plt.xlabel('False Positive Rate')\n",
        "plt.savefig('ROC_RUS_log.jpg')\n",
        "plt.show()"
      ]
    },
    {
      "cell_type": "markdown",
      "id": "f012c7bf",
      "metadata": {
        "id": "f012c7bf"
      },
      "source": [
        "AUC For Logisitic Regression with RUS without feature selection\n",
        "\n",
        "AUC of Logistic Regression with RUS without feature selection was found to be 0.84, which is considered a good score (0.8 - 0.9 AUC) based on the rule of thumb from Hosmer and Lemeshow in Applied Logistic Regression. With the blue line representing the ROC for Logistic Regression with RUS without feature selection and the red line representing the ROC of random chance."
      ]
    },
    {
      "cell_type": "code",
      "execution_count": null,
      "id": "163cb720",
      "metadata": {
        "id": "163cb720"
      },
      "outputs": [],
      "source": [
        "sns.heatmap(\n",
        "    confusion_matrix(Y_test, y_pred_log),\n",
        "    cmap = palette,\n",
        "    annot = True,\n",
        "    fmt = 'd',\n",
        "    yticklabels = ['No Stroke', 'Stroke'],\n",
        "    xticklabels = ['Pred No Stroke', 'Pred Stroke']\n",
        ")\n",
        "plt.title('Confusion Matrix', pad = 15, fontsize = 14)"
      ]
    },
    {
      "cell_type": "code",
      "execution_count": null,
      "id": "f9d257d4",
      "metadata": {
        "id": "f9d257d4"
      },
      "outputs": [],
      "source": [
        "lr_scores = cross_val_score(log, X=X_train, y=Y_train, cv=5)\n",
        "lr_avg_score = lr_scores.mean()\n",
        "lr_avg_score"
      ]
    },
    {
      "cell_type": "markdown",
      "id": "fe32ad23",
      "metadata": {
        "id": "fe32ad23"
      },
      "source": [
        "Based on the value of the mean of cross validation score with 5 folds, it is determined that the K-fold validation value of Logistic Regression with RUS without feature selection is 0.7540, showing a decent performance of the machine learning algorithm on a dataset."
      ]
    },
    {
      "cell_type": "markdown",
      "id": "c2f9d18d",
      "metadata": {
        "id": "c2f9d18d"
      },
      "source": [
        "### Random Forest Classifier"
      ]
    },
    {
      "cell_type": "code",
      "execution_count": null,
      "id": "00e5d7d5",
      "metadata": {
        "id": "00e5d7d5"
      },
      "outputs": [],
      "source": [
        "from sklearn.ensemble import RandomForestClassifier\n",
        "\n",
        "rf = RandomForestClassifier()\n",
        "rf.fit(X_train, Y_train)\n",
        "\n",
        "#Test set prediction\n",
        "y_pred_rf = rf.predict(X_test)\n",
        "y_pred_prob_rf = rf.predict_proba(X_test)[:, 1]\n",
        "cr_rf = classification_report(Y_test, y_pred_rf)\n",
        "print(cr_rf)"
      ]
    },
    {
      "cell_type": "code",
      "execution_count": null,
      "id": "94e80d5f",
      "metadata": {
        "id": "94e80d5f"
      },
      "outputs": [],
      "source": [
        "print('Precision Score: ', round(precision_score(Y_test, y_pred_rf), 2))\n",
        "print('Recall Score: ', round(recall_score(Y_test, y_pred_rf), 2))\n",
        "print('F1 Score: ', round(f1_score(Y_test, y_pred_rf), 2))\n",
        "rf_accuracy = accuracy_score(Y_test, y_pred_rf)\n",
        "print(f\"Accuracy Score: {rf_accuracy * 100:.2f}%\")\n",
        "print('ROC AUC: ', round(roc_auc_score(Y_test, y_pred_prob_rf), 2))"
      ]
    },
    {
      "cell_type": "code",
      "execution_count": null,
      "id": "85715bd4",
      "metadata": {
        "id": "85715bd4"
      },
      "outputs": [],
      "source": [
        "false_positive_rate, true_positive_rate, thresholds = roc_curve(Y_test, y_pred_prob_rf)\n",
        "roc_auc_rf = auc(false_positive_rate, true_positive_rate)\n",
        "\n",
        "sns.set_theme(style = 'white')\n",
        "plt.figure(figsize = (8, 8))\n",
        "plt.plot(false_positive_rate,true_positive_rate, color = '#174ab0', label = 'AUC = %0.3f' % roc_auc_rf)\n",
        "plt.legend(loc = 'lower right')\n",
        "plt.plot([0, 1], [0, 1], linestyle = '--', color = '#b01717')\n",
        "plt.axis('tight')\n",
        "plt.ylabel('True Positive Rate')\n",
        "plt.xlabel('False Positive Rate')\n",
        "plt.savefig('ROC_RUS_rf.jpg')\n",
        "plt.show()"
      ]
    },
    {
      "cell_type": "markdown",
      "id": "c121ca6a",
      "metadata": {
        "id": "c121ca6a"
      },
      "source": [
        "Figure above shows a more detailed version of the ROC for Random Forest Classifier with RUS without feature selection, with the blue line representing the ROC for Random Forest Classifier with RUS without feature selection and the Redline representing the ROC of random chance.\n",
        "\n",
        "AUC of Random Forest Classifier with RUS without feature selection was found to be 0.844, which is considered a good score (0.8 - 0.9 AUC) based on the rule of thumb of deciles from Hosmer and Lemeshow."
      ]
    },
    {
      "cell_type": "code",
      "execution_count": null,
      "id": "0014e0bf",
      "metadata": {
        "id": "0014e0bf"
      },
      "outputs": [],
      "source": [
        "sns.heatmap(\n",
        "    confusion_matrix(Y_test, y_pred_rf),\n",
        "    cmap = palette,\n",
        "    annot = True,\n",
        "    fmt = 'd',\n",
        "    yticklabels = ['No Stroke', 'Stroke'],\n",
        "    xticklabels = ['Pred No Stroke', 'Pred Stroke']\n",
        ")\n",
        "plt.title('Confusion Matrix', pad = 15, fontsize = 14)"
      ]
    },
    {
      "cell_type": "code",
      "execution_count": null,
      "id": "46d37b99",
      "metadata": {
        "id": "46d37b99"
      },
      "outputs": [],
      "source": [
        "rf_scores = cross_val_score(rf, X=X_train, y=Y_train, cv=5)\n",
        "rf_avg_score = rf_scores.mean()\n",
        "rf_avg_score"
      ]
    },
    {
      "cell_type": "markdown",
      "id": "84e7988e",
      "metadata": {
        "id": "84e7988e"
      },
      "source": [
        "Based on the value of the mean of cross validation score with 5 folds, it is determined that the K-fold validation value of Logistic Regression with RUS without feature selection is 0.7439, showing a decent performance of the machine learning algorithm on a dataset."
      ]
    },
    {
      "cell_type": "markdown",
      "id": "3a87cd78",
      "metadata": {
        "id": "3a87cd78"
      },
      "source": [
        "### K-Nearest Neighbors"
      ]
    },
    {
      "cell_type": "code",
      "execution_count": null,
      "id": "f84ea33d",
      "metadata": {
        "id": "f84ea33d"
      },
      "outputs": [],
      "source": [
        "from sklearn.neighbors import KNeighborsClassifier\n",
        "\n",
        "knn = KNeighborsClassifier()\n",
        "knn.fit(X_train, Y_train)\n",
        "y_pred_knn = knn.predict(X_test)\n",
        "y_pred_prob_knn = knn.predict_proba(X_test)[:, 1]\n",
        "cr_knn = classification_report(Y_test, y_pred_knn)\n",
        "print(cr_knn)"
      ]
    },
    {
      "cell_type": "code",
      "execution_count": null,
      "id": "bfad41f7",
      "metadata": {
        "id": "bfad41f7"
      },
      "outputs": [],
      "source": [
        "print('Precision Score: ', round(precision_score(Y_test, y_pred_knn), 2))\n",
        "print('Recall Score: ', round(recall_score(Y_test, y_pred_knn), 2))\n",
        "print('F1 Score: ', round(f1_score(Y_test, y_pred_knn), 2))\n",
        "knn_accuracy = accuracy_score(Y_test, y_pred_knn)\n",
        "print(f\"Accuracy Score: {knn_accuracy * 100:.2f}%\")\n",
        "print('ROC AUC: ', round(roc_auc_score(Y_test, y_pred_prob_knn), 2))"
      ]
    },
    {
      "cell_type": "code",
      "execution_count": null,
      "id": "712dbee4",
      "metadata": {
        "id": "712dbee4"
      },
      "outputs": [],
      "source": [
        "false_positive_rate, true_positive_rate, thresholds = roc_curve(Y_test, y_pred_prob_knn)\n",
        "roc_auc_knn = auc(false_positive_rate, true_positive_rate)\n",
        "\n",
        "sns.set_theme(style = 'white')\n",
        "plt.figure(figsize = (8, 8))\n",
        "plt.plot(false_positive_rate,true_positive_rate, color = '#174ab0', label = 'AUC = %0.3f' % roc_auc_knn)\n",
        "plt.legend(loc = 'lower right')\n",
        "plt.plot([0, 1], [0, 1], linestyle = '--', color = '#b01717')\n",
        "plt.axis('tight')\n",
        "plt.ylabel('True Positive Rate')\n",
        "plt.xlabel('False Positive Rate')\n",
        "plt.savefig('ROC_RUS_KNN.jpg')\n",
        "plt.show()"
      ]
    },
    {
      "cell_type": "markdown",
      "id": "195ddc02",
      "metadata": {
        "id": "195ddc02"
      },
      "source": [
        "Figure above shows a more detailed version of the ROC for K-Nearest Neighbours with RUS without feature selection, with the blue line representing the ROC for K - Nearest Neighbours with RUS without feature selection and the Redline representing the ROC of random chance.\n",
        "\n",
        "AUC of K - Nearest Neighbours with RUS without feature selection was found to be 0.763, which is in the neighbourhood of a fair distribution (0.7 - 0.8 AUC) based on the rule of thumb of deciles from Hosmer and Lemeshow."
      ]
    },
    {
      "cell_type": "code",
      "execution_count": null,
      "id": "6aeb2940",
      "metadata": {
        "id": "6aeb2940"
      },
      "outputs": [],
      "source": [
        "sns.heatmap(\n",
        "    confusion_matrix(Y_test, y_pred_knn),\n",
        "    cmap = palette,\n",
        "    annot = True,\n",
        "    fmt = 'd',\n",
        "    yticklabels = ['No Stroke', 'Stroke'],\n",
        "    xticklabels = ['Pred No Stroke', 'Pred Stroke']\n",
        ")\n",
        "plt.title('Confusion Matrix', pad = 15, fontsize = 14)"
      ]
    },
    {
      "cell_type": "code",
      "execution_count": null,
      "id": "c8ef6253",
      "metadata": {
        "id": "c8ef6253"
      },
      "outputs": [],
      "source": [
        "knn_scores = cross_val_score(knn, X=X_train, y=Y_train, cv=5)\n",
        "knn_avg_score = knn_scores.mean()\n",
        "knn_avg_score"
      ]
    },
    {
      "cell_type": "markdown",
      "id": "22d92cf0",
      "metadata": {
        "id": "22d92cf0"
      },
      "source": [
        "Based on the value of the mean of cross validation score with 5 folds, it is determined that the K-fold validation value of K - Nearest Neighbours with RUS without feature selection is 0.7213, showing a decent performance of the machine learning algorithm on a dataset."
      ]
    },
    {
      "cell_type": "markdown",
      "id": "6b427801",
      "metadata": {
        "id": "6b427801"
      },
      "source": [
        "### Decision Tree Classifier"
      ]
    },
    {
      "cell_type": "code",
      "execution_count": null,
      "id": "f8732e02",
      "metadata": {
        "id": "f8732e02"
      },
      "outputs": [],
      "source": [
        "from sklearn.tree import DecisionTreeClassifier\n",
        "\n",
        "dtc = DecisionTreeClassifier()\n",
        "dtc.fit(X_train, Y_train)\n",
        "\n",
        "#Test set prediction\n",
        "y_pred_dtc = dtc.predict(X_test)\n",
        "y_pred_prob_dtc = dtc.predict_proba(X_test)[:, 1]\n",
        "cr_dtc = classification_report(Y_test, y_pred_dtc)\n",
        "print(cr_dtc)"
      ]
    },
    {
      "cell_type": "code",
      "execution_count": null,
      "id": "ee893811",
      "metadata": {
        "id": "ee893811"
      },
      "outputs": [],
      "source": [
        "print('Precision Score: ', round(precision_score(Y_test, y_pred_dtc), 2))\n",
        "print('Recall Score: ', round(recall_score(Y_test, y_pred_dtc), 2))\n",
        "print('F1 Score: ', round(f1_score(Y_test, y_pred_dtc), 2))\n",
        "dtc_accuracy = accuracy_score(Y_test, y_pred_dtc)\n",
        "print(f\"Accuracy Score: {dtc_accuracy * 100:.2f}%\")\n",
        "print('ROC AUC: ', round(roc_auc_score(Y_test, y_pred_prob_dtc), 2))"
      ]
    },
    {
      "cell_type": "code",
      "execution_count": null,
      "id": "9434088d",
      "metadata": {
        "id": "9434088d"
      },
      "outputs": [],
      "source": [
        "false_positive_rate, true_positive_rate, thresholds = roc_curve(Y_test, y_pred_prob_dtc)\n",
        "roc_auc_dtc = auc(false_positive_rate, true_positive_rate)\n",
        "\n",
        "sns.set_theme(style = 'white')\n",
        "plt.figure(figsize = (8, 8))\n",
        "plt.plot(false_positive_rate,true_positive_rate, color = '#174ab0', label = 'AUC = %0.3f' % roc_auc_dtc)\n",
        "plt.legend(loc = 'lower right')\n",
        "plt.plot([0, 1], [0, 1], linestyle = '--', color = '#b01717')\n",
        "plt.axis('tight')\n",
        "plt.ylabel('True Positive Rate')\n",
        "plt.xlabel('False Positive Rate')\n",
        "plt.savefig('ROC_RUS_DTC.jpg')\n",
        "plt.show()"
      ]
    },
    {
      "cell_type": "markdown",
      "id": "fac4377a",
      "metadata": {
        "id": "fac4377a"
      },
      "source": [
        "Figure above shows a more detailed version of the ROC for Decision Tree Classifier with RUS without feature selection, with the blue line representing the ROC for Decision Tree Classifier with RUS without feature selection and the Redline representing the ROC of random chance.\n",
        "\n",
        "AUC of Decision Tree Classifier with RUS without feature selection was found to be 0.601, which can be considered a poor distribution (0.6 - 0.7 AUC) based on the rule of thumb of deciles from Hosmer and Lemeshow."
      ]
    },
    {
      "cell_type": "code",
      "execution_count": null,
      "id": "d428b08f",
      "metadata": {
        "id": "d428b08f"
      },
      "outputs": [],
      "source": [
        "sns.heatmap(\n",
        "    confusion_matrix(Y_test, y_pred_dtc),\n",
        "    cmap = palette,\n",
        "    annot = True,\n",
        "    fmt = 'd',\n",
        "    yticklabels = ['No Stroke', 'Stroke'],\n",
        "    xticklabels = ['Pred No Stroke', 'Pred Stroke']\n",
        ")\n",
        "plt.title('Confusion Matrix', pad = 15, fontsize = 14)"
      ]
    },
    {
      "cell_type": "code",
      "execution_count": null,
      "id": "1449aa6e",
      "metadata": {
        "id": "1449aa6e"
      },
      "outputs": [],
      "source": [
        "dtc_scores = cross_val_score(dtc, X=X_train, y=Y_train, cv=5)\n",
        "dtc_avg_score = dtc_scores.mean()\n",
        "dtc_avg_score"
      ]
    },
    {
      "cell_type": "markdown",
      "id": "3fd7a6cf",
      "metadata": {
        "id": "3fd7a6cf"
      },
      "source": [
        "Based on the value of the mean of cross validation score with 5 folds, it is determined that the K-fold validation value of Decision Tree Classifier with RUS without feature selection is 0.6557, showing a bad performance of the machine learning algorithm on a dataset."
      ]
    },
    {
      "cell_type": "markdown",
      "id": "8a1a66d5",
      "metadata": {
        "id": "8a1a66d5"
      },
      "source": [
        "### Naive Bayes"
      ]
    },
    {
      "cell_type": "code",
      "execution_count": null,
      "id": "592c6f74",
      "metadata": {
        "id": "592c6f74"
      },
      "outputs": [],
      "source": [
        "from sklearn.naive_bayes import GaussianNB\n",
        "\n",
        "nb = GaussianNB()\n",
        "nb.fit(X_train, Y_train)\n",
        "\n",
        "#Test set prediction\n",
        "y_pred_nb = nb.predict(X_test)\n",
        "y_pred_prob_nb = nb.predict_proba(X_test)[:, 1]\n",
        "cr_nb = classification_report(Y_test, y_pred_nb)\n",
        "print(cr_nb)"
      ]
    },
    {
      "cell_type": "code",
      "execution_count": null,
      "id": "67d3a52d",
      "metadata": {
        "id": "67d3a52d"
      },
      "outputs": [],
      "source": [
        "print('Precision Score: ', round(precision_score(Y_test, y_pred_nb), 2))\n",
        "print('Recall Score: ', round(recall_score(Y_test, y_pred_nb), 2))\n",
        "print('F1 Score: ', round(f1_score(Y_test, y_pred_nb), 2))\n",
        "nb_accuracy = accuracy_score(Y_test, y_pred_nb)\n",
        "print(f\"Accuracy Score: {nb_accuracy * 100:.2f}%\")\n",
        "print('ROC AUC: ', round(roc_auc_score(Y_test, y_pred_prob_nb), 2))"
      ]
    },
    {
      "cell_type": "code",
      "execution_count": null,
      "id": "5888c8d0",
      "metadata": {
        "id": "5888c8d0"
      },
      "outputs": [],
      "source": [
        "false_positive_rate, true_positive_rate, thresholds = roc_curve(Y_test, y_pred_prob_nb)\n",
        "roc_auc_nb = auc(false_positive_rate, true_positive_rate)\n",
        "\n",
        "sns.set_theme(style = 'white')\n",
        "plt.figure(figsize = (8, 8))\n",
        "plt.plot(false_positive_rate,true_positive_rate, color = '#174ab0', label = 'AUC = %0.3f' % roc_auc_nb)\n",
        "plt.legend(loc = 'lower right')\n",
        "plt.plot([0, 1], [0, 1], linestyle = '--', color = '#b01717')\n",
        "plt.axis('tight')\n",
        "plt.ylabel('True Positive Rate')\n",
        "plt.xlabel('False Positive Rate')\n",
        "plt.savefig('ROC_RUS_NB.jpg')\n",
        "plt.show()"
      ]
    },
    {
      "cell_type": "markdown",
      "id": "83aaae55",
      "metadata": {
        "id": "83aaae55"
      },
      "source": [
        "Figure above shows a more detailed version of the ROC for Naive Bayes with RUS without feature selection, with the blue line representing the ROC for Naive Bayes with RUS without feature selection and the Redline representing the ROC of random chance.\n",
        "\n",
        "AUC of Naive Bayes with RUS without feature selection was found to be 0.851, which can be considered a good distribution (0.8 - 0.9 AUC) based on the rule of thumb of deciles from Hosmer and Lemeshow."
      ]
    },
    {
      "cell_type": "code",
      "execution_count": null,
      "id": "ebfbd66e",
      "metadata": {
        "id": "ebfbd66e"
      },
      "outputs": [],
      "source": [
        "sns.heatmap(\n",
        "    confusion_matrix(Y_test, y_pred_nb),\n",
        "    cmap = palette,\n",
        "    annot = True,\n",
        "    fmt = 'd',\n",
        "    yticklabels = ['No Stroke', 'Stroke'],\n",
        "    xticklabels = ['Pred No Stroke', 'Pred Stroke']\n",
        ")\n",
        "plt.title('Confusion Matrix', pad = 15, fontsize = 14)"
      ]
    },
    {
      "cell_type": "code",
      "execution_count": null,
      "id": "c7571a62",
      "metadata": {
        "id": "c7571a62"
      },
      "outputs": [],
      "source": [
        "nb_scores = cross_val_score(nb, X=X_train, y=Y_train, cv=5)\n",
        "nb_avg_score = nb_scores.mean()\n",
        "nb_avg_score"
      ]
    },
    {
      "cell_type": "markdown",
      "id": "5324553c",
      "metadata": {
        "id": "5324553c"
      },
      "source": [
        "Based on the value of the mean of cross validation score with 5 folds, it is determined that the K-fold validation value of Naive Bayes Classifier with RUS without feature selection is 0.703, showing a decent performance of the machine learning algorithm on a dataset."
      ]
    },
    {
      "cell_type": "code",
      "execution_count": null,
      "id": "e5c68366",
      "metadata": {
        "id": "e5c68366"
      },
      "outputs": [],
      "source": [
        "model_names = ['Logistic Regresstion', 'Naive Bayes', 'K-Nearest Neighbours', 'Decision Tree Classifier', 'Random Forest Classifier']\n",
        "accuracies = [lr_accuracy, nb_accuracy, knn_accuracy, dtc_accuracy, rf_accuracy]\n",
        "kfold_validation = [lr_avg_score, nb_avg_score, knn_avg_score, dtc_avg_score, rf_avg_score]\n",
        "roc_scores = [roc_auc_score(Y_test, y_pred_prob_log), roc_auc_score(Y_test, y_pred_prob_nb), roc_auc_score(Y_test, y_pred_prob_knn), roc_auc_score(Y_test, y_pred_prob_dtc), roc_auc_score(Y_test, y_pred_prob_rf)]\n",
        "precision_scores = [precision_score(Y_test, y_pred_log), precision_score(Y_test, y_pred_nb), precision_score(Y_test, y_pred_knn), precision_score(Y_test, y_pred_dtc), precision_score(Y_test, y_pred_rf)]\n",
        "recall_scores = [recall_score(Y_test, y_pred_log), recall_score(Y_test, y_pred_nb), recall_score(Y_test, y_pred_knn), recall_score(Y_test, y_pred_dtc), recall_score(Y_test, y_pred_rf)]\n",
        "f1_scores = [f1_score(Y_test, y_pred_log), f1_score(Y_test, y_pred_nb), f1_score(Y_test, y_pred_knn), f1_score(Y_test, y_pred_dtc), f1_score(Y_test, y_pred_rf)]\n",
        "accuracy_table = pd.DataFrame({'Model':model_names, 'Accuracy':accuracies,'K-Fold Validation':kfold_validation, 'ROC Score':roc_scores, 'Precision':precision_scores,'Recall':recall_scores, 'F1 Score':f1_scores})\n",
        "accuracy_table = accuracy_table.sort_values(by=['Accuracy','K-Fold Validation','ROC Score','Precision','Recall','F1 Score'], axis=0, ascending = False)\n",
        "accuracy_table.reset_index(inplace = True, drop=True)\n",
        "accuracy_table.index += 1\n",
        "accuracy_table"
      ]
    },
    {
      "cell_type": "code",
      "execution_count": null,
      "id": "2f3055a8",
      "metadata": {
        "id": "2f3055a8"
      },
      "outputs": [],
      "source": [
        "dfi.export(accuracy_table, 'rus.png')"
      ]
    },
    {
      "cell_type": "markdown",
      "id": "2dad9f47",
      "metadata": {
        "id": "2dad9f47"
      },
      "source": [
        "### Model Development with RUS with feature selection"
      ]
    },
    {
      "cell_type": "code",
      "execution_count": null,
      "id": "1864de8c",
      "metadata": {
        "id": "1864de8c"
      },
      "outputs": [],
      "source": [
        "x_feat = ndf[['age','hypertension','heart_disease','work_type','avg_glucose_level','bmi','smoking_status']]\n",
        "y_feat = ndf['stroke']"
      ]
    },
    {
      "cell_type": "code",
      "execution_count": null,
      "id": "7bbc7fc9",
      "metadata": {
        "id": "7bbc7fc9"
      },
      "outputs": [],
      "source": [
        "x_feat.head()"
      ]
    },
    {
      "cell_type": "code",
      "execution_count": null,
      "id": "0767e650",
      "metadata": {
        "id": "0767e650"
      },
      "outputs": [],
      "source": [
        "y_feat.head()"
      ]
    },
    {
      "cell_type": "code",
      "execution_count": null,
      "id": "af1f5d3d",
      "metadata": {
        "id": "af1f5d3d"
      },
      "outputs": [],
      "source": [
        "#Split the data by allocating 80% for training dataset and the remaining 20% for testing dataset\n",
        "X_feat_train, X_feat_test, Y_feat_train, Y_feat_test = train_test_split(x_feat, y_feat, test_size = 0.2, random_state = 0)"
      ]
    },
    {
      "cell_type": "code",
      "execution_count": null,
      "id": "5fce797e",
      "metadata": {
        "id": "5fce797e"
      },
      "outputs": [],
      "source": [
        "#Display all the sizes of the training and testing dataset\n",
        "print ('The size of our training \"X\" (input features) is', X_feat_train.shape)\n",
        "print ('\\n')\n",
        "print ('The size of our testing \"X\" (input features) is', X_feat_test.shape)\n",
        "print ('\\n')\n",
        "print ('The size of our training \"Y\" (output feature) is', Y_feat_train.shape)\n",
        "print ('\\n')\n",
        "print ('The size of our testing \"Y\" (output features) is', Y_feat_test.shape)"
      ]
    },
    {
      "cell_type": "markdown",
      "id": "688fbc52",
      "metadata": {
        "id": "688fbc52"
      },
      "source": [
        "### Logistic Regression"
      ]
    },
    {
      "cell_type": "code",
      "execution_count": null,
      "id": "1216d46a",
      "metadata": {
        "id": "1216d46a"
      },
      "outputs": [],
      "source": [
        "log_feat = LogisticRegression(solver='lbfgs', max_iter=10000)\n",
        "log_feat.fit(X_feat_train, Y_feat_train)\n",
        "\n",
        "#Test set prediction\n",
        "y_feat_pred_log = log_feat.predict(X_feat_test)\n",
        "y_pred_prob_log_feat = log_feat.predict_proba(X_feat_test)[:, 1]\n",
        "cr_lr_feat = classification_report(Y_feat_test, y_feat_pred_log)\n",
        "print(cr_lr_feat)"
      ]
    },
    {
      "cell_type": "code",
      "execution_count": null,
      "id": "beda7704",
      "metadata": {
        "id": "beda7704"
      },
      "outputs": [],
      "source": [
        "print('Precision Score: ', round(precision_score(Y_feat_test, y_feat_pred_log), 2))\n",
        "print('Recall Score: ', round(recall_score(Y_feat_test, y_feat_pred_log), 2))\n",
        "print('F1 Score: ', round(f1_score(Y_feat_test, y_feat_pred_log), 2))\n",
        "lr_feat_accuracy = accuracy_score(Y_feat_test, y_feat_pred_log)\n",
        "print(f\"Accuracy Score: {lr_feat_accuracy * 100:.2f}%\")\n",
        "print('ROC AUC: ', round(roc_auc_score(Y_feat_test, y_pred_prob_log_feat), 2))"
      ]
    },
    {
      "cell_type": "code",
      "execution_count": null,
      "id": "3a78674a",
      "metadata": {
        "id": "3a78674a"
      },
      "outputs": [],
      "source": [
        "false_positive_rate, true_positive_rate, thresholds = roc_curve(Y_test, y_pred_prob_log_feat)\n",
        "roc_auc_log_feat = auc(false_positive_rate, true_positive_rate)\n",
        "\n",
        "sns.set_theme(style = 'white')\n",
        "plt.figure(figsize = (8, 8))\n",
        "plt.plot(false_positive_rate,true_positive_rate, color = '#174ab0', label = 'AUC = %0.3f' % roc_auc_log_feat)\n",
        "plt.legend(loc = 'lower right')\n",
        "plt.plot([0, 1], [0, 1], linestyle = '--', color = '#b01717')\n",
        "plt.axis('tight')\n",
        "plt.ylabel('True Positive Rate')\n",
        "plt.xlabel('False Positive Rate')\n",
        "plt.savefig('ROC_RUS_feat_log.jpg')\n",
        "plt.show()"
      ]
    },
    {
      "cell_type": "markdown",
      "id": "895eb852",
      "metadata": {
        "id": "895eb852"
      },
      "source": [
        "Figure above shows a more detailed version of the ROC for Logistic Regression with RUS with feature selection, with the blue line representing the ROC for Logistic Regression with RUS with feature selection and the Redline representing the ROC of random chance.\n",
        "\n",
        "AUC of Logistic Regression with RUS with feature selection was found to be 0.856, which can be considered a good distribution (0.8 - 0.9 AUC) based on the rule of thumb of deciles from Hosmer and Lemeshow."
      ]
    },
    {
      "cell_type": "code",
      "execution_count": null,
      "id": "b326170a",
      "metadata": {
        "id": "b326170a"
      },
      "outputs": [],
      "source": [
        "sns.heatmap(\n",
        "    confusion_matrix(Y_feat_test, y_feat_pred_log),\n",
        "    cmap = palette,\n",
        "    annot = True,\n",
        "    fmt = 'd',\n",
        "    yticklabels = ['No Stroke', 'Stroke'],\n",
        "    xticklabels = ['Pred No Stroke', 'Pred Stroke']\n",
        ")\n",
        "plt.title('Confusion Matrix', pad = 15, fontsize = 14)"
      ]
    },
    {
      "cell_type": "code",
      "execution_count": null,
      "id": "665fbb15",
      "metadata": {
        "id": "665fbb15"
      },
      "outputs": [],
      "source": [
        "lr_feat_scores = cross_val_score(log_feat, X=X_feat_train, y=Y_feat_train, cv=5)\n",
        "lr_feat_avg_score = lr_feat_scores.mean()\n",
        "lr_feat_avg_score"
      ]
    },
    {
      "cell_type": "markdown",
      "id": "a33a4323",
      "metadata": {
        "id": "a33a4323"
      },
      "source": [
        "Based on the value of the mean of cross validation score with 5 folds, it is determined that the K-fold validation value of Logistic Regression with RUS with feature selection is 0.759, showing a decent performance of the machine learning algorithm on a dataset."
      ]
    },
    {
      "cell_type": "markdown",
      "id": "9df62611",
      "metadata": {
        "id": "9df62611"
      },
      "source": [
        "### Random Forest Classifier"
      ]
    },
    {
      "cell_type": "code",
      "execution_count": null,
      "id": "e7938734",
      "metadata": {
        "id": "e7938734"
      },
      "outputs": [],
      "source": [
        "rf_feat = RandomForestClassifier()\n",
        "rf_feat.fit(X_feat_train, Y_feat_train)\n",
        "\n",
        "#Test set prediction\n",
        "y_feat_pred_rf = rf_feat.predict(X_feat_test)\n",
        "y_pred_prob_rf_feat = rf_feat.predict_proba(X_feat_test)[:, 1]\n",
        "cr_rf_feat = classification_report(Y_feat_test, y_feat_pred_rf)\n",
        "print(cr_rf_feat)"
      ]
    },
    {
      "cell_type": "code",
      "execution_count": null,
      "id": "da24d531",
      "metadata": {
        "id": "da24d531"
      },
      "outputs": [],
      "source": [
        "print('Precision Score: ', round(precision_score(Y_feat_test, y_feat_pred_rf), 2))\n",
        "print('Recall Score: ', round(recall_score(Y_feat_test, y_feat_pred_rf), 2))\n",
        "print('F1 Score: ', round(f1_score(Y_feat_test, y_feat_pred_rf), 2))\n",
        "rf_feat_accuracy = accuracy_score(Y_feat_test, y_feat_pred_rf)\n",
        "print(f\"Accuracy Score: {rf_feat_accuracy * 100:.2f}%\")\n",
        "print('ROC AUC: ', round(roc_auc_score(Y_feat_test, y_pred_prob_rf_feat), 2))"
      ]
    },
    {
      "cell_type": "code",
      "execution_count": null,
      "id": "bef2b455",
      "metadata": {
        "id": "bef2b455"
      },
      "outputs": [],
      "source": [
        "false_positive_rate, true_positive_rate, thresholds = roc_curve(Y_test, y_pred_prob_rf_feat)\n",
        "roc_auc_rf_feat = auc(false_positive_rate, true_positive_rate)\n",
        "\n",
        "sns.set_theme(style = 'white')\n",
        "plt.figure(figsize = (8, 8))\n",
        "plt.plot(false_positive_rate,true_positive_rate, color = '#174ab0', label = 'AUC = %0.3f' % roc_auc_rf_feat)\n",
        "plt.legend(loc = 'lower right')\n",
        "plt.plot([0, 1], [0, 1], linestyle = '--', color = '#b01717')\n",
        "plt.axis('tight')\n",
        "plt.ylabel('True Positive Rate')\n",
        "plt.xlabel('False Positive Rate')\n",
        "plt.savefig('ROC_RUS_feat_rf.jpg')\n",
        "plt.show()"
      ]
    },
    {
      "cell_type": "markdown",
      "id": "e48876f8",
      "metadata": {
        "id": "e48876f8"
      },
      "source": [
        "Figure above shows a more detailed version of the ROC for Random Forest Classifier with RUS with feature selection, with the blue line representing the ROC for Random Forest Classifier with RUS with feature selection and the Redline representing the ROC of random chance.\n",
        "\n",
        "AUC of Random Forest Classifier with RUS with feature selection was found to be 0.839, which can be considered a good distribution (0.8 - 0.9 AUC) based on the rule of thumb of deciles from Hosmer and Lemeshow.\n",
        "\n",
        "\n"
      ]
    },
    {
      "cell_type": "code",
      "execution_count": null,
      "id": "459c5530",
      "metadata": {
        "id": "459c5530"
      },
      "outputs": [],
      "source": [
        "sns.heatmap(\n",
        "    confusion_matrix(Y_feat_test, y_feat_pred_rf),\n",
        "    cmap = palette,\n",
        "    annot = True,\n",
        "    fmt = 'd',\n",
        "    yticklabels = ['No Stroke', 'Stroke'],\n",
        "    xticklabels = ['Pred No Stroke', 'Pred Stroke']\n",
        ")\n",
        "plt.title('Confusion Matrix', pad = 15, fontsize = 14)"
      ]
    },
    {
      "cell_type": "code",
      "execution_count": null,
      "id": "e09284f7",
      "metadata": {
        "id": "e09284f7"
      },
      "outputs": [],
      "source": [
        "rf_feat_scores = cross_val_score(rf_feat, X=X_feat_train, y=Y_feat_train, cv=5)\n",
        "rf_feat_avg_score = rf_feat_scores.mean()\n",
        "rf_feat_avg_score"
      ]
    },
    {
      "cell_type": "markdown",
      "id": "e8690278",
      "metadata": {
        "id": "e8690278"
      },
      "source": [
        "Based on the value of the mean of cross validation score with 5 folds, it is determined that the K-fold validation value of Random Forest Classifier with RUS with feature selection is 0.7438, showing a decent performance of the machine learning algorithm on a dataset."
      ]
    },
    {
      "cell_type": "markdown",
      "id": "4bb4880e",
      "metadata": {
        "id": "4bb4880e"
      },
      "source": [
        "### K-Nearest Neighbors"
      ]
    },
    {
      "cell_type": "code",
      "execution_count": null,
      "id": "ae5ba0d3",
      "metadata": {
        "id": "ae5ba0d3"
      },
      "outputs": [],
      "source": [
        "knn_feat = KNeighborsClassifier()\n",
        "knn_feat.fit(X_feat_train, Y_feat_train)\n",
        "\n",
        "y_feat_pred_knn = knn_feat.predict(X_feat_test)\n",
        "y_pred_prob_knn_feat = knn_feat.predict_proba(X_feat_test)[:, 1]\n",
        "cr_knn_feat = classification_report(Y_feat_test, y_feat_pred_knn)\n",
        "print(cr_knn_feat)"
      ]
    },
    {
      "cell_type": "code",
      "execution_count": null,
      "id": "5b404aeb",
      "metadata": {
        "id": "5b404aeb"
      },
      "outputs": [],
      "source": [
        "print('Precision Score: ', round(precision_score(Y_feat_test, y_feat_pred_knn), 2))\n",
        "print('Recall Score: ', round(recall_score(Y_feat_test, y_feat_pred_knn), 2))\n",
        "print('F1 Score: ', round(f1_score(Y_feat_test, y_feat_pred_knn), 2))\n",
        "knn_feat_accuracy = accuracy_score(Y_feat_test, y_feat_pred_knn)\n",
        "print(f\"Accuracy Score: {knn_feat_accuracy * 100:.2f}%\")\n",
        "print('ROC AUC: ', round(roc_auc_score(Y_feat_test, y_pred_prob_knn_feat), 2))"
      ]
    },
    {
      "cell_type": "code",
      "execution_count": null,
      "id": "8e5d7409",
      "metadata": {
        "id": "8e5d7409"
      },
      "outputs": [],
      "source": [
        "false_positive_rate, true_positive_rate, thresholds = roc_curve(Y_test, y_pred_prob_knn_feat)\n",
        "roc_auc_knn_feat = auc(false_positive_rate, true_positive_rate)\n",
        "\n",
        "sns.set_theme(style = 'white')\n",
        "plt.figure(figsize = (8, 8))\n",
        "plt.plot(false_positive_rate,true_positive_rate, color = '#174ab0', label = 'AUC = %0.3f' % roc_auc_knn_feat)\n",
        "plt.legend(loc = 'lower right')\n",
        "plt.plot([0, 1], [0, 1], linestyle = '--', color = '#b01717')\n",
        "plt.axis('tight')\n",
        "plt.ylabel('True Positive Rate')\n",
        "plt.xlabel('False Positive Rate')\n",
        "plt.savefig('ROC_RUS_feat_knn.jpg')\n",
        "plt.show()"
      ]
    },
    {
      "cell_type": "markdown",
      "id": "0bf4810c",
      "metadata": {
        "id": "0bf4810c"
      },
      "source": [
        "Figure above shows a more detailed version of the ROC for K - Nearest Neighbours with RUS with feature selection, with the blue line representing the ROC for K - Nearest Neighbours with RUS with feature selection and the Redline representing the ROC of random chance.\n",
        "\n",
        "AUC of K - Nearest Neighbours with RUS with feature selection was found to be 0.760, which can be considered a fair score (0.8 - 0.9 AUC) based on the rule of thumb of deciles from Hosmer and Lemeshow.\n"
      ]
    },
    {
      "cell_type": "code",
      "execution_count": null,
      "id": "08fc5bb0",
      "metadata": {
        "id": "08fc5bb0"
      },
      "outputs": [],
      "source": [
        "sns.heatmap(\n",
        "    confusion_matrix(Y_feat_test, y_feat_pred_knn),\n",
        "    cmap = palette,\n",
        "    annot = True,\n",
        "    fmt = 'd',\n",
        "    yticklabels = ['No Stroke', 'Stroke'],\n",
        "    xticklabels = ['Pred No Stroke', 'Pred Stroke']\n",
        ")\n",
        "plt.title('Confusion Matrix', pad = 15, fontsize = 14)"
      ]
    },
    {
      "cell_type": "code",
      "execution_count": null,
      "id": "c959a17a",
      "metadata": {
        "id": "c959a17a"
      },
      "outputs": [],
      "source": [
        "knn_feat_scores = cross_val_score(knn_feat, X=X_feat_train, y=Y_feat_train, cv=5)\n",
        "knn_feat_avg_score = knn_feat_scores.mean()\n",
        "knn_feat_avg_score"
      ]
    },
    {
      "cell_type": "markdown",
      "id": "5627d272",
      "metadata": {
        "id": "5627d272"
      },
      "source": [
        "Based on the value of the mean of cross validation score with 5 folds, it is determined that the K-fold validation value of K - Nearest Neighbours with RUS with feature selection is 0.7212, indicating a decent performance of the machine learning algorithm on a dataset."
      ]
    },
    {
      "cell_type": "markdown",
      "id": "caf03848",
      "metadata": {
        "id": "caf03848"
      },
      "source": [
        "### Decision Tree Classifier"
      ]
    },
    {
      "cell_type": "code",
      "execution_count": null,
      "id": "b2ebc0eb",
      "metadata": {
        "id": "b2ebc0eb"
      },
      "outputs": [],
      "source": [
        "dtc_feat = DecisionTreeClassifier()\n",
        "dtc_feat.fit(X_feat_train, Y_feat_train)\n",
        "\n",
        "#Test set prediction\n",
        "y_feat_pred_dtc = dtc_feat.predict(X_feat_test)\n",
        "y_pred_prob_dtc_feat = dtc_feat.predict_proba(X_feat_test)[:, 1]\n",
        "cr_dtc_feat = classification_report(Y_feat_test, y_feat_pred_dtc)\n",
        "print(cr_dtc_feat)"
      ]
    },
    {
      "cell_type": "code",
      "execution_count": null,
      "id": "6d2afce9",
      "metadata": {
        "id": "6d2afce9"
      },
      "outputs": [],
      "source": [
        "print('Precision Score: ', round(precision_score(Y_feat_test, y_feat_pred_dtc), 2))\n",
        "print('Recall Score: ', round(recall_score(Y_feat_test, y_feat_pred_dtc), 2))\n",
        "print('F1 Score: ', round(f1_score(Y_feat_test, y_feat_pred_dtc), 2))\n",
        "dtc_feat_accuracy = accuracy_score(Y_feat_test, y_feat_pred_dtc)\n",
        "print(f\"Accuracy Score: {dtc_feat_accuracy * 100:.2f}%\")\n",
        "print('ROC AUC: ', round(roc_auc_score(Y_feat_test, y_pred_prob_dtc_feat), 2))"
      ]
    },
    {
      "cell_type": "code",
      "execution_count": null,
      "id": "a0de8359",
      "metadata": {
        "id": "a0de8359"
      },
      "outputs": [],
      "source": [
        "false_positive_rate, true_positive_rate, thresholds = roc_curve(Y_test, y_pred_prob_dtc_feat)\n",
        "roc_auc_dtc_feat = auc(false_positive_rate, true_positive_rate)\n",
        "\n",
        "sns.set_theme(style = 'white')\n",
        "plt.figure(figsize = (8, 8))\n",
        "plt.plot(false_positive_rate,true_positive_rate, color = '#174ab0', label = 'AUC = %0.3f' % roc_auc_dtc_feat)\n",
        "plt.legend(loc = 'lower right')\n",
        "plt.plot([0, 1], [0, 1], linestyle = '--', color = '#b01717')\n",
        "plt.axis('tight')\n",
        "plt.ylabel('True Positive Rate')\n",
        "plt.xlabel('False Positive Rate')\n",
        "plt.savefig('ROC_RUS_feat_dtc.jpg')\n",
        "plt.show()"
      ]
    },
    {
      "cell_type": "markdown",
      "id": "787c16fd",
      "metadata": {
        "id": "787c16fd"
      },
      "source": [
        "Figure above shows a more detailed version of the ROC for Decision Tree Classifier with RUS with feature selection, with the blue line representing the ROC for Decision Tree Classifier with RUS with feature selection and the Redline representing the ROC of random chance.\n",
        "\n",
        "AUC of Decision Tree Classifier with RUS with feature selection was found to be 0.650, which can be considered a poor score (0.6 - 0.7 AUC) based on the rule of thumb of deciles from Hosmer and Lemeshow."
      ]
    },
    {
      "cell_type": "code",
      "execution_count": null,
      "id": "d94933e0",
      "metadata": {
        "id": "d94933e0"
      },
      "outputs": [],
      "source": [
        "sns.heatmap(\n",
        "    confusion_matrix(Y_feat_test, y_feat_pred_dtc),\n",
        "    cmap = palette,\n",
        "    annot = True,\n",
        "    fmt = 'd',\n",
        "    yticklabels = ['No Stroke', 'Stroke'],\n",
        "    xticklabels = ['Pred No Stroke', 'Pred Stroke']\n",
        ")\n",
        "plt.title('Confusion Matrix', pad = 15, fontsize = 14)"
      ]
    },
    {
      "cell_type": "code",
      "execution_count": null,
      "id": "f909dac8",
      "metadata": {
        "id": "f909dac8"
      },
      "outputs": [],
      "source": [
        "dtc_feat_scores = cross_val_score(dtc_feat, X=X_feat_train, y=Y_feat_train, cv=5)\n",
        "dtc_feat_avg_score = dtc_feat_scores.mean()\n",
        "dtc_feat_avg_score"
      ]
    },
    {
      "cell_type": "markdown",
      "id": "ecfaac79",
      "metadata": {
        "id": "ecfaac79"
      },
      "source": [
        "Based on the value of the mean of cross validation score with 5 folds, it is determined that the K-fold validation value of Decision Tree Classifier with RUS with feature selection is 0.6657, indicating bad performance of the machine learning algorithm on a dataset."
      ]
    },
    {
      "cell_type": "markdown",
      "id": "7adfeb26",
      "metadata": {
        "id": "7adfeb26"
      },
      "source": [
        "### Naive Bayes"
      ]
    },
    {
      "cell_type": "code",
      "execution_count": null,
      "id": "6b252e32",
      "metadata": {
        "id": "6b252e32"
      },
      "outputs": [],
      "source": [
        "nb_feat = GaussianNB()\n",
        "nb_feat.fit(X_feat_train, Y_feat_train)\n",
        "\n",
        "#Test set prediction\n",
        "y_feat_pred_nb = nb_feat.predict(X_feat_test)\n",
        "y_pred_prob_nb_feat = nb_feat.predict_proba(X_feat_test)[:, 1]\n",
        "cr_nb_feat = classification_report(Y_feat_test, y_feat_pred_nb)\n",
        "print(cr_nb_feat)"
      ]
    },
    {
      "cell_type": "code",
      "execution_count": null,
      "id": "e82ae34c",
      "metadata": {
        "id": "e82ae34c"
      },
      "outputs": [],
      "source": [
        "print('Precision Score: ', round(precision_score(Y_feat_test, y_feat_pred_nb), 2))\n",
        "print('Recall Score: ', round(recall_score(Y_feat_test, y_feat_pred_nb), 2))\n",
        "print('F1 Score: ', round(f1_score(Y_feat_test, y_feat_pred_nb), 2))\n",
        "nb_feat_accuracy = accuracy_score(Y_feat_test, y_feat_pred_nb)\n",
        "print(f\"Accuracy Score: {nb_feat_accuracy * 100:.2f}%\")\n",
        "print('ROC AUC: ', round(roc_auc_score(Y_feat_test, y_pred_prob_nb_feat), 2))"
      ]
    },
    {
      "cell_type": "code",
      "execution_count": null,
      "id": "4369a980",
      "metadata": {
        "id": "4369a980"
      },
      "outputs": [],
      "source": [
        "false_positive_rate, true_positive_rate, thresholds = roc_curve(Y_test, y_pred_prob_nb_feat)\n",
        "roc_auc_nb_feat = auc(false_positive_rate, true_positive_rate)\n",
        "\n",
        "sns.set_theme(style = 'white')\n",
        "plt.figure(figsize = (8, 8))\n",
        "plt.plot(false_positive_rate,true_positive_rate, color = '#174ab0', label = 'AUC = %0.3f' % roc_auc_nb_feat)\n",
        "plt.legend(loc = 'lower right')\n",
        "plt.plot([0, 1], [0, 1], linestyle = '--', color = '#b01717')\n",
        "plt.axis('tight')\n",
        "plt.ylabel('True Positive Rate')\n",
        "plt.xlabel('False Positive Rate')\n",
        "plt.savefig('ROC_RUS_feat_nb.jpg')\n",
        "plt.show()"
      ]
    },
    {
      "cell_type": "markdown",
      "id": "22b72d15",
      "metadata": {
        "id": "22b72d15"
      },
      "source": [
        "Figure above shows a more detailed version of the ROC for Naive Bayers Classifier with RUS with feature selection, with the blue line representing the ROC for Naive Bayers Classifier with RUS with feature selection and the Redline representing the ROC of random chance.\n",
        "\n",
        "AUC of Naive Bayers Classifier with RUS with feature selection was found to be 0.852, which can be considered a good score (0.8 - 0.9 AUC) based on the rule of thumb of deciles from Hosmer and Lemeshow.\n"
      ]
    },
    {
      "cell_type": "code",
      "execution_count": null,
      "id": "be0ba6d0",
      "metadata": {
        "id": "be0ba6d0"
      },
      "outputs": [],
      "source": [
        "sns.heatmap(\n",
        "    confusion_matrix(Y_feat_test, y_feat_pred_nb),\n",
        "    cmap = palette,\n",
        "    annot = True,\n",
        "    fmt = 'd',\n",
        "    yticklabels = ['No Stroke', 'Stroke'],\n",
        "    xticklabels = ['Pred No Stroke', 'Pred Stroke']\n",
        ")\n",
        "plt.title('Confusion Matrix', pad = 15, fontsize = 14)"
      ]
    },
    {
      "cell_type": "code",
      "execution_count": null,
      "id": "98db9b78",
      "metadata": {
        "id": "98db9b78"
      },
      "outputs": [],
      "source": [
        "nb_feat_scores = cross_val_score(nb_feat, X=X_feat_train, y=Y_feat_train, cv=5)\n",
        "nb_feat_avg_score = nb_feat_scores.mean()\n",
        "nb_feat_avg_score"
      ]
    },
    {
      "cell_type": "markdown",
      "id": "e0ebd38c",
      "metadata": {
        "id": "e0ebd38c"
      },
      "source": [
        "Based on the value of the mean of cross validation score with 5 folds, it is determined that the K-fold validation value of Naive Bayers Classifier with RUS with feature selection is 0.6784, indicating bad performance of the machine learning algorithm on a dataset."
      ]
    },
    {
      "cell_type": "code",
      "execution_count": null,
      "id": "b3c452fe",
      "metadata": {
        "id": "b3c452fe"
      },
      "outputs": [],
      "source": [
        "model_names_feat = ['Logistic Regresstion', 'Naive Bayes', 'K-Nearest Neighbours', 'Decision Tree Classifier', 'Random Forest Classifier']\n",
        "accuracies_feat = [lr_feat_accuracy, nb_feat_accuracy, knn_feat_accuracy, dtc_feat_accuracy, rf_feat_accuracy]\n",
        "kfold_validation_feat = [lr_feat_avg_score, nb_feat_avg_score, knn_feat_avg_score, dtc_feat_avg_score, rf_feat_avg_score]\n",
        "roc_scores_feat = [roc_auc_score(Y_feat_test, y_pred_prob_log_feat), roc_auc_score(Y_feat_test, y_pred_prob_nb_feat), roc_auc_score(Y_feat_test, y_pred_prob_knn_feat), roc_auc_score(Y_feat_test, y_pred_prob_dtc_feat), roc_auc_score(Y_feat_test, y_pred_prob_rf_feat)]\n",
        "precision_scores_feat = [precision_score(Y_feat_test, y_feat_pred_log), precision_score(Y_feat_test, y_feat_pred_nb), precision_score(Y_feat_test, y_feat_pred_knn), precision_score(Y_feat_test, y_feat_pred_dtc), precision_score(Y_feat_test, y_feat_pred_rf)]\n",
        "recall_scores_feat = [recall_score(Y_feat_test, y_feat_pred_log), recall_score(Y_feat_test, y_feat_pred_nb), recall_score(Y_feat_test, y_feat_pred_knn), recall_score(Y_feat_test, y_feat_pred_dtc), recall_score(Y_feat_test, y_feat_pred_rf)]\n",
        "f1_scores_feat = [f1_score(Y_feat_test, y_feat_pred_log), f1_score(Y_feat_test, y_feat_pred_nb), f1_score(Y_feat_test, y_feat_pred_knn), f1_score(Y_feat_test, y_feat_pred_dtc), f1_score(Y_feat_test, y_feat_pred_rf)]\n",
        "accuracy_table_feat = pd.DataFrame({'Model':model_names_feat, 'Accuracy':accuracies_feat,'K-Fold Validation':kfold_validation_feat, 'ROC Score':roc_scores_feat, 'Precision':precision_scores_feat,'Recall':recall_scores_feat, 'F1 Score':f1_scores_feat})\n",
        "accuracy_table_feat = accuracy_table_feat.sort_values(by=['Accuracy','K-Fold Validation','ROC Score','Precision','Recall','F1 Score'], axis=0, ascending = False)\n",
        "accuracy_table_feat.reset_index(inplace = True, drop=True)\n",
        "accuracy_table_feat.index += 1\n",
        "accuracy_table_feat"
      ]
    },
    {
      "cell_type": "code",
      "execution_count": null,
      "id": "5d2fd404",
      "metadata": {
        "id": "5d2fd404"
      },
      "outputs": [],
      "source": [
        "dfi.export(accuracy_table_feat, 'rus_feat.png')"
      ]
    },
    {
      "cell_type": "markdown",
      "id": "6a7ae2b2",
      "metadata": {
        "id": "6a7ae2b2"
      },
      "source": [
        "### Model Development with SMOTE without feature selection"
      ]
    },
    {
      "cell_type": "code",
      "execution_count": null,
      "id": "4d0e7264",
      "metadata": {
        "id": "4d0e7264"
      },
      "outputs": [],
      "source": [
        "#Dropping the target variable\n",
        "X_smote = sdf.drop('stroke', axis = 1)"
      ]
    },
    {
      "cell_type": "code",
      "execution_count": null,
      "id": "6690a6c9",
      "metadata": {
        "id": "6690a6c9"
      },
      "outputs": [],
      "source": [
        "X_smote.head()"
      ]
    },
    {
      "cell_type": "code",
      "execution_count": null,
      "id": "df4af34a",
      "metadata": {
        "id": "df4af34a"
      },
      "outputs": [],
      "source": [
        "Y_smote = sdf['stroke']\n",
        "Y_smote.head()"
      ]
    },
    {
      "cell_type": "code",
      "execution_count": null,
      "id": "badb5330",
      "metadata": {
        "id": "badb5330"
      },
      "outputs": [],
      "source": [
        "#Split the data by allocating 80% for training dataset and the remaining 20% for testing dataset\n",
        "X_smote_train, X_smote_test, Y_smote_train, Y_smote_test = train_test_split(X_smote, Y_smote, test_size = 0.2, random_state = 0)"
      ]
    },
    {
      "cell_type": "code",
      "execution_count": null,
      "id": "ad5eeb4c",
      "metadata": {
        "id": "ad5eeb4c"
      },
      "outputs": [],
      "source": [
        "#Display all the sizes of the training and testing dataset\n",
        "print ('The size of our training \"X\" (input features) is', X_smote_train.shape)\n",
        "print ('\\n')\n",
        "print ('The size of our testing \"X\" (input features) is', X_smote_test.shape)\n",
        "print ('\\n')\n",
        "print ('The size of our training \"Y\" (output feature) is', Y_smote_train.shape)\n",
        "print ('\\n')\n",
        "print ('The size of our testing \"Y\" (output features) is', Y_smote_test.shape)"
      ]
    },
    {
      "cell_type": "markdown",
      "id": "885fd9c6",
      "metadata": {
        "id": "885fd9c6"
      },
      "source": [
        "### Logistic Regression"
      ]
    },
    {
      "cell_type": "code",
      "execution_count": null,
      "id": "a3b0d492",
      "metadata": {
        "id": "a3b0d492"
      },
      "outputs": [],
      "source": [
        "log_smote = LogisticRegression(solver='lbfgs', max_iter=10000)\n",
        "log_smote.fit(X_smote_train, Y_smote_train)\n",
        "\n",
        "#Test set prediction\n",
        "y_smote_pred_log = log_smote.predict(X_smote_test)\n",
        "y_pred_prob_log_smote = log_smote.predict_proba(X_smote_test)[:, 1]\n",
        "cr_smote = classification_report(Y_smote_test, y_smote_pred_log)\n",
        "print(cr_smote)"
      ]
    },
    {
      "cell_type": "code",
      "execution_count": null,
      "id": "50c9b2d0",
      "metadata": {
        "id": "50c9b2d0"
      },
      "outputs": [],
      "source": [
        "print('Precision Score: ', round(precision_score(Y_smote_test, y_smote_pred_log), 2))\n",
        "print('Recall Score: ', round(recall_score(Y_smote_test, y_smote_pred_log), 2))\n",
        "print('F1 Score: ', round(f1_score(Y_smote_test, y_smote_pred_log), 2))\n",
        "lr_smote_accuracy = round(accuracy_score(Y_smote_test, y_smote_pred_log),2)\n",
        "print(f\"Accuracy Score: {lr_smote_accuracy * 100:.2f}%\")\n",
        "print('ROC AUC: ', round(roc_auc_score(Y_smote_test, y_pred_prob_log_smote), 2))"
      ]
    },
    {
      "cell_type": "code",
      "execution_count": null,
      "id": "20494f8d",
      "metadata": {
        "id": "20494f8d"
      },
      "outputs": [],
      "source": [
        "false_positive_rate, true_positive_rate, thresholds = roc_curve(Y_smote_test, y_pred_prob_log_smote)\n",
        "roc_auc_log_smote = auc(false_positive_rate, true_positive_rate)\n",
        "\n",
        "sns.set_theme(style = 'white')\n",
        "plt.figure(figsize = (8, 8))\n",
        "plt.plot(false_positive_rate,true_positive_rate, color = '#174ab0', label = 'AUC = %0.3f' % roc_auc_log_smote)\n",
        "plt.legend(loc = 'lower right')\n",
        "plt.plot([0, 1], [0, 1], linestyle = '--', color = '#b01717')\n",
        "plt.axis('tight')\n",
        "plt.ylabel('True Positive Rate')\n",
        "plt.xlabel('False Positive Rate')\n",
        "plt.savefig('ROC_SMOTE_log.jpg')\n",
        "plt.show()"
      ]
    },
    {
      "cell_type": "markdown",
      "id": "a05a36e5",
      "metadata": {
        "id": "a05a36e5"
      },
      "source": [
        "Figure above shows a more detailed version of the ROC for Logistic Regression with SMOTE without feature selection, with the blue line representing the ROC for Logistic Regression with SMOTE without feature selection and the Redline representing the ROC of random chance.\n",
        "\n",
        "AUC of Logistic Regression with SMOTE without feature selection was found to be 0.852, which can be considered a good score (0.8 - 0.9 AUC) based on the rule of thumb of deciles from Hosmer and Lemeshow.\n"
      ]
    },
    {
      "cell_type": "code",
      "execution_count": null,
      "id": "0240fda9",
      "metadata": {
        "id": "0240fda9"
      },
      "outputs": [],
      "source": [
        "sns.heatmap(\n",
        "    confusion_matrix(Y_smote_test, y_smote_pred_log),\n",
        "    cmap = palette,\n",
        "    annot = True,\n",
        "    fmt = 'd',\n",
        "    yticklabels = ['No Stroke', 'Stroke'],\n",
        "    xticklabels = ['Pred No Stroke', 'Pred Stroke']\n",
        ")\n",
        "plt.title('Confusion Matrix', pad = 15, fontsize = 14)"
      ]
    },
    {
      "cell_type": "code",
      "execution_count": null,
      "id": "341bc0c7",
      "metadata": {
        "id": "341bc0c7"
      },
      "outputs": [],
      "source": [
        "lr_smote_scores = cross_val_score(log_smote, X=X_smote_train, y=Y_smote_train, cv=5)\n",
        "lr_smote_avg_score = lr_smote_scores.mean()\n",
        "lr_smote_avg_score"
      ]
    },
    {
      "cell_type": "markdown",
      "id": "49d90b69",
      "metadata": {
        "id": "49d90b69"
      },
      "source": [
        "Based on the value of the mean of cross validation score with 5 folds, it is determined that the K-fold validation value of Logistic Regression with SMOTE without feature selection is 0.801, indicating good performance of the machine learning algorithm on a dataset."
      ]
    },
    {
      "cell_type": "markdown",
      "id": "dbea52e0",
      "metadata": {
        "id": "dbea52e0"
      },
      "source": [
        "### Random Forest Classifier"
      ]
    },
    {
      "cell_type": "code",
      "execution_count": null,
      "id": "e67baffb",
      "metadata": {
        "id": "e67baffb"
      },
      "outputs": [],
      "source": [
        "rf_smote = RandomForestClassifier()\n",
        "rf_smote.fit(X_smote_train, Y_smote_train)\n",
        "\n",
        "#Test set prediction\n",
        "y_smote_pred_rf = rf_smote.predict(X_smote_test)\n",
        "y_pred_prob_rf_smote = rf_smote.predict_proba(X_smote_test)[:, 1]\n",
        "cr_smote_rf = classification_report(Y_smote_test, y_smote_pred_rf)\n",
        "print(cr_smote_rf)"
      ]
    },
    {
      "cell_type": "code",
      "execution_count": null,
      "id": "02dadbf8",
      "metadata": {
        "id": "02dadbf8"
      },
      "outputs": [],
      "source": [
        "print('Precision Score: ', round(precision_score(Y_smote_test, y_smote_pred_rf), 2))\n",
        "print('Recall Score: ', round(recall_score(Y_smote_test, y_smote_pred_rf), 2))\n",
        "print('F1 Score: ', round(f1_score(Y_smote_test, y_smote_pred_rf), 2))\n",
        "rf_smote_accuracy = round(accuracy_score(Y_smote_test, y_smote_pred_rf),2)\n",
        "print(f\"Accuracy Score: {rf_smote_accuracy * 100:.2f}%\")\n",
        "print('ROC AUC: ', round(roc_auc_score(Y_smote_test, y_pred_prob_rf_smote), 2))"
      ]
    },
    {
      "cell_type": "code",
      "execution_count": null,
      "id": "efa3b8ae",
      "metadata": {
        "id": "efa3b8ae"
      },
      "outputs": [],
      "source": [
        "false_positive_rate, true_positive_rate, thresholds = roc_curve(Y_smote_test, y_pred_prob_rf_smote)\n",
        "roc_auc_rf_smote = auc(false_positive_rate, true_positive_rate)\n",
        "\n",
        "sns.set_theme(style = 'white')\n",
        "plt.figure(figsize = (8, 8))\n",
        "plt.plot(false_positive_rate,true_positive_rate, color = '#174ab0', label = 'AUC = %0.3f' % roc_auc_rf_smote)\n",
        "plt.legend(loc = 'lower right')\n",
        "plt.plot([0, 1], [0, 1], linestyle = '--', color = '#b01717')\n",
        "plt.axis('tight')\n",
        "plt.ylabel('True Positive Rate')\n",
        "plt.xlabel('False Positive Rate')\n",
        "plt.savefig('ROC_SMOTE_rf.jpg')\n",
        "plt.show()"
      ]
    },
    {
      "cell_type": "markdown",
      "id": "3c2a98c6",
      "metadata": {
        "id": "3c2a98c6"
      },
      "source": [
        "Figure above shows a more detailed version of the ROC for Random Forest Classifier with SMOTE without feature selection, with the blue line representing the ROC for Random Forest Classifier with SMOTE without feature selection and the Redline representing the ROC of random chance.\n",
        "\n",
        "AUC of Random Forest Classifier with SMOTE without feature selection was found to be 0.988, which can be considered an excellent score (0.9 - 1.0 AUC) based on the rule of thumb of deciles from Hosmer and Lemeshow."
      ]
    },
    {
      "cell_type": "code",
      "execution_count": null,
      "id": "5c70857c",
      "metadata": {
        "id": "5c70857c"
      },
      "outputs": [],
      "source": [
        "sns.heatmap(\n",
        "    confusion_matrix(Y_smote_test, y_smote_pred_rf),\n",
        "    cmap = palette,\n",
        "    annot = True,\n",
        "    fmt = 'd',\n",
        "    yticklabels = ['No Stroke', 'Stroke'],\n",
        "    xticklabels = ['Pred No Stroke', 'Pred Stroke']\n",
        ")\n",
        "plt.title('Confusion Matrix', pad = 15, fontsize = 14)"
      ]
    },
    {
      "cell_type": "code",
      "execution_count": null,
      "id": "5d986c60",
      "metadata": {
        "id": "5d986c60"
      },
      "outputs": [],
      "source": [
        "rf_smote_scores = cross_val_score(rf_smote, X=X_smote_train, y=Y_smote_train, cv=5)\n",
        "rf_smote_avg_score = rf_smote_scores.mean()\n",
        "rf_smote_avg_score"
      ]
    },
    {
      "cell_type": "markdown",
      "id": "bf5f81c4",
      "metadata": {
        "id": "bf5f81c4"
      },
      "source": [
        "Based on the value of the mean of cross validation score with 5 folds, it is determined that the K-fold validation value of Random Forest Classifier is 0.935, indicating an excellent performance of the machine learning algorithm on a dataset."
      ]
    },
    {
      "cell_type": "markdown",
      "id": "cd55f27a",
      "metadata": {
        "id": "cd55f27a"
      },
      "source": [
        "### K-Nearest Neighbors"
      ]
    },
    {
      "cell_type": "code",
      "execution_count": null,
      "id": "2d846879",
      "metadata": {
        "id": "2d846879"
      },
      "outputs": [],
      "source": [
        "knn_smote = KNeighborsClassifier()\n",
        "knn_smote.fit(X_smote_train, Y_smote_train)\n",
        "\n",
        "y_smote_pred_knn = knn_smote.predict(X_smote_test)\n",
        "y_pred_prob_knn_smote = knn_smote.predict_proba(X_smote_test)[:, 1]\n",
        "cr_smote_knn = classification_report(Y_smote_test, y_smote_pred_knn)\n",
        "print(cr_smote_knn)"
      ]
    },
    {
      "cell_type": "code",
      "execution_count": null,
      "id": "1a056be3",
      "metadata": {
        "id": "1a056be3"
      },
      "outputs": [],
      "source": [
        "print('Precision Score: ', round(precision_score(Y_smote_test, y_smote_pred_knn), 2))\n",
        "print('Recall Score: ', round(recall_score(Y_smote_test, y_smote_pred_knn), 2))\n",
        "print('F1 Score: ', round(f1_score(Y_smote_test, y_smote_pred_knn), 2))\n",
        "knn_smote_accuracy = round(accuracy_score(Y_smote_test, y_smote_pred_knn),2)\n",
        "print(f\"Accuracy Score: {knn_smote_accuracy * 100:.2f}%\")\n",
        "print('ROC AUC: ', round(roc_auc_score(Y_smote_test, y_pred_prob_knn_smote), 2))"
      ]
    },
    {
      "cell_type": "code",
      "execution_count": null,
      "id": "289d03c9",
      "metadata": {
        "id": "289d03c9"
      },
      "outputs": [],
      "source": [
        "false_positive_rate, true_positive_rate, thresholds = roc_curve(Y_smote_test, y_pred_prob_knn_smote)\n",
        "roc_auc_knn_smote = auc(false_positive_rate, true_positive_rate)\n",
        "\n",
        "sns.set_theme(style = 'white')\n",
        "plt.figure(figsize = (8, 8))\n",
        "plt.plot(false_positive_rate,true_positive_rate, color = '#174ab0', label = 'AUC = %0.3f' % roc_auc_knn_smote)\n",
        "plt.legend(loc = 'lower right')\n",
        "plt.plot([0, 1], [0, 1], linestyle = '--', color = '#b01717')\n",
        "plt.axis('tight')\n",
        "plt.ylabel('True Positive Rate')\n",
        "plt.xlabel('False Positive Rate')\n",
        "plt.savefig('ROC_SMOTE_knn.jpg')\n",
        "plt.show()"
      ]
    },
    {
      "cell_type": "markdown",
      "id": "21cf666b",
      "metadata": {
        "id": "21cf666b"
      },
      "source": [
        "Figure above shows a more detailed version of the ROC for K - Nearest Neighbours with SMOTE without feature selection, with the blue line representing the ROC for K - Nearest Neighbours with SMOTE without feature selection and the Redline representing the ROC of random chance.\n",
        "\n",
        "AUC of K - Nearest Neighbours with SMOTE without feature selection was found to be 0.954, which can be considered an excellent score (0.9 - 1.0 AUC) based on the rule of thumb of deciles from Hosmer and Lemeshow."
      ]
    },
    {
      "cell_type": "code",
      "execution_count": null,
      "id": "23343a63",
      "metadata": {
        "id": "23343a63"
      },
      "outputs": [],
      "source": [
        "sns.heatmap(\n",
        "    confusion_matrix(Y_smote_test, y_smote_pred_knn),\n",
        "    cmap = palette,\n",
        "    annot = True,\n",
        "    fmt = 'd',\n",
        "    yticklabels = ['No Stroke', 'Stroke'],\n",
        "    xticklabels = ['Pred No Stroke', 'Pred Stroke']\n",
        ")\n",
        "plt.title('Confusion Matrix', pad = 15, fontsize = 14)"
      ]
    },
    {
      "cell_type": "code",
      "execution_count": null,
      "id": "a2e4de50",
      "metadata": {
        "id": "a2e4de50"
      },
      "outputs": [],
      "source": [
        "knn_smote_scores = cross_val_score(knn_smote, X=X_smote_train, y=Y_smote_train, cv=5)\n",
        "knn_smote_avg_score = knn_smote_scores.mean()\n",
        "knn_smote_avg_score"
      ]
    },
    {
      "cell_type": "markdown",
      "id": "bea64d92",
      "metadata": {
        "id": "bea64d92"
      },
      "source": [
        "Based on the value of the mean of cross validation score with 5 folds, it is determined that the K-fold validation value of K - Nearest Neighbours with SMOTE without feature selection is 0.8857, indicating good performance of the machine learning algorithm on a dataset."
      ]
    },
    {
      "cell_type": "markdown",
      "id": "bc25f24b",
      "metadata": {
        "id": "bc25f24b"
      },
      "source": [
        "### Decision Tree Classifier"
      ]
    },
    {
      "cell_type": "code",
      "execution_count": null,
      "id": "d2361c3b",
      "metadata": {
        "id": "d2361c3b"
      },
      "outputs": [],
      "source": [
        "dtc_smote = DecisionTreeClassifier()\n",
        "dtc_smote.fit(X_smote_train, Y_smote_train)\n",
        "\n",
        "#Test set prediction\n",
        "y_smote_pred_dtc = dtc_smote.predict(X_smote_test)\n",
        "y_pred_prob_dtc_smote = dtc_smote.predict_proba(X_smote_test)[:, 1]\n",
        "cr_smote_dtc = classification_report(Y_smote_test, y_smote_pred_dtc)\n",
        "print(cr_smote_dtc)"
      ]
    },
    {
      "cell_type": "code",
      "execution_count": null,
      "id": "14bbd50d",
      "metadata": {
        "id": "14bbd50d"
      },
      "outputs": [],
      "source": [
        "print('Precision Score: ', round(precision_score(Y_smote_test, y_smote_pred_dtc), 2))\n",
        "print('Recall Score: ', round(recall_score(Y_smote_test, y_smote_pred_dtc), 2))\n",
        "print('F1 Score: ', round(f1_score(Y_smote_test, y_smote_pred_dtc), 2))\n",
        "dtc_smote_accuracy = round(accuracy_score(Y_smote_test, y_smote_pred_dtc),2)\n",
        "print(f\"Accuracy Score: {dtc_smote_accuracy * 100:.2f}%\")\n",
        "print('ROC AUC: ', round(roc_auc_score(Y_smote_test, y_pred_prob_dtc_smote), 2))"
      ]
    },
    {
      "cell_type": "code",
      "execution_count": null,
      "id": "2f9fed94",
      "metadata": {
        "id": "2f9fed94"
      },
      "outputs": [],
      "source": [
        "false_positive_rate, true_positive_rate, thresholds = roc_curve(Y_smote_test, y_pred_prob_dtc_smote)\n",
        "roc_auc_dtc_smote = auc(false_positive_rate, true_positive_rate)\n",
        "\n",
        "sns.set_theme(style = 'white')\n",
        "plt.figure(figsize = (8, 8))\n",
        "plt.plot(false_positive_rate,true_positive_rate, color = '#174ab0', label = 'AUC = %0.3f' % roc_auc_dtc_smote)\n",
        "plt.legend(loc = 'lower right')\n",
        "plt.plot([0, 1], [0, 1], linestyle = '--', color = '#b01717')\n",
        "plt.axis('tight')\n",
        "plt.ylabel('True Positive Rate')\n",
        "plt.xlabel('False Positive Rate')\n",
        "plt.savefig('ROC_SMOTE_rf.jpg')\n",
        "plt.show()"
      ]
    },
    {
      "cell_type": "markdown",
      "id": "df56b6aa",
      "metadata": {
        "id": "df56b6aa"
      },
      "source": [
        "Figure above shows a more detailed version of the ROC for Decision Tree Classifier with SMOTE without feature selection, with the blue line representing the ROC for Decision Tree Classifier with SMOTE without feature selection and the Redline representing the ROC of random chance.\n",
        "\n",
        "AUC of Decision Tree Classifier  with SMOTE without feature selection was found to be 0.895, which can be considered a good score (0.8 - 0.9 AUC) based on the rule of thumb of deciles from Hosmer and Lemeshow."
      ]
    },
    {
      "cell_type": "code",
      "execution_count": null,
      "id": "952bee57",
      "metadata": {
        "id": "952bee57"
      },
      "outputs": [],
      "source": [
        "sns.heatmap(\n",
        "    confusion_matrix(Y_smote_test, y_smote_pred_dtc),\n",
        "    cmap = palette,\n",
        "    annot = True,\n",
        "    fmt = 'd',\n",
        "    yticklabels = ['No Stroke', 'Stroke'],\n",
        "    xticklabels = ['Pred No Stroke', 'Pred Stroke']\n",
        ")\n",
        "plt.title('Confusion Matrix', pad = 15, fontsize = 14)"
      ]
    },
    {
      "cell_type": "code",
      "execution_count": null,
      "id": "130c03e8",
      "metadata": {
        "id": "130c03e8"
      },
      "outputs": [],
      "source": [
        "dtc_smote_scores = cross_val_score(dtc_smote, X=X_smote_train, y=Y_smote_train, cv=5)\n",
        "dtc_smote_avg_score = dtc_smote_scores.mean()\n",
        "dtc_smote_avg_score"
      ]
    },
    {
      "cell_type": "markdown",
      "id": "ea05d6fa",
      "metadata": {
        "id": "ea05d6fa"
      },
      "source": [
        "Based on the value of the mean of cross validation score with 5 folds, it is determined that the K-fold validation value of Decision Tree Classifier with SMOTE without feature selection is 0.895, indicating good performance of the machine learning algorithm on a dataset."
      ]
    },
    {
      "cell_type": "markdown",
      "id": "c413c084",
      "metadata": {
        "id": "c413c084"
      },
      "source": [
        "### Naive Bayes"
      ]
    },
    {
      "cell_type": "code",
      "execution_count": null,
      "id": "9545d659",
      "metadata": {
        "id": "9545d659"
      },
      "outputs": [],
      "source": [
        "nb_smote = GaussianNB()\n",
        "nb_smote.fit(X_smote_train, Y_smote_train)\n",
        "\n",
        "#Test set prediction\n",
        "y_smote_pred_nb = nb_smote.predict(X_smote_test)\n",
        "y_pred_prob_nb_smote = nb_smote.predict_proba(X_smote_test)[:, 1]\n",
        "cr_smote_nb = classification_report(Y_smote_test, y_smote_pred_nb)\n",
        "print(cr_smote_nb)"
      ]
    },
    {
      "cell_type": "code",
      "execution_count": null,
      "id": "03c2f33d",
      "metadata": {
        "id": "03c2f33d"
      },
      "outputs": [],
      "source": [
        "print('Precision Score: ', round(precision_score(Y_smote_test, y_smote_pred_nb), 2))\n",
        "print('Recall Score: ', round(recall_score(Y_smote_test, y_smote_pred_nb), 2))\n",
        "print('F1 Score: ', round(f1_score(Y_smote_test, y_smote_pred_nb), 2))\n",
        "nb_smote_accuracy = round(accuracy_score(Y_smote_test, y_smote_pred_nb),2)\n",
        "print(f\"Accuracy Score: {nb_smote_accuracy * 100:.2f}%\")\n",
        "print('ROC AUC: ', round(roc_auc_score(Y_smote_test, y_pred_prob_nb_smote), 2))"
      ]
    },
    {
      "cell_type": "code",
      "execution_count": null,
      "id": "aa74d6c9",
      "metadata": {
        "id": "aa74d6c9"
      },
      "outputs": [],
      "source": [
        "false_positive_rate, true_positive_rate, thresholds = roc_curve(Y_smote_test, y_pred_prob_nb_smote)\n",
        "roc_auc_nb_smote = auc(false_positive_rate, true_positive_rate)\n",
        "\n",
        "sns.set_theme(style = 'white')\n",
        "plt.figure(figsize = (8, 8))\n",
        "plt.plot(false_positive_rate,true_positive_rate, color = '#174ab0', label = 'AUC = %0.3f' % roc_auc_nb_smote)\n",
        "plt.legend(loc = 'lower right')\n",
        "plt.plot([0, 1], [0, 1], linestyle = '--', color = '#b01717')\n",
        "plt.axis('tight')\n",
        "plt.ylabel('True Positive Rate')\n",
        "plt.xlabel('False Positive Rate')\n",
        "plt.savefig('ROC_SMOTE_nb.jpg')\n",
        "plt.show()"
      ]
    },
    {
      "cell_type": "markdown",
      "id": "5c62fc6b",
      "metadata": {
        "id": "5c62fc6b"
      },
      "source": [
        "Figure above shows a more detailed version of the ROC for Naive Bayes Classifier with SMOTE without feature selection, with the blue line representing the ROC for Naive Bayes Classifier with SMOTE without feature selection, and the Redline representing the ROC of random chance.\n",
        "\n",
        "AUC of Naive Bayes Classifier with SMOTE without feature selection, was found to be 0.872, which can be considered a good score (0.8 - 0.9 AUC) based on the rule of thumb of deciles from Hosmer and Lemeshow."
      ]
    },
    {
      "cell_type": "code",
      "execution_count": null,
      "id": "4a17faf5",
      "metadata": {
        "id": "4a17faf5"
      },
      "outputs": [],
      "source": [
        "sns.heatmap(\n",
        "    confusion_matrix(Y_smote_test, y_smote_pred_nb),\n",
        "    cmap = palette,\n",
        "    annot = True,\n",
        "    fmt = 'd',\n",
        "    yticklabels = ['No Stroke', 'Stroke'],\n",
        "    xticklabels = ['Pred No Stroke', 'Pred Stroke']\n",
        ")\n",
        "plt.title('Confusion Matrix', pad = 15, fontsize = 14)"
      ]
    },
    {
      "cell_type": "code",
      "execution_count": null,
      "id": "a759a0ec",
      "metadata": {
        "id": "a759a0ec"
      },
      "outputs": [],
      "source": [
        "nb_smote_scores = cross_val_score(nb_smote, X=X_smote_train, y=Y_smote_train, cv=5)\n",
        "nb_smote_avg_score = nb_smote_scores.mean()\n",
        "nb_smote_avg_score"
      ]
    },
    {
      "cell_type": "markdown",
      "id": "81716d66",
      "metadata": {
        "id": "81716d66"
      },
      "source": [
        "Based on the value of the mean of cross validation score with 5 folds, it is determined that the K-fold validation value of K - Nearest Neighbours With SMOTE with feature selection is 0.791, indicating Decent performance of the machine learning algorithm on a dataset.\n"
      ]
    },
    {
      "cell_type": "code",
      "execution_count": null,
      "id": "56ddc680",
      "metadata": {
        "id": "56ddc680"
      },
      "outputs": [],
      "source": [
        "model_names_smote = ['Logistic Regresstion', 'Naive Bayes', 'K-Nearest Neighbours', 'Decision Tree Classifier', 'Random Forest Classifier']\n",
        "accuracies_smote = [lr_smote_accuracy, nb_smote_accuracy, knn_smote_accuracy, dtc_smote_accuracy, rf_smote_accuracy]\n",
        "kfold_validation_smote = [lr_smote_avg_score, nb_smote_avg_score, knn_smote_avg_score, dtc_smote_avg_score, rf_smote_avg_score]\n",
        "roc_scores_smote = [roc_auc_score(Y_smote_test, y_pred_prob_log_smote), roc_auc_score(Y_smote_test, y_pred_prob_nb_smote), roc_auc_score(Y_smote_test, y_pred_prob_knn_smote), roc_auc_score(Y_smote_test, y_pred_prob_dtc_smote), roc_auc_score(Y_smote_test, y_pred_prob_rf_smote)]\n",
        "precision_scores_smote = [precision_score(Y_smote_test, y_smote_pred_log), precision_score(Y_smote_test, y_smote_pred_nb), precision_score(Y_smote_test, y_smote_pred_knn), precision_score(Y_smote_test, y_smote_pred_dtc), precision_score(Y_smote_test, y_smote_pred_rf)]\n",
        "recall_scores_smote = [recall_score(Y_smote_test, y_smote_pred_log), recall_score(Y_smote_test, y_smote_pred_nb), recall_score(Y_smote_test, y_smote_pred_knn), recall_score(Y_smote_test, y_smote_pred_dtc), recall_score(Y_smote_test, y_smote_pred_rf)]\n",
        "f1_scores_smote = [f1_score(Y_smote_test, y_smote_pred_log), f1_score(Y_smote_test, y_smote_pred_nb), f1_score(Y_smote_test, y_smote_pred_knn), f1_score(Y_smote_test, y_smote_pred_dtc), f1_score(Y_smote_test, y_smote_pred_rf)]\n",
        "accuracy_table_smote = pd.DataFrame({'Model':model_names_smote, 'Accuracy':accuracies_smote,'K-Fold Validation':kfold_validation_smote, 'ROC Score':roc_scores_smote, 'Precision':precision_scores_smote,'Recall':recall_scores_smote, 'F1 Score':f1_scores_smote})\n",
        "accuracy_table_smote = accuracy_table_smote.sort_values(by=['Accuracy','K-Fold Validation','ROC Score','Precision','Recall','F1 Score'], axis=0, ascending = False)\n",
        "accuracy_table_smote.reset_index(inplace = True, drop=True)\n",
        "accuracy_table_smote.index += 1\n",
        "accuracy_table_smote"
      ]
    },
    {
      "cell_type": "code",
      "execution_count": null,
      "id": "df3a5eaa",
      "metadata": {
        "id": "df3a5eaa"
      },
      "outputs": [],
      "source": [
        "dfi.export(accuracy_table_smote, 'smote.png')"
      ]
    },
    {
      "cell_type": "markdown",
      "id": "2967eb84",
      "metadata": {
        "id": "2967eb84"
      },
      "source": [
        "### Model Development with SMOTE with feature selection"
      ]
    },
    {
      "cell_type": "code",
      "execution_count": null,
      "id": "9c4f6fd5",
      "metadata": {
        "id": "9c4f6fd5"
      },
      "outputs": [],
      "source": [
        "x_smote_feat = sdf[['age','hypertension','heart_disease','work_type','avg_glucose_level','bmi','smoking_status']]\n",
        "y_smote_feat = sdf['stroke']"
      ]
    },
    {
      "cell_type": "code",
      "execution_count": null,
      "id": "8b37b4a3",
      "metadata": {
        "id": "8b37b4a3"
      },
      "outputs": [],
      "source": [
        "x_smote_feat.head()"
      ]
    },
    {
      "cell_type": "code",
      "execution_count": null,
      "id": "39a095d1",
      "metadata": {
        "id": "39a095d1"
      },
      "outputs": [],
      "source": [
        "y_smote_feat.head()"
      ]
    },
    {
      "cell_type": "code",
      "execution_count": null,
      "id": "fc0b2cdf",
      "metadata": {
        "id": "fc0b2cdf"
      },
      "outputs": [],
      "source": [
        "#Split the data by allocating 80% for training dataset and the remaining 20% for testing dataset\n",
        "X_smote_feat_train, X_smote_feat_test, Y_smote_feat_train, Y_smote_feat_test = train_test_split(x_smote_feat, y_smote_feat, test_size = 0.2, random_state = 0)"
      ]
    },
    {
      "cell_type": "code",
      "execution_count": null,
      "id": "00c30d4c",
      "metadata": {
        "id": "00c30d4c"
      },
      "outputs": [],
      "source": [
        "#Display all the sizes of the training and testing dataset\n",
        "print ('The size of our training \"X\" (input features) is', X_smote_feat_train.shape)\n",
        "print ('\\n')\n",
        "print ('The size of our testing \"X\" (input features) is', X_smote_feat_test.shape)\n",
        "print ('\\n')\n",
        "print ('The size of our training \"Y\" (output feature) is', Y_smote_feat_train.shape)\n",
        "print ('\\n')\n",
        "print ('The size of our testing \"Y\" (output features) is', Y_smote_feat_test.shape)"
      ]
    },
    {
      "cell_type": "markdown",
      "id": "f32a1515",
      "metadata": {
        "id": "f32a1515"
      },
      "source": [
        "### Logistic Regression"
      ]
    },
    {
      "cell_type": "code",
      "execution_count": null,
      "id": "8e70cafb",
      "metadata": {
        "id": "8e70cafb"
      },
      "outputs": [],
      "source": [
        "log_smote_feat = LogisticRegression(solver='lbfgs', max_iter=10000)\n",
        "log_smote_feat.fit(X_smote_feat_train, Y_smote_feat_train)\n",
        "\n",
        "#Test set prediction\n",
        "y_smote_feat_pred_log = log_smote_feat.predict(X_smote_feat_test)\n",
        "y_pred_prob_log_smote_feat = log_smote_feat.predict_proba(X_smote_feat_test)[:, 1]\n",
        "cr_smote_lr_feat = classification_report(Y_smote_feat_test, y_smote_feat_pred_log)\n",
        "print(cr_smote_lr_feat)"
      ]
    },
    {
      "cell_type": "code",
      "execution_count": null,
      "id": "92564996",
      "metadata": {
        "id": "92564996"
      },
      "outputs": [],
      "source": [
        "print('Precision Score: ', round(precision_score(Y_smote_feat_test, y_smote_feat_pred_log), 2))\n",
        "print('Recall Score: ', round(recall_score(Y_smote_feat_test, y_smote_feat_pred_log), 2))\n",
        "print('F1 Score: ', round(f1_score(Y_smote_feat_test, y_smote_feat_pred_log), 2))\n",
        "lr_smote_feat_accuracy = round(accuracy_score(Y_smote_feat_test, y_smote_feat_pred_log),2)\n",
        "print(f\"Accuracy Score: {lr_smote_feat_accuracy * 100:.2f}%\")\n",
        "print('ROC AUC: ', round(roc_auc_score(Y_smote_feat_test, y_pred_prob_log_smote_feat), 2))"
      ]
    },
    {
      "cell_type": "code",
      "execution_count": null,
      "id": "9f272b9e",
      "metadata": {
        "id": "9f272b9e"
      },
      "outputs": [],
      "source": [
        "false_positive_rate, true_positive_rate, thresholds = roc_curve(Y_smote_feat_test, y_pred_prob_log_smote_feat)\n",
        "roc_auc_log_smote_feat = auc(false_positive_rate, true_positive_rate)\n",
        "\n",
        "sns.set_theme(style = 'white')\n",
        "plt.figure(figsize = (8, 8))\n",
        "plt.plot(false_positive_rate,true_positive_rate, color = '#174ab0', label = 'AUC = %0.3f' % roc_auc_log_smote_feat)\n",
        "plt.legend(loc = 'lower right')\n",
        "plt.plot([0, 1], [0, 1], linestyle = '--', color = '#b01717')\n",
        "plt.axis('tight')\n",
        "plt.ylabel('True Positive Rate')\n",
        "plt.xlabel('False Positive Rate')\n",
        "plt.savefig('ROC_SMOTE_feat_log.jpg')\n",
        "plt.show()"
      ]
    },
    {
      "cell_type": "markdown",
      "id": "e9c219b8",
      "metadata": {
        "id": "e9c219b8"
      },
      "source": [
        "Figure above shows a more detailed version of the ROC for Logistic Regression with SMOTE with feature selection, with the blue line representing the ROC for Logistic Regression with SMOTE with feature selection and the Redline representing the ROC of random chance.\n",
        "\n",
        "AUC of Logistic Regression with SMOTE with feature selection was found to be 0.852, which can be considered a good score (0.8 - 0.9 AUC) based on the rule of thumb of deciles from Hosmer and Lemeshow.\n"
      ]
    },
    {
      "cell_type": "code",
      "execution_count": null,
      "id": "b0145250",
      "metadata": {
        "id": "b0145250"
      },
      "outputs": [],
      "source": [
        "sns.heatmap(\n",
        "    confusion_matrix(Y_smote_feat_test, y_smote_feat_pred_log),\n",
        "    cmap = palette,\n",
        "    annot = True,\n",
        "    fmt = 'd',\n",
        "    yticklabels = ['No Stroke', 'Stroke'],\n",
        "    xticklabels = ['Pred No Stroke', 'Pred Stroke']\n",
        ")\n",
        "plt.title('Confusion Matrix', pad = 15, fontsize = 14)"
      ]
    },
    {
      "cell_type": "code",
      "execution_count": null,
      "id": "03290275",
      "metadata": {
        "id": "03290275"
      },
      "outputs": [],
      "source": [
        "lr_smote_feat_scores = cross_val_score(log_smote_feat, X=X_smote_feat_train, y=Y_smote_feat_train, cv=5)\n",
        "lr_smote_feat_avg_score = lr_smote_feat_scores.mean()\n",
        "lr_smote_feat_avg_score"
      ]
    },
    {
      "cell_type": "markdown",
      "id": "6549ab64",
      "metadata": {
        "id": "6549ab64"
      },
      "source": [
        "Based on the value of the mean of cross validation score with 5 folds, it is determined that the K-fold validation value of Logistic Regression with SMOTE with feature selection is 0.7920, indicating decent performance of the machine learning algorithm on a dataset."
      ]
    },
    {
      "cell_type": "markdown",
      "id": "16bcfe6b",
      "metadata": {
        "id": "16bcfe6b"
      },
      "source": [
        "### Random Forest Classifier"
      ]
    },
    {
      "cell_type": "code",
      "execution_count": null,
      "id": "e71f4f84",
      "metadata": {
        "id": "e71f4f84"
      },
      "outputs": [],
      "source": [
        "rf_smote_feat = RandomForestClassifier()\n",
        "rf_smote_feat.fit(X_smote_feat_train, Y_smote_feat_train)\n",
        "\n",
        "#Test set prediction\n",
        "y_smote_feat_pred_rf = rf_feat.predict(X_smote_feat_test)\n",
        "y_pred_prob_rf_smote_feat = rf_smote_feat.predict_proba(X_smote_feat_test)[:, 1]\n",
        "cr_smote_rf_feat = classification_report(Y_smote_feat_test, y_smote_feat_pred_rf)\n",
        "print(cr_smote_rf_feat)"
      ]
    },
    {
      "cell_type": "code",
      "execution_count": null,
      "id": "2748aece",
      "metadata": {
        "id": "2748aece"
      },
      "outputs": [],
      "source": [
        "print('Precision Score: ', round(precision_score(Y_smote_feat_test, y_smote_feat_pred_rf), 2))\n",
        "print('Recall Score: ', round(recall_score(Y_smote_feat_test, y_smote_feat_pred_rf), 2))\n",
        "print('F1 Score: ', round(f1_score(Y_smote_feat_test, y_smote_feat_pred_rf), 2))\n",
        "rf_smote_feat_accuracy = round(accuracy_score(Y_smote_feat_test, y_smote_feat_pred_rf),2)\n",
        "print(f\"Accuracy Score: {rf_smote_feat_accuracy * 100:.2f}%\")\n",
        "print('ROC AUC: ', round(roc_auc_score(Y_smote_feat_test, y_pred_prob_rf_smote_feat), 2))"
      ]
    },
    {
      "cell_type": "code",
      "execution_count": null,
      "id": "0e8d382e",
      "metadata": {
        "id": "0e8d382e"
      },
      "outputs": [],
      "source": [
        "false_positive_rate, true_positive_rate, thresholds = roc_curve(Y_smote_feat_test, y_pred_prob_rf_smote_feat)\n",
        "roc_auc_rf_smote_feat = auc(false_positive_rate, true_positive_rate)\n",
        "\n",
        "sns.set_theme(style = 'white')\n",
        "plt.figure(figsize = (8, 8))\n",
        "plt.plot(false_positive_rate,true_positive_rate, color = '#174ab0', label = 'AUC = %0.3f' % roc_auc_rf_smote_feat)\n",
        "plt.legend(loc = 'lower right')\n",
        "plt.plot([0, 1], [0, 1], linestyle = '--', color = '#b01717')\n",
        "plt.axis('tight')\n",
        "plt.ylabel('True Positive Rate')\n",
        "plt.xlabel('False Positive Rate')\n",
        "plt.savefig('ROC_SMOTE_feat_rf.jpg')\n",
        "plt.show()"
      ]
    },
    {
      "cell_type": "markdown",
      "id": "9d0413ac",
      "metadata": {
        "id": "9d0413ac"
      },
      "source": [
        "Figure above shows a more detailed version of the ROC for Random Forest Classifier with SMOTE with feature selection, with the blue line representing the ROC for Random Forest Classifier with SMOTE with feature selection and the Redline representing the ROC of random chance.\n",
        "\n",
        "AUC of Random Forest Classifier with SMOTE with feature selection was found to be 0.985, which can be considered an excellent score (0.9 - 1.0 AUC) based on the rule of thumb of deciles from Hosmer and Lemeshow.\n"
      ]
    },
    {
      "cell_type": "code",
      "execution_count": null,
      "id": "5fd16b1f",
      "metadata": {
        "id": "5fd16b1f"
      },
      "outputs": [],
      "source": [
        "sns.heatmap(\n",
        "    confusion_matrix(Y_smote_feat_test, y_smote_feat_pred_rf),\n",
        "    cmap = palette,\n",
        "    annot = True,\n",
        "    fmt = 'd',\n",
        "    yticklabels = ['No Stroke', 'Stroke'],\n",
        "    xticklabels = ['Pred No Stroke', 'Pred Stroke']\n",
        ")\n",
        "plt.title('Confusion Matrix', pad = 15, fontsize = 14)"
      ]
    },
    {
      "cell_type": "code",
      "execution_count": null,
      "id": "d46ab287",
      "metadata": {
        "id": "d46ab287"
      },
      "outputs": [],
      "source": [
        "rf_smote_feat_scores = cross_val_score(rf_smote_feat, X=X_smote_feat_train, y=Y_smote_feat_train, cv=5)\n",
        "rf_smote_feat_avg_score = rf_smote_feat_scores.mean()\n",
        "rf_smote_feat_avg_score"
      ]
    },
    {
      "cell_type": "markdown",
      "id": "25b4d115",
      "metadata": {
        "id": "25b4d115"
      },
      "source": [
        "Based on the value of the mean of cross validation score with 5 folds, it is determined that the K-fold validation value of Random Forest Classifier with SMOTE with feature selection is 0.931, indicating excellent performance of the machine learning algorithm on a dataset.\n"
      ]
    },
    {
      "cell_type": "markdown",
      "id": "133540c7",
      "metadata": {
        "id": "133540c7"
      },
      "source": [
        "### K-Nearest Neighbors"
      ]
    },
    {
      "cell_type": "code",
      "execution_count": null,
      "id": "b4ef568a",
      "metadata": {
        "id": "b4ef568a"
      },
      "outputs": [],
      "source": [
        "knn_smote_feat = KNeighborsClassifier()\n",
        "knn_smote_feat.fit(X_smote_feat_train, Y_smote_feat_train)\n",
        "\n",
        "y_smote_feat_pred_knn = knn_smote_feat.predict(X_smote_feat_test)\n",
        "y_pred_prob_knn_smote_feat = knn_smote_feat.predict_proba(X_smote_feat_test)[:, 1]\n",
        "cr_smote_knn_feat = classification_report(Y_smote_feat_test, y_smote_feat_pred_knn)\n",
        "print(cr_smote_knn_feat)"
      ]
    },
    {
      "cell_type": "code",
      "execution_count": null,
      "id": "a73e412f",
      "metadata": {
        "id": "a73e412f"
      },
      "outputs": [],
      "source": [
        "print('Precision Score: ', round(precision_score(Y_smote_feat_test, y_smote_feat_pred_knn), 2))\n",
        "print('Recall Score: ', round(recall_score(Y_smote_feat_test, y_smote_feat_pred_knn), 2))\n",
        "print('F1 Score: ', round(f1_score(Y_smote_feat_test, y_smote_feat_pred_knn), 2))\n",
        "knn_smote_feat_accuracy = round(accuracy_score(Y_smote_feat_test, y_smote_feat_pred_knn),2)\n",
        "print(f\"Accuracy Score: {knn_smote_feat_accuracy * 100:.2f}%\")\n",
        "print('ROC AUC: ', round(roc_auc_score(Y_smote_feat_test, y_pred_prob_knn_smote_feat), 2))"
      ]
    },
    {
      "cell_type": "code",
      "execution_count": null,
      "id": "13b02d17",
      "metadata": {
        "id": "13b02d17"
      },
      "outputs": [],
      "source": [
        "false_positive_rate, true_positive_rate, thresholds = roc_curve(Y_smote_feat_test, y_pred_prob_knn_smote_feat)\n",
        "roc_auc_knn_smote_feat = auc(false_positive_rate, true_positive_rate)\n",
        "\n",
        "sns.set_theme(style = 'white')\n",
        "plt.figure(figsize = (8, 8))\n",
        "plt.plot(false_positive_rate,true_positive_rate, color = '#174ab0', label = 'AUC = %0.3f' % roc_auc_knn_smote_feat)\n",
        "plt.legend(loc = 'lower right')\n",
        "plt.plot([0, 1], [0, 1], linestyle = '--', color = '#b01717')\n",
        "plt.axis('tight')\n",
        "plt.ylabel('True Positive Rate')\n",
        "plt.xlabel('False Positive Rate')\n",
        "plt.savefig('ROC_SMOTE_feat_knn.jpg')\n",
        "plt.show()"
      ]
    },
    {
      "cell_type": "markdown",
      "id": "4b2a1d50",
      "metadata": {
        "id": "4b2a1d50"
      },
      "source": [
        "Figure above shows a more detailed version of the ROC for K - Nearest Neighbours With SMOTE with feature selection, with the blue line representing the ROC for K - Nearest Neighbours With SMOTE with feature selection and the Redline representing the ROC of random chance.\n",
        "\n",
        "AUC of K - Nearest Neighbours With SMOTE with feature selection was found to be 0.949, which can be considered an excellent score (0.9 - 1.0 AUC) based on the rule of thumb of deciles from Hosmer and Lemeshow."
      ]
    },
    {
      "cell_type": "code",
      "execution_count": null,
      "id": "88c0fa0b",
      "metadata": {
        "id": "88c0fa0b"
      },
      "outputs": [],
      "source": [
        "sns.heatmap(\n",
        "    confusion_matrix(Y_smote_feat_test, y_smote_feat_pred_knn),\n",
        "    cmap = palette,\n",
        "    annot = True,\n",
        "    fmt = 'd',\n",
        "    yticklabels = ['No Stroke', 'Stroke'],\n",
        "    xticklabels = ['Pred No Stroke', 'Pred Stroke']\n",
        ")\n",
        "plt.title('Confusion Matrix', pad = 15, fontsize = 14)"
      ]
    },
    {
      "cell_type": "code",
      "execution_count": null,
      "id": "1ccce210",
      "metadata": {
        "id": "1ccce210"
      },
      "outputs": [],
      "source": [
        "knn_smote_feat_scores = cross_val_score(knn_smote_feat, X=X_smote_feat_train, y=Y_smote_feat_train, cv=5)\n",
        "knn_smote_feat_avg_score = knn_smote_feat_scores.mean()\n",
        "knn_smote_feat_avg_score"
      ]
    },
    {
      "cell_type": "markdown",
      "id": "ac0e6d60",
      "metadata": {
        "id": "ac0e6d60"
      },
      "source": [
        "Based on the value of the mean of cross validation score with 5 folds, it is determined that the K-fold validation value of K - Nearest Neighbours With SMOTE with feature selection is 0.881, indicating good performance of the machine learning algorithm on a dataset.\n"
      ]
    },
    {
      "cell_type": "markdown",
      "id": "63356b12",
      "metadata": {
        "id": "63356b12"
      },
      "source": [
        "### Decision Tree Classifier"
      ]
    },
    {
      "cell_type": "code",
      "execution_count": null,
      "id": "c691a7e9",
      "metadata": {
        "id": "c691a7e9"
      },
      "outputs": [],
      "source": [
        "dtc_smote_feat = DecisionTreeClassifier()\n",
        "dtc_smote_feat.fit(X_smote_feat_train, Y_smote_feat_train)\n",
        "\n",
        "#Test set prediction\n",
        "y_smote_feat_pred_dtc = dtc_smote_feat.predict(X_smote_feat_test)\n",
        "y_pred_prob_dtc_smote_feat = dtc_smote_feat.predict_proba(X_smote_feat_test)[:, 1]\n",
        "cr_smote_dtc_feat = classification_report(Y_smote_feat_test, y_smote_feat_pred_dtc)\n",
        "print(cr_smote_dtc_feat)"
      ]
    },
    {
      "cell_type": "code",
      "execution_count": null,
      "id": "30f8055e",
      "metadata": {
        "id": "30f8055e"
      },
      "outputs": [],
      "source": [
        "print('Precision Score: ', round(precision_score(Y_smote_feat_test, y_smote_feat_pred_dtc), 2))\n",
        "print('Recall Score: ', round(recall_score(Y_smote_feat_test, y_smote_feat_pred_dtc), 2))\n",
        "print('F1 Score: ', round(f1_score(Y_smote_feat_test, y_smote_feat_pred_dtc), 2))\n",
        "dtc_smote_feat_accuracy = round(accuracy_score(Y_smote_feat_test, y_smote_feat_pred_dtc),2)\n",
        "print(f\"Accuracy Score: {dtc_smote_feat_accuracy * 100:.2f}%\")\n",
        "print('ROC AUC: ', round(roc_auc_score(Y_smote_feat_test, y_pred_prob_dtc_smote_feat), 2))"
      ]
    },
    {
      "cell_type": "code",
      "execution_count": null,
      "id": "78bca3b0",
      "metadata": {
        "id": "78bca3b0"
      },
      "outputs": [],
      "source": [
        "false_positive_rate, true_positive_rate, thresholds = roc_curve(Y_smote_feat_test, y_pred_prob_dtc_smote_feat)\n",
        "roc_auc_dtc_smote_feat = auc(false_positive_rate, true_positive_rate)\n",
        "\n",
        "sns.set_theme(style = 'white')\n",
        "plt.figure(figsize = (8, 8))\n",
        "plt.plot(false_positive_rate,true_positive_rate, color = '#174ab0', label = 'AUC = %0.3f' % roc_auc_dtc_smote_feat)\n",
        "plt.legend(loc = 'lower right')\n",
        "plt.plot([0, 1], [0, 1], linestyle = '--', color = '#b01717')\n",
        "plt.axis('tight')\n",
        "plt.ylabel('True Positive Rate')\n",
        "plt.xlabel('False Positive Rate')\n",
        "plt.savefig('ROC_SMOTE_feat_dtc.jpg')\n",
        "plt.show()"
      ]
    },
    {
      "cell_type": "markdown",
      "id": "034adb5f",
      "metadata": {
        "id": "034adb5f"
      },
      "source": [
        "Figure above shows a more detailed version of the ROC for Decision Tree Classifier With SMOTE with feature selection, with the blue line representing the ROC for Decision Tree Classifier With SMOTE with feature selection and the Redline representing the ROC of random chance.\n",
        "\n",
        "AUC of Decision Tree Classifier With SMOTE with feature selection was found to be 0.918, which can be considered an excellent score (0.9 - 1.0 AUC) based on the rule of thumb of deciles from Hosmer and Lemeshow."
      ]
    },
    {
      "cell_type": "code",
      "execution_count": null,
      "id": "ec5499e3",
      "metadata": {
        "id": "ec5499e3"
      },
      "outputs": [],
      "source": [
        "sns.heatmap(\n",
        "    confusion_matrix(Y_smote_feat_test, y_smote_feat_pred_dtc),\n",
        "    cmap = palette,\n",
        "    annot = True,\n",
        "    fmt = 'd',\n",
        "    yticklabels = ['No Stroke', 'Stroke'],\n",
        "    xticklabels = ['Pred No Stroke', 'Pred Stroke']\n",
        ")\n",
        "plt.title('Confusion Matrix', pad = 15, fontsize = 14)"
      ]
    },
    {
      "cell_type": "code",
      "execution_count": null,
      "id": "e991e218",
      "metadata": {
        "id": "e991e218"
      },
      "outputs": [],
      "source": [
        "dtc_smote_feat_scores = cross_val_score(dtc_smote_feat, X=X_smote_feat_train, y=Y_smote_feat_train, cv=5)\n",
        "dtc_smote_feat_avg_score = dtc_smote_feat_scores.mean()\n",
        "dtc_smote_feat_avg_score"
      ]
    },
    {
      "cell_type": "markdown",
      "id": "6fd32e8f",
      "metadata": {
        "id": "6fd32e8f"
      },
      "source": [
        "Based on the value of the mean of cross validation score with 5 folds, it is determined that the K-fold validation value of Decision Tree Classifier With SMOTE with feature selection is 0.893, indicating good performance of the machine learning algorithm on a dataset.\n"
      ]
    },
    {
      "cell_type": "markdown",
      "id": "8e47c056",
      "metadata": {
        "id": "8e47c056"
      },
      "source": [
        "### Naive Bayes"
      ]
    },
    {
      "cell_type": "code",
      "execution_count": null,
      "id": "7b7662f4",
      "metadata": {
        "id": "7b7662f4"
      },
      "outputs": [],
      "source": [
        "nb_smote_feat = GaussianNB()\n",
        "nb_smote_feat.fit(X_smote_feat_train, Y_smote_feat_train)\n",
        "\n",
        "#Test set prediction\n",
        "y_smote_feat_pred_nb = nb_feat.predict(X_smote_feat_test)\n",
        "y_pred_prob_nb_smote_feat = nb_smote_feat.predict_proba(X_smote_feat_test)[:, 1]\n",
        "cr_smote_nb_feat = classification_report(Y_smote_feat_test, y_smote_feat_pred_nb)\n",
        "print(cr_smote_nb_feat)"
      ]
    },
    {
      "cell_type": "code",
      "execution_count": null,
      "id": "07a66b18",
      "metadata": {
        "id": "07a66b18"
      },
      "outputs": [],
      "source": [
        "print('Precision Score: ', round(precision_score(Y_smote_feat_test, y_smote_feat_pred_nb), 2))\n",
        "print('Recall Score: ', round(recall_score(Y_smote_feat_test, y_smote_feat_pred_nb), 2))\n",
        "print('F1 Score: ', round(f1_score(Y_smote_feat_test, y_smote_feat_pred_nb), 2))\n",
        "nb_smote_feat_accuracy = round(accuracy_score(Y_smote_feat_test, y_smote_feat_pred_nb),2)\n",
        "print(f\"Accuracy Score: {nb_smote_feat_accuracy * 100:.2f}%\")\n",
        "print('ROC AUC: ', round(roc_auc_score(Y_smote_feat_test, y_pred_prob_nb_smote_feat), 2))"
      ]
    },
    {
      "cell_type": "code",
      "execution_count": null,
      "id": "86139d85",
      "metadata": {
        "id": "86139d85"
      },
      "outputs": [],
      "source": [
        "false_positive_rate, true_positive_rate, thresholds = roc_curve(Y_smote_feat_test, y_pred_prob_nb_smote_feat)\n",
        "roc_auc_nb_smote_feat = auc(false_positive_rate, true_positive_rate)\n",
        "\n",
        "sns.set_theme(style = 'white')\n",
        "plt.figure(figsize = (8, 8))\n",
        "plt.plot(false_positive_rate,true_positive_rate, color = '#174ab0', label = 'AUC = %0.3f' % roc_auc_nb_smote_feat)\n",
        "plt.legend(loc = 'lower right')\n",
        "plt.plot([0, 1], [0, 1], linestyle = '--', color = '#b01717')\n",
        "plt.axis('tight')\n",
        "plt.ylabel('True Positive Rate')\n",
        "plt.xlabel('False Positive Rate')\n",
        "plt.savefig('ROC_SMOTE_feat_nb.jpg')\n",
        "plt.show()"
      ]
    },
    {
      "cell_type": "markdown",
      "id": "9dd525d9",
      "metadata": {
        "id": "9dd525d9"
      },
      "source": [
        "Figure above shows a more detailed version of the ROC for Naive Bayes With SMOTE with feature selection, with the blue line representing the ROC for Naive Bayes With SMOTE with feature selection and the Redline representing the ROC of random chance.\n",
        "\n",
        "AUC of Naive Bayes With SMOTE with feature selection was found to be 0.867, which can be considered a good score (0.8 - 0.9 AUC) based on the rule of thumb of deciles from Hosmer and Lemeshow."
      ]
    },
    {
      "cell_type": "code",
      "execution_count": null,
      "id": "712793bf",
      "metadata": {
        "id": "712793bf"
      },
      "outputs": [],
      "source": [
        "sns.heatmap(\n",
        "    confusion_matrix(Y_smote_feat_test, y_smote_feat_pred_nb),\n",
        "    cmap = palette,\n",
        "    annot = True,\n",
        "    fmt = 'd',\n",
        "    yticklabels = ['No Stroke', 'Stroke'],\n",
        "    xticklabels = ['Pred No Stroke', 'Pred Stroke']\n",
        ")\n",
        "plt.title('Confusion Matrix', pad = 15, fontsize = 14)"
      ]
    },
    {
      "cell_type": "code",
      "execution_count": null,
      "id": "c5c8efe4",
      "metadata": {
        "id": "c5c8efe4"
      },
      "outputs": [],
      "source": [
        "nb_smote_feat_scores = cross_val_score(nb_smote_feat, X=X_smote_feat_train, y=Y_smote_feat_train, cv=5)\n",
        "nb_smote_feat_avg_score = nb_smote_feat_scores.mean()\n",
        "nb_smote_feat_avg_score"
      ]
    },
    {
      "cell_type": "markdown",
      "id": "5d9b5c92",
      "metadata": {
        "id": "5d9b5c92"
      },
      "source": [
        "Based on the value of the mean of cross validation score with 5 folds, it is determined that the K-fold validation value of Naive Bayes With SMOTE with feature selection is 0.786, indicating decent performance of the machine learning algorithm on a dataset.\n"
      ]
    },
    {
      "cell_type": "code",
      "execution_count": null,
      "id": "d31e71e6",
      "metadata": {
        "id": "d31e71e6"
      },
      "outputs": [],
      "source": [
        "model_names_smote_feat = ['Logistic Regresstion', 'Naive Bayes', 'K-Nearest Neighbours', 'Decision Tree Classifier', 'Random Forest Classifier']\n",
        "accuracies_smote_feat = [lr_smote_feat_accuracy, nb_smote_feat_accuracy, knn_smote_feat_accuracy, dtc_smote_feat_accuracy, rf_smote_feat_accuracy]\n",
        "kfold_validation_smote_feat = [lr_smote_feat_avg_score, nb_smote_feat_avg_score, knn_smote_feat_avg_score, dtc_smote_feat_avg_score, rf_smote_feat_avg_score]\n",
        "roc_scores_smote_feat = [roc_auc_score(Y_smote_feat_test, y_pred_prob_log_smote_feat), roc_auc_score(Y_smote_feat_test, y_pred_prob_nb_smote_feat), roc_auc_score(Y_smote_feat_test, y_pred_prob_knn_smote_feat), roc_auc_score(Y_smote_feat_test, y_pred_prob_dtc_smote_feat), roc_auc_score(Y_smote_feat_test, y_pred_prob_rf_smote_feat)]\n",
        "precision_scores_smote_feat = [precision_score(Y_smote_feat_test, y_smote_feat_pred_log), precision_score(Y_smote_feat_test, y_smote_feat_pred_nb), precision_score(Y_smote_feat_test, y_smote_feat_pred_knn), precision_score(Y_smote_feat_test, y_smote_feat_pred_dtc), precision_score(Y_smote_feat_test, y_smote_feat_pred_rf)]\n",
        "recall_scores_smote_feat = [recall_score(Y_smote_feat_test, y_smote_feat_pred_log), recall_score(Y_smote_feat_test, y_smote_feat_pred_nb), recall_score(Y_smote_feat_test, y_smote_feat_pred_knn), recall_score(Y_smote_feat_test, y_smote_feat_pred_dtc), recall_score(Y_smote_feat_test, y_smote_feat_pred_rf)]\n",
        "f1_scores_smote_feat = [f1_score(Y_smote_feat_test, y_smote_feat_pred_log), f1_score(Y_smote_feat_test, y_smote_feat_pred_nb), f1_score(Y_smote_feat_test, y_smote_feat_pred_knn), f1_score(Y_smote_feat_test, y_smote_feat_pred_dtc), f1_score(Y_smote_feat_test, y_smote_feat_pred_rf)]\n",
        "accuracy_table_smote_feat = pd.DataFrame({'Model':model_names_smote_feat, 'Accuracy':accuracies_smote_feat,'K-Fold Validation':kfold_validation_smote_feat, 'ROC Score':roc_scores_smote_feat, 'Precision':precision_scores_smote_feat,'Recall':recall_scores_smote_feat, 'F1 Score':f1_scores_smote_feat})\n",
        "accuracy_table_smote_feat = accuracy_table_smote_feat.sort_values(by=['Accuracy','K-Fold Validation','ROC Score','Precision','Recall','F1 Score'], axis=0, ascending = False)\n",
        "accuracy_table_smote_feat.reset_index(inplace = True, drop=True)\n",
        "accuracy_table_smote_feat.index += 1\n",
        "accuracy_table_smote_feat"
      ]
    },
    {
      "cell_type": "code",
      "execution_count": null,
      "id": "2a567591",
      "metadata": {
        "id": "2a567591"
      },
      "outputs": [],
      "source": [
        "dfi.export(accuracy_table_smote_feat, 'smote_feat.png')"
      ]
    }
  ],
  "metadata": {
    "kernelspec": {
      "display_name": "Python 3 (ipykernel)",
      "language": "python",
      "name": "python3"
    },
    "language_info": {
      "codemirror_mode": {
        "name": "ipython",
        "version": 3
      },
      "file_extension": ".py",
      "mimetype": "text/x-python",
      "name": "python",
      "nbconvert_exporter": "python",
      "pygments_lexer": "ipython3",
      "version": "3.9.7"
    },
    "colab": {
      "provenance": []
    }
  },
  "nbformat": 4,
  "nbformat_minor": 5
}